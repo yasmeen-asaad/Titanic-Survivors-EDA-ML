{
 "cells": [
  {
   "cell_type": "code",
   "execution_count": 1,
   "id": "f95b5006",
   "metadata": {
    "_cell_guid": "b1076dfc-b9ad-4769-8c92-a6c4dae69d19",
    "_uuid": "8f2839f25d086af736a60e9eeb907d3b93b6e0e5",
    "execution": {
     "iopub.execute_input": "2021-10-18T11:08:47.080456Z",
     "iopub.status.busy": "2021-10-18T11:08:47.079447Z",
     "iopub.status.idle": "2021-10-18T11:08:47.089936Z",
     "shell.execute_reply": "2021-10-18T11:08:47.090687Z",
     "shell.execute_reply.started": "2021-10-18T11:07:52.709677Z"
    },
    "papermill": {
     "duration": 0.119951,
     "end_time": "2021-10-18T11:08:47.091120",
     "exception": false,
     "start_time": "2021-10-18T11:08:46.971169",
     "status": "completed"
    },
    "tags": []
   },
   "outputs": [
    {
     "name": "stdout",
     "output_type": "stream",
     "text": [
      "/kaggle/input/titanic/train.csv\n",
      "/kaggle/input/titanic/test.csv\n",
      "/kaggle/input/titanic/gender_submission.csv\n"
     ]
    }
   ],
   "source": [
    "# This Python 3 environment comes with many helpful analytics libraries installed\n",
    "# It is defined by the kaggle/python Docker image: https://github.com/kaggle/docker-python\n",
    "# For example, here's several helpful packages to load\n",
    "\n",
    "import numpy as np # linear algebra\n",
    "import pandas as pd # data processing, CSV file I/O (e.g. pd.read_csv)\n",
    "\n",
    "# Input data files are available in the read-only \"../input/\" directory\n",
    "# For example, running this (by clicking run or pressing Shift+Enter) will list all files under the input directory\n",
    "\n",
    "import os\n",
    "for dirname, _, filenames in os.walk('/kaggle/input'):\n",
    "    for filename in filenames:\n",
    "        print(os.path.join(dirname, filename))\n",
    "\n",
    "# You can write up to 20GB to the current directory (/kaggle/working/) that gets preserved as output when you create a version using \"Save & Run All\" \n",
    "# You can also write temporary files to /kaggle/temp/, but they won't be saved outside of the current session"
   ]
  },
  {
   "cell_type": "code",
   "execution_count": 2,
   "id": "9cdfe7a8",
   "metadata": {
    "execution": {
     "iopub.execute_input": "2021-10-18T11:08:47.316181Z",
     "iopub.status.busy": "2021-10-18T11:08:47.315406Z",
     "iopub.status.idle": "2021-10-18T11:08:48.220388Z",
     "shell.execute_reply": "2021-10-18T11:08:48.219646Z",
     "shell.execute_reply.started": "2021-10-18T11:07:52.745242Z"
    },
    "papermill": {
     "duration": 1.046366,
     "end_time": "2021-10-18T11:08:48.220538",
     "exception": false,
     "start_time": "2021-10-18T11:08:47.174172",
     "status": "completed"
    },
    "tags": []
   },
   "outputs": [],
   "source": [
    "import pandas as pd \n",
    "import numpy as np\n",
    "import matplotlib.pyplot as plt\n",
    "import seaborn as sns\n",
    "import math"
   ]
  },
  {
   "cell_type": "code",
   "execution_count": 3,
   "id": "1c5d0cd7",
   "metadata": {
    "execution": {
     "iopub.execute_input": "2021-10-18T11:08:48.387507Z",
     "iopub.status.busy": "2021-10-18T11:08:48.386624Z",
     "iopub.status.idle": "2021-10-18T11:08:48.415994Z",
     "shell.execute_reply": "2021-10-18T11:08:48.415392Z",
     "shell.execute_reply.started": "2021-10-18T11:07:53.679131Z"
    },
    "papermill": {
     "duration": 0.114411,
     "end_time": "2021-10-18T11:08:48.416154",
     "exception": false,
     "start_time": "2021-10-18T11:08:48.301743",
     "status": "completed"
    },
    "tags": []
   },
   "outputs": [],
   "source": [
    "# Reading Data\n",
    "train_url = '/kaggle/input/titanic/train.csv'\n",
    "test_url =  '/kaggle/input/titanic/test.csv'\n",
    "\n",
    "train = pd.read_csv(train_url) \n",
    "test = pd.read_csv(test_url) "
   ]
  },
  {
   "cell_type": "code",
   "execution_count": 4,
   "id": "7ab33436",
   "metadata": {
    "execution": {
     "iopub.execute_input": "2021-10-18T11:08:48.600132Z",
     "iopub.status.busy": "2021-10-18T11:08:48.599426Z",
     "iopub.status.idle": "2021-10-18T11:08:48.602374Z",
     "shell.execute_reply": "2021-10-18T11:08:48.603011Z",
     "shell.execute_reply.started": "2021-10-18T11:07:53.712220Z"
    },
    "papermill": {
     "duration": 0.107168,
     "end_time": "2021-10-18T11:08:48.603181",
     "exception": false,
     "start_time": "2021-10-18T11:08:48.496013",
     "status": "completed"
    },
    "tags": []
   },
   "outputs": [
    {
     "name": "stdout",
     "output_type": "stream",
     "text": [
      "<class 'pandas.core.frame.DataFrame'>\n",
      "RangeIndex: 891 entries, 0 to 890\n",
      "Data columns (total 12 columns):\n",
      " #   Column       Non-Null Count  Dtype  \n",
      "---  ------       --------------  -----  \n",
      " 0   PassengerId  891 non-null    int64  \n",
      " 1   Survived     891 non-null    int64  \n",
      " 2   Pclass       891 non-null    int64  \n",
      " 3   Name         891 non-null    object \n",
      " 4   Sex          891 non-null    object \n",
      " 5   Age          714 non-null    float64\n",
      " 6   SibSp        891 non-null    int64  \n",
      " 7   Parch        891 non-null    int64  \n",
      " 8   Ticket       891 non-null    object \n",
      " 9   Fare         891 non-null    float64\n",
      " 10  Cabin        204 non-null    object \n",
      " 11  Embarked     889 non-null    object \n",
      "dtypes: float64(2), int64(5), object(5)\n",
      "memory usage: 83.7+ KB\n"
     ]
    }
   ],
   "source": [
    "# Age, Cabin, Embarked\n",
    "train.info()"
   ]
  },
  {
   "cell_type": "code",
   "execution_count": 5,
   "id": "e838062f",
   "metadata": {
    "execution": {
     "iopub.execute_input": "2021-10-18T11:08:48.769853Z",
     "iopub.status.busy": "2021-10-18T11:08:48.769219Z",
     "iopub.status.idle": "2021-10-18T11:08:48.788888Z",
     "shell.execute_reply": "2021-10-18T11:08:48.788232Z",
     "shell.execute_reply.started": "2021-10-18T11:07:53.741829Z"
    },
    "papermill": {
     "duration": 0.106493,
     "end_time": "2021-10-18T11:08:48.789044",
     "exception": false,
     "start_time": "2021-10-18T11:08:48.682551",
     "status": "completed"
    },
    "tags": []
   },
   "outputs": [
    {
     "data": {
      "text/html": [
       "<div>\n",
       "<style scoped>\n",
       "    .dataframe tbody tr th:only-of-type {\n",
       "        vertical-align: middle;\n",
       "    }\n",
       "\n",
       "    .dataframe tbody tr th {\n",
       "        vertical-align: top;\n",
       "    }\n",
       "\n",
       "    .dataframe thead th {\n",
       "        text-align: right;\n",
       "    }\n",
       "</style>\n",
       "<table border=\"1\" class=\"dataframe\">\n",
       "  <thead>\n",
       "    <tr style=\"text-align: right;\">\n",
       "      <th></th>\n",
       "      <th>PassengerId</th>\n",
       "      <th>Survived</th>\n",
       "      <th>Pclass</th>\n",
       "      <th>Name</th>\n",
       "      <th>Sex</th>\n",
       "      <th>Age</th>\n",
       "      <th>SibSp</th>\n",
       "      <th>Parch</th>\n",
       "      <th>Ticket</th>\n",
       "      <th>Fare</th>\n",
       "      <th>Cabin</th>\n",
       "      <th>Embarked</th>\n",
       "    </tr>\n",
       "  </thead>\n",
       "  <tbody>\n",
       "    <tr>\n",
       "      <th>0</th>\n",
       "      <td>1</td>\n",
       "      <td>0</td>\n",
       "      <td>3</td>\n",
       "      <td>Braund, Mr. Owen Harris</td>\n",
       "      <td>male</td>\n",
       "      <td>22.0</td>\n",
       "      <td>1</td>\n",
       "      <td>0</td>\n",
       "      <td>A/5 21171</td>\n",
       "      <td>7.2500</td>\n",
       "      <td>NaN</td>\n",
       "      <td>S</td>\n",
       "    </tr>\n",
       "    <tr>\n",
       "      <th>1</th>\n",
       "      <td>2</td>\n",
       "      <td>1</td>\n",
       "      <td>1</td>\n",
       "      <td>Cumings, Mrs. John Bradley (Florence Briggs Th...</td>\n",
       "      <td>female</td>\n",
       "      <td>38.0</td>\n",
       "      <td>1</td>\n",
       "      <td>0</td>\n",
       "      <td>PC 17599</td>\n",
       "      <td>71.2833</td>\n",
       "      <td>C85</td>\n",
       "      <td>C</td>\n",
       "    </tr>\n",
       "    <tr>\n",
       "      <th>2</th>\n",
       "      <td>3</td>\n",
       "      <td>1</td>\n",
       "      <td>3</td>\n",
       "      <td>Heikkinen, Miss. Laina</td>\n",
       "      <td>female</td>\n",
       "      <td>26.0</td>\n",
       "      <td>0</td>\n",
       "      <td>0</td>\n",
       "      <td>STON/O2. 3101282</td>\n",
       "      <td>7.9250</td>\n",
       "      <td>NaN</td>\n",
       "      <td>S</td>\n",
       "    </tr>\n",
       "    <tr>\n",
       "      <th>3</th>\n",
       "      <td>4</td>\n",
       "      <td>1</td>\n",
       "      <td>1</td>\n",
       "      <td>Futrelle, Mrs. Jacques Heath (Lily May Peel)</td>\n",
       "      <td>female</td>\n",
       "      <td>35.0</td>\n",
       "      <td>1</td>\n",
       "      <td>0</td>\n",
       "      <td>113803</td>\n",
       "      <td>53.1000</td>\n",
       "      <td>C123</td>\n",
       "      <td>S</td>\n",
       "    </tr>\n",
       "    <tr>\n",
       "      <th>4</th>\n",
       "      <td>5</td>\n",
       "      <td>0</td>\n",
       "      <td>3</td>\n",
       "      <td>Allen, Mr. William Henry</td>\n",
       "      <td>male</td>\n",
       "      <td>35.0</td>\n",
       "      <td>0</td>\n",
       "      <td>0</td>\n",
       "      <td>373450</td>\n",
       "      <td>8.0500</td>\n",
       "      <td>NaN</td>\n",
       "      <td>S</td>\n",
       "    </tr>\n",
       "  </tbody>\n",
       "</table>\n",
       "</div>"
      ],
      "text/plain": [
       "   PassengerId  Survived  Pclass  \\\n",
       "0            1         0       3   \n",
       "1            2         1       1   \n",
       "2            3         1       3   \n",
       "3            4         1       1   \n",
       "4            5         0       3   \n",
       "\n",
       "                                                Name     Sex   Age  SibSp  \\\n",
       "0                            Braund, Mr. Owen Harris    male  22.0      1   \n",
       "1  Cumings, Mrs. John Bradley (Florence Briggs Th...  female  38.0      1   \n",
       "2                             Heikkinen, Miss. Laina  female  26.0      0   \n",
       "3       Futrelle, Mrs. Jacques Heath (Lily May Peel)  female  35.0      1   \n",
       "4                           Allen, Mr. William Henry    male  35.0      0   \n",
       "\n",
       "   Parch            Ticket     Fare Cabin Embarked  \n",
       "0      0         A/5 21171   7.2500   NaN        S  \n",
       "1      0          PC 17599  71.2833   C85        C  \n",
       "2      0  STON/O2. 3101282   7.9250   NaN        S  \n",
       "3      0            113803  53.1000  C123        S  \n",
       "4      0            373450   8.0500   NaN        S  "
      ]
     },
     "execution_count": 5,
     "metadata": {},
     "output_type": "execute_result"
    }
   ],
   "source": [
    "train.head()"
   ]
  },
  {
   "cell_type": "code",
   "execution_count": 6,
   "id": "c0fcbba8",
   "metadata": {
    "execution": {
     "iopub.execute_input": "2021-10-18T11:08:48.968841Z",
     "iopub.status.busy": "2021-10-18T11:08:48.963562Z",
     "iopub.status.idle": "2021-10-18T11:08:48.977912Z",
     "shell.execute_reply": "2021-10-18T11:08:48.977361Z",
     "shell.execute_reply.started": "2021-10-18T11:07:53.770762Z"
    },
    "papermill": {
     "duration": 0.108984,
     "end_time": "2021-10-18T11:08:48.978084",
     "exception": false,
     "start_time": "2021-10-18T11:08:48.869100",
     "status": "completed"
    },
    "tags": []
   },
   "outputs": [],
   "source": [
    "# All function needed for new features \n",
    "def Correct_Age(age):\n",
    "    return math.ceil(age)\n",
    "\n",
    "def Get_Title(sentance):\n",
    "    for w in sentance.split():\n",
    "        if \".\" in w:\n",
    "            return w.replace(\".\", \"\").lower()       \n",
    "\n",
    "def Get_Surname(sentance):\n",
    "    return sentance.split()[0].replace(\",\", \"\")\n",
    "\n",
    "def Correct_Title(df):\n",
    "    # mlle, ms, countess, mme, lady  ---> miss\n",
    "    miss_list = [\"mlle\", \"ms\", \"countess\", \"mme\", \"lady\"]\n",
    "    for i in miss_list:\n",
    "        df.loc[df.Title == i, \"Title\"] = \"miss\"\n",
    "    \n",
    "    # Compine passenger who work in value job or has ranked title together in special \n",
    "    job_title = ['don', 'rev', 'dr', 'major', 'sir','col', 'capt', 'jonkheer']  \n",
    "    for i in job_title:\n",
    "        df.loc[df.Title == i, \"Title\"] = \"special\"\n",
    "    \n",
    "    # Get Master Ages\n",
    "    max_age = df[df.Title == \"master\"][\"Age\"].max()\n",
    "    \n",
    "    #Specify Girl category in Title to miss's with age <= max master age\n",
    "    girls = (df.Title == \"miss\") & (df.Age <= max_age)\n",
    "    df.loc[girls, \"Title\"] = \"girl\"\n",
    "\n",
    "    return df[\"Title\"]\n",
    "\n",
    "def Get_Child(df):\n",
    "    \n",
    "    df[\"child\"] = 0\n",
    "    \n",
    "    # master and girl categories only \n",
    "    child_cat = (df.Title == \"master\") | (df.Title == \"girl\")\n",
    "    \n",
    "    # Assign 1 in child column to child_cat \n",
    "    df.loc[child_cat, \"child\"] = 1  \n",
    "    return df[\"child\"]\n",
    "\n",
    "def Fill_null_age(df):\n",
    "    df['Age'] = df['Age'].fillna(df.groupby('Title')['Age'].transform('median'))\n",
    "    return df['Age']\n",
    "\n",
    "def Correct_Cabin(df):\n",
    "    \n",
    "    # Get \"Cabin\" values that have more than one cabin\n",
    "    combined_cabin = [c for c in df[\"Cabin\"].unique()[1:] if (len(c) > 4) and (c[0] != \"F\")]\n",
    "    f_combined_cabins = [c for c in df[\"Cabin\"].unique()[1:] if (len(c) > 4) and (c[0] == \"F\")]\n",
    "    \n",
    "    #  take just the first cabin for them all combined_cabin\n",
    "    for cc in combined_cabin:\n",
    "        df.loc[df.Cabin == cc, \"Cabin\"] = cc.split()[0].strip()\n",
    "    \n",
    "    for cc in f_combined_cabins:\n",
    "        df.loc[df.Cabin == cc, \"Cabin\"] = cc.split()[1]\n",
    "    \n",
    "\n",
    "\n",
    "def Get_CabinClass(df):\n",
    "    # Cabin_values {'A', 'B', 'C', 'D', 'E', 'F', 'G', 'unknown'}\n",
    "    #--------------{ 7,   6,   5,   4,   3,   2,   1,     0}\n",
    "    CabinClass = df[\"Cabin\"].str[0]\n",
    "    mapping = {'A': 7,\n",
    "               'B': 6,\n",
    "               'C': 5,\n",
    "               'D': 4,\n",
    "               'E': 3,\n",
    "               'F': 2,\n",
    "               'G': 1}\n",
    "    return CabinClass.map(mapping)\n",
    "\n",
    "def Get_CabinNumber(df):\n",
    "    # Add new feature, the number of cabin\n",
    "    df[\"CabinNum\"] = df[\"Cabin\"].str[1:].replace(\"\", \"0\").astype(float)\n",
    "    return df[\"CabinNum\"]\n",
    "\n",
    "def fill_nan_cabine(pclass, nan_length):\n",
    "\n",
    "    # Cabin_values {'A', 'B', 'C', 'D', 'E', 'F', 'G', 'unknown'}\n",
    "    #--------------{ 7,   6,   5,   4,   3,   2,   1,     0}\n",
    "    \n",
    "    # Cabin_values for each pclass\n",
    "    # pclass 1 --> {A', 'B', 'C', 'D', 'E'}\n",
    "    # pclass 2 ----------------->{'D', 'E', 'F'}\n",
    "    # pclass 3 ---------------------->{'E', 'F', 'G'}\n",
    "    \n",
    "    # Generate random cabins and return it\n",
    "    if pclass == 1:\n",
    "        return pd.Series(np.random.randint(3, 8, nan_length)).values\n",
    "        \n",
    "    elif pclass == 2:\n",
    "        return pd.Series(np.random.randint(2, 5, nan_length)).values\n",
    "        \n",
    "    else:\n",
    "        return pd.Series(np.zeros(nan_length)).values\n",
    "    \n",
    "def fill_nan_cabine_number(nan_length):\n",
    "    return np.random.randint(1, 150, nan_length)\n",
    "\n",
    "def Get_HaveCabin(df):\n",
    "    df[\"HaveCabin\"] = df[\"CabinClass\"].notnull()\n",
    "    return df[\"HaveCabin\"]\n",
    "\n",
    "\n",
    "def cal_position_x(num):\n",
    "    # right > left cause the crush happen first in right side of the  ship\n",
    "    # unknown -->0\n",
    "    # left --> 1\n",
    "    # right --> 2\n",
    "    if math.isnan(num) == False:\n",
    "        if num % 2 == 0:\n",
    "            # left --> even\n",
    "            return 1\n",
    "        else:\n",
    "            return 2\n",
    "    else:\n",
    "        return 0\n",
    "        \n",
    "def cal_position_y(num):\n",
    "    # Since The front half of the ship reaches the bottom first\n",
    "    # unknown -->0\n",
    "    # back --> 1\n",
    "    # middle --> 2\n",
    "    # front --> 3\n",
    "    \n",
    "    if math.isnan(num) == False:\n",
    "        if num <= 45:\n",
    "            # the front part \n",
    "            return 3\n",
    "        elif ((num >= 46) and (num <= 90)):\n",
    "            # the middle part\n",
    "            return 2\n",
    "        elif num > 90:\n",
    "            return 1\n",
    "    else:\n",
    "        return 0"
   ]
  },
  {
   "cell_type": "code",
   "execution_count": 7,
   "id": "e849addb",
   "metadata": {
    "execution": {
     "iopub.execute_input": "2021-10-18T11:08:49.146562Z",
     "iopub.status.busy": "2021-10-18T11:08:49.145557Z",
     "iopub.status.idle": "2021-10-18T11:08:49.361516Z",
     "shell.execute_reply": "2021-10-18T11:08:49.360970Z",
     "shell.execute_reply.started": "2021-10-18T11:07:53.799399Z"
    },
    "papermill": {
     "duration": 0.302628,
     "end_time": "2021-10-18T11:08:49.361676",
     "exception": false,
     "start_time": "2021-10-18T11:08:49.059048",
     "status": "completed"
    },
    "tags": []
   },
   "outputs": [
    {
     "name": "stdout",
     "output_type": "stream",
     "text": [
      "0    0.616162\n",
      "1    0.383838\n",
      "Name: Survived, dtype: float64\n"
     ]
    },
    {
     "data": {
      "image/png": "[encoded data removed]",
      "text/plain": [
       "<Figure size 432x288 with 1 Axes>"
      ]
     },
     "metadata": {
      "needs_background": "light"
     },
     "output_type": "display_data"
    }
   ],
   "source": [
    "# Traveller who Servived VS. who died \n",
    "print(train[\"Survived\"].value_counts(normalize=True))\n",
    "\n",
    "sns.countplot(x=\"Survived\", data=train).set_xticklabels([\"Servived\", \"Dead\"])\n",
    "plt.title(\"Dead  VS. Servived \")\n",
    "plt.xlabel(\"\");"
   ]
  },
  {
   "cell_type": "markdown",
   "id": "5827a1d9",
   "metadata": {
    "papermill": {
     "duration": 0.081822,
     "end_time": "2021-10-18T11:08:49.524382",
     "exception": false,
     "start_time": "2021-10-18T11:08:49.442560",
     "status": "completed"
    },
    "tags": []
   },
   "source": [
    "Note :\n",
    "According to this dataset <br>Who died > Who survived"
   ]
  },
  {
   "cell_type": "code",
   "execution_count": 8,
   "id": "0cb91ee5",
   "metadata": {
    "execution": {
     "iopub.execute_input": "2021-10-18T11:08:49.694509Z",
     "iopub.status.busy": "2021-10-18T11:08:49.689377Z",
     "iopub.status.idle": "2021-10-18T11:08:50.016043Z",
     "shell.execute_reply": "2021-10-18T11:08:50.015361Z",
     "shell.execute_reply.started": "2021-10-18T11:07:54.042874Z"
    },
    "papermill": {
     "duration": 0.410459,
     "end_time": "2021-10-18T11:08:50.016288",
     "exception": false,
     "start_time": "2021-10-18T11:08:49.605829",
     "status": "completed"
    },
    "tags": []
   },
   "outputs": [
    {
     "name": "stdout",
     "output_type": "stream",
     "text": [
      "Sex     Survived\n",
      "male    0           468\n",
      "female  1           233\n",
      "male    1           109\n",
      "female  0            81\n",
      "dtype: int64\n"
     ]
    },
    {
     "data": {
      "image/png": "[encoded data removed]",
      "text/plain": [
       "<Figure size 432x288 with 1 Axes>"
      ]
     },
     "metadata": {
      "needs_background": "light"
     },
     "output_type": "display_data"
    }
   ],
   "source": [
    "# Traveller's gender who Servived VS. who died \n",
    "print(train[[\"Sex\", \"Survived\"]].value_counts())\n",
    "\n",
    "plt.title(\"Dead  VS. Servived \");\n",
    "sns.countplot(x=\"Survived\", hue=\"Sex\", data=train);"
   ]
  },
  {
   "cell_type": "markdown",
   "id": "3eb4eb02",
   "metadata": {
    "papermill": {
     "duration": 0.080973,
     "end_time": "2021-10-18T11:08:50.179693",
     "exception": false,
     "start_time": "2021-10-18T11:08:50.098720",
     "status": "completed"
    },
    "tags": []
   },
   "source": [
    "Note:\n",
    "Survived Female > Survived male\n",
    "Dead female < than Dead male"
   ]
  },
  {
   "cell_type": "code",
   "execution_count": 9,
   "id": "67d07f13",
   "metadata": {
    "execution": {
     "iopub.execute_input": "2021-10-18T11:08:50.346731Z",
     "iopub.status.busy": "2021-10-18T11:08:50.345758Z",
     "iopub.status.idle": "2021-10-18T11:08:50.355053Z",
     "shell.execute_reply": "2021-10-18T11:08:50.355561Z",
     "shell.execute_reply.started": "2021-10-18T11:07:54.434881Z"
    },
    "papermill": {
     "duration": 0.094807,
     "end_time": "2021-10-18T11:08:50.355727",
     "exception": false,
     "start_time": "2021-10-18T11:08:50.260920",
     "status": "completed"
    },
    "tags": []
   },
   "outputs": [
    {
     "name": "stdout",
     "output_type": "stream",
     "text": [
      "Pclass  Survived\n",
      "1       1           0.629630\n",
      "        0           0.370370\n",
      "2       0           0.527174\n",
      "        1           0.472826\n",
      "3       0           0.757637\n",
      "        1           0.242363\n",
      "Name: Survived, dtype: float64\n"
     ]
    }
   ],
   "source": [
    "# Traveller's class who Servived VS. who died \n",
    "print(train.groupby(\"Pclass\")[\"Survived\"].value_counts(normalize=True))"
   ]
  },
  {
   "cell_type": "markdown",
   "id": "3d2e18ca",
   "metadata": {
    "papermill": {
     "duration": 0.082187,
     "end_time": "2021-10-18T11:08:50.519781",
     "exception": false,
     "start_time": "2021-10-18T11:08:50.437594",
     "status": "completed"
    },
    "tags": []
   },
   "source": [
    "Note: <br>\n",
    "class 1 has the least Death <br>\n",
    "class 1 has the most Survivors <br>\n",
    "\n",
    "class 3 has the most Death <br>\n",
    "\n",
    "Survivors:<br>\n",
    "class 1 > class 2 > class 3<br>\n",
    "\n",
    "Death:<br>\n",
    "class 3 > class 2 > class 1<br>"
   ]
  },
  {
   "cell_type": "code",
   "execution_count": 10,
   "id": "71b2d0ef",
   "metadata": {
    "execution": {
     "iopub.execute_input": "2021-10-18T11:08:50.690482Z",
     "iopub.status.busy": "2021-10-18T11:08:50.689467Z",
     "iopub.status.idle": "2021-10-18T11:08:51.222807Z",
     "shell.execute_reply": "2021-10-18T11:08:51.222270Z",
     "shell.execute_reply.started": "2021-10-18T11:07:54.448347Z"
    },
    "papermill": {
     "duration": 0.621634,
     "end_time": "2021-10-18T11:08:51.222970",
     "exception": false,
     "start_time": "2021-10-18T11:08:50.601336",
     "status": "completed"
    },
    "tags": []
   },
   "outputs": [
    {
     "name": "stdout",
     "output_type": "stream",
     "text": [
      "Pclass  Sex     Survived\n",
      "1       female  1           0.968085\n",
      "                0           0.031915\n",
      "        male    0           0.631148\n",
      "                1           0.368852\n",
      "2       female  1           0.921053\n",
      "                0           0.078947\n",
      "        male    0           0.842593\n",
      "                1           0.157407\n",
      "3       female  0           0.500000\n",
      "                1           0.500000\n",
      "        male    0           0.864553\n",
      "                1           0.135447\n",
      "Name: Survived, dtype: float64\n"
     ]
    },
    {
     "data": {
      "image/png": "[encoded data removed]",
      "text/plain": [
       "<Figure size 1080x360 with 3 Axes>"
      ]
     },
     "metadata": {
      "needs_background": "light"
     },
     "output_type": "display_data"
    }
   ],
   "source": [
    "# Traveller's class who Servived VS. who died \n",
    "print(train.groupby([\"Pclass\", \"Sex\"])[\"Survived\"].value_counts(normalize=True))\n",
    "sns.catplot(x=\"Sex\", y=\"Survived\", col=\"Pclass\", kind=\"bar\", ci=None, data=train);"
   ]
  },
  {
   "cell_type": "markdown",
   "id": "0c6d25c6",
   "metadata": {
    "papermill": {
     "duration": 0.082835,
     "end_time": "2021-10-18T11:08:51.388356",
     "exception": false,
     "start_time": "2021-10-18T11:08:51.305521",
     "status": "completed"
    },
    "tags": []
   },
   "source": [
    "Note: <br>\n",
    "Most of Survivors in all classes were Females "
   ]
  },
  {
   "cell_type": "markdown",
   "id": "337c9923",
   "metadata": {
    "papermill": {
     "duration": 0.08424,
     "end_time": "2021-10-18T11:08:51.555674",
     "exception": false,
     "start_time": "2021-10-18T11:08:51.471434",
     "status": "completed"
    },
    "tags": []
   },
   "source": [
    "==========================================="
   ]
  },
  {
   "cell_type": "markdown",
   "id": "926ee718",
   "metadata": {
    "papermill": {
     "duration": 0.082646,
     "end_time": "2021-10-18T11:08:51.721455",
     "exception": false,
     "start_time": "2021-10-18T11:08:51.638809",
     "status": "completed"
    },
    "tags": []
   },
   "source": [
    "# Explore columns in Titanic data set"
   ]
  },
  {
   "cell_type": "markdown",
   "id": "20bd0175",
   "metadata": {
    "papermill": {
     "duration": 0.082507,
     "end_time": "2021-10-18T11:08:51.887082",
     "exception": false,
     "start_time": "2021-10-18T11:08:51.804575",
     "status": "completed"
    },
    "tags": []
   },
   "source": [
    "##  Explore Age column"
   ]
  },
  {
   "cell_type": "code",
   "execution_count": 11,
   "id": "8577ecec",
   "metadata": {
    "execution": {
     "iopub.execute_input": "2021-10-18T11:08:52.063087Z",
     "iopub.status.busy": "2021-10-18T11:08:52.059823Z",
     "iopub.status.idle": "2021-10-18T11:08:52.066353Z",
     "shell.execute_reply": "2021-10-18T11:08:52.066871Z",
     "shell.execute_reply.started": "2021-10-18T11:07:55.027181Z"
    },
    "papermill": {
     "duration": 0.096841,
     "end_time": "2021-10-18T11:08:52.067069",
     "exception": false,
     "start_time": "2021-10-18T11:08:51.970228",
     "status": "completed"
    },
    "tags": []
   },
   "outputs": [
    {
     "data": {
      "text/plain": [
       "count    714.000000\n",
       "mean      29.699118\n",
       "std       14.526497\n",
       "min        0.420000\n",
       "25%       20.125000\n",
       "50%       28.000000\n",
       "75%       38.000000\n",
       "max       80.000000\n",
       "Name: Age, dtype: float64"
      ]
     },
     "execution_count": 11,
     "metadata": {},
     "output_type": "execute_result"
    }
   ],
   "source": [
    "# Explore Age column\n",
    "train[\"Age\"].describe()"
   ]
  },
  {
   "cell_type": "markdown",
   "id": "404c60fc",
   "metadata": {
    "papermill": {
     "duration": 0.083998,
     "end_time": "2021-10-18T11:08:52.234119",
     "exception": false,
     "start_time": "2021-10-18T11:08:52.150121",
     "status": "completed"
    },
    "tags": []
   },
   "source": [
    "Note: <br> It dosen't make sense to have age less than 1 !!\n"
   ]
  },
  {
   "cell_type": "code",
   "execution_count": 12,
   "id": "ca8af0ce",
   "metadata": {
    "execution": {
     "iopub.execute_input": "2021-10-18T11:08:52.417998Z",
     "iopub.status.busy": "2021-10-18T11:08:52.417322Z",
     "iopub.status.idle": "2021-10-18T11:08:52.419967Z",
     "shell.execute_reply": "2021-10-18T11:08:52.420450Z",
     "shell.execute_reply.started": "2021-10-18T11:07:55.042817Z"
    },
    "papermill": {
     "duration": 0.103074,
     "end_time": "2021-10-18T11:08:52.420636",
     "exception": false,
     "start_time": "2021-10-18T11:08:52.317562",
     "status": "completed"
    },
    "tags": []
   },
   "outputs": [
    {
     "data": {
      "text/html": [
       "<div>\n",
       "<style scoped>\n",
       "    .dataframe tbody tr th:only-of-type {\n",
       "        vertical-align: middle;\n",
       "    }\n",
       "\n",
       "    .dataframe tbody tr th {\n",
       "        vertical-align: top;\n",
       "    }\n",
       "\n",
       "    .dataframe thead th {\n",
       "        text-align: right;\n",
       "    }\n",
       "</style>\n",
       "<table border=\"1\" class=\"dataframe\">\n",
       "  <thead>\n",
       "    <tr style=\"text-align: right;\">\n",
       "      <th></th>\n",
       "      <th>PassengerId</th>\n",
       "      <th>Survived</th>\n",
       "      <th>Pclass</th>\n",
       "      <th>Name</th>\n",
       "      <th>Sex</th>\n",
       "      <th>Age</th>\n",
       "      <th>SibSp</th>\n",
       "      <th>Parch</th>\n",
       "      <th>Ticket</th>\n",
       "      <th>Fare</th>\n",
       "      <th>Cabin</th>\n",
       "      <th>Embarked</th>\n",
       "    </tr>\n",
       "  </thead>\n",
       "  <tbody>\n",
       "    <tr>\n",
       "      <th>305</th>\n",
       "      <td>306</td>\n",
       "      <td>1</td>\n",
       "      <td>1</td>\n",
       "      <td>Allison, Master. Hudson Trevor</td>\n",
       "      <td>male</td>\n",
       "      <td>0.92</td>\n",
       "      <td>1</td>\n",
       "      <td>2</td>\n",
       "      <td>113781</td>\n",
       "      <td>151.5500</td>\n",
       "      <td>C22 C26</td>\n",
       "      <td>S</td>\n",
       "    </tr>\n",
       "    <tr>\n",
       "      <th>78</th>\n",
       "      <td>79</td>\n",
       "      <td>1</td>\n",
       "      <td>2</td>\n",
       "      <td>Caldwell, Master. Alden Gates</td>\n",
       "      <td>male</td>\n",
       "      <td>0.83</td>\n",
       "      <td>0</td>\n",
       "      <td>2</td>\n",
       "      <td>248738</td>\n",
       "      <td>29.0000</td>\n",
       "      <td>NaN</td>\n",
       "      <td>S</td>\n",
       "    </tr>\n",
       "    <tr>\n",
       "      <th>755</th>\n",
       "      <td>756</td>\n",
       "      <td>1</td>\n",
       "      <td>2</td>\n",
       "      <td>Hamalainen, Master. Viljo</td>\n",
       "      <td>male</td>\n",
       "      <td>0.67</td>\n",
       "      <td>1</td>\n",
       "      <td>1</td>\n",
       "      <td>250649</td>\n",
       "      <td>14.5000</td>\n",
       "      <td>NaN</td>\n",
       "      <td>S</td>\n",
       "    </tr>\n",
       "    <tr>\n",
       "      <th>831</th>\n",
       "      <td>832</td>\n",
       "      <td>1</td>\n",
       "      <td>2</td>\n",
       "      <td>Richards, Master. George Sibley</td>\n",
       "      <td>male</td>\n",
       "      <td>0.83</td>\n",
       "      <td>1</td>\n",
       "      <td>1</td>\n",
       "      <td>29106</td>\n",
       "      <td>18.7500</td>\n",
       "      <td>NaN</td>\n",
       "      <td>S</td>\n",
       "    </tr>\n",
       "    <tr>\n",
       "      <th>469</th>\n",
       "      <td>470</td>\n",
       "      <td>1</td>\n",
       "      <td>3</td>\n",
       "      <td>Baclini, Miss. Helene Barbara</td>\n",
       "      <td>female</td>\n",
       "      <td>0.75</td>\n",
       "      <td>2</td>\n",
       "      <td>1</td>\n",
       "      <td>2666</td>\n",
       "      <td>19.2583</td>\n",
       "      <td>NaN</td>\n",
       "      <td>C</td>\n",
       "    </tr>\n",
       "    <tr>\n",
       "      <th>644</th>\n",
       "      <td>645</td>\n",
       "      <td>1</td>\n",
       "      <td>3</td>\n",
       "      <td>Baclini, Miss. Eugenie</td>\n",
       "      <td>female</td>\n",
       "      <td>0.75</td>\n",
       "      <td>2</td>\n",
       "      <td>1</td>\n",
       "      <td>2666</td>\n",
       "      <td>19.2583</td>\n",
       "      <td>NaN</td>\n",
       "      <td>C</td>\n",
       "    </tr>\n",
       "    <tr>\n",
       "      <th>803</th>\n",
       "      <td>804</td>\n",
       "      <td>1</td>\n",
       "      <td>3</td>\n",
       "      <td>Thomas, Master. Assad Alexander</td>\n",
       "      <td>male</td>\n",
       "      <td>0.42</td>\n",
       "      <td>0</td>\n",
       "      <td>1</td>\n",
       "      <td>2625</td>\n",
       "      <td>8.5167</td>\n",
       "      <td>NaN</td>\n",
       "      <td>C</td>\n",
       "    </tr>\n",
       "  </tbody>\n",
       "</table>\n",
       "</div>"
      ],
      "text/plain": [
       "     PassengerId  Survived  Pclass                             Name     Sex  \\\n",
       "305          306         1       1   Allison, Master. Hudson Trevor    male   \n",
       "78            79         1       2    Caldwell, Master. Alden Gates    male   \n",
       "755          756         1       2        Hamalainen, Master. Viljo    male   \n",
       "831          832         1       2  Richards, Master. George Sibley    male   \n",
       "469          470         1       3    Baclini, Miss. Helene Barbara  female   \n",
       "644          645         1       3           Baclini, Miss. Eugenie  female   \n",
       "803          804         1       3  Thomas, Master. Assad Alexander    male   \n",
       "\n",
       "      Age  SibSp  Parch  Ticket      Fare    Cabin Embarked  \n",
       "305  0.92      1      2  113781  151.5500  C22 C26        S  \n",
       "78   0.83      0      2  248738   29.0000      NaN        S  \n",
       "755  0.67      1      1  250649   14.5000      NaN        S  \n",
       "831  0.83      1      1   29106   18.7500      NaN        S  \n",
       "469  0.75      2      1    2666   19.2583      NaN        C  \n",
       "644  0.75      2      1    2666   19.2583      NaN        C  \n",
       "803  0.42      0      1    2625    8.5167      NaN        C  "
      ]
     },
     "execution_count": 12,
     "metadata": {},
     "output_type": "execute_result"
    }
   ],
   "source": [
    "# Get columns that have age less than 1\n",
    "train[train[\"Age\"] < 1].sort_values(\"Pclass\")"
   ]
  },
  {
   "cell_type": "markdown",
   "id": "91f1b407",
   "metadata": {
    "papermill": {
     "duration": 0.083499,
     "end_time": "2021-10-18T11:08:52.588522",
     "exception": false,
     "start_time": "2021-10-18T11:08:52.505023",
     "status": "completed"
    },
    "tags": []
   },
   "source": [
    "Proplems to Explore:<br>\n",
    "1- Are people with master title in their name, Children ???<br>\n",
    "2- Are passengers with id 470, 645 sibiling ??<br>"
   ]
  },
  {
   "cell_type": "code",
   "execution_count": 13,
   "id": "752e22a7",
   "metadata": {
    "execution": {
     "iopub.execute_input": "2021-10-18T11:08:52.761814Z",
     "iopub.status.busy": "2021-10-18T11:08:52.761021Z",
     "iopub.status.idle": "2021-10-18T11:08:52.818065Z",
     "shell.execute_reply": "2021-10-18T11:08:52.817528Z",
     "shell.execute_reply.started": "2021-10-18T11:07:55.071326Z"
    },
    "papermill": {
     "duration": 0.145551,
     "end_time": "2021-10-18T11:08:52.818213",
     "exception": false,
     "start_time": "2021-10-18T11:08:52.672662",
     "status": "completed"
    },
    "tags": []
   },
   "outputs": [
    {
     "data": {
      "text/html": [
       "<div>\n",
       "<style scoped>\n",
       "    .dataframe tbody tr th:only-of-type {\n",
       "        vertical-align: middle;\n",
       "    }\n",
       "\n",
       "    .dataframe tbody tr th {\n",
       "        vertical-align: top;\n",
       "    }\n",
       "\n",
       "    .dataframe thead th {\n",
       "        text-align: right;\n",
       "    }\n",
       "</style>\n",
       "<table border=\"1\" class=\"dataframe\">\n",
       "  <thead>\n",
       "    <tr style=\"text-align: right;\">\n",
       "      <th></th>\n",
       "      <th>PassengerId</th>\n",
       "      <th>Survived</th>\n",
       "      <th>Pclass</th>\n",
       "      <th>Name</th>\n",
       "      <th>Sex</th>\n",
       "      <th>Age</th>\n",
       "      <th>SibSp</th>\n",
       "      <th>Parch</th>\n",
       "      <th>Ticket</th>\n",
       "      <th>Fare</th>\n",
       "      <th>Cabin</th>\n",
       "      <th>Embarked</th>\n",
       "    </tr>\n",
       "  </thead>\n",
       "  <tbody>\n",
       "    <tr>\n",
       "      <th>305</th>\n",
       "      <td>306</td>\n",
       "      <td>1</td>\n",
       "      <td>1</td>\n",
       "      <td>Allison, Master. Hudson Trevor</td>\n",
       "      <td>male</td>\n",
       "      <td>0.92</td>\n",
       "      <td>1</td>\n",
       "      <td>2</td>\n",
       "      <td>113781</td>\n",
       "      <td>151.5500</td>\n",
       "      <td>C22 C26</td>\n",
       "      <td>S</td>\n",
       "    </tr>\n",
       "    <tr>\n",
       "      <th>445</th>\n",
       "      <td>446</td>\n",
       "      <td>1</td>\n",
       "      <td>1</td>\n",
       "      <td>Dodge, Master. Washington</td>\n",
       "      <td>male</td>\n",
       "      <td>4.00</td>\n",
       "      <td>0</td>\n",
       "      <td>2</td>\n",
       "      <td>33638</td>\n",
       "      <td>81.8583</td>\n",
       "      <td>A34</td>\n",
       "      <td>S</td>\n",
       "    </tr>\n",
       "    <tr>\n",
       "      <th>802</th>\n",
       "      <td>803</td>\n",
       "      <td>1</td>\n",
       "      <td>1</td>\n",
       "      <td>Carter, Master. William Thornton II</td>\n",
       "      <td>male</td>\n",
       "      <td>11.00</td>\n",
       "      <td>1</td>\n",
       "      <td>2</td>\n",
       "      <td>113760</td>\n",
       "      <td>120.0000</td>\n",
       "      <td>B96 B98</td>\n",
       "      <td>S</td>\n",
       "    </tr>\n",
       "    <tr>\n",
       "      <th>340</th>\n",
       "      <td>341</td>\n",
       "      <td>1</td>\n",
       "      <td>2</td>\n",
       "      <td>Navratil, Master. Edmond Roger</td>\n",
       "      <td>male</td>\n",
       "      <td>2.00</td>\n",
       "      <td>1</td>\n",
       "      <td>1</td>\n",
       "      <td>230080</td>\n",
       "      <td>26.0000</td>\n",
       "      <td>F2</td>\n",
       "      <td>S</td>\n",
       "    </tr>\n",
       "    <tr>\n",
       "      <th>193</th>\n",
       "      <td>194</td>\n",
       "      <td>1</td>\n",
       "      <td>2</td>\n",
       "      <td>Navratil, Master. Michel M</td>\n",
       "      <td>male</td>\n",
       "      <td>3.00</td>\n",
       "      <td>1</td>\n",
       "      <td>1</td>\n",
       "      <td>230080</td>\n",
       "      <td>26.0000</td>\n",
       "      <td>F2</td>\n",
       "      <td>S</td>\n",
       "    </tr>\n",
       "    <tr>\n",
       "      <th>183</th>\n",
       "      <td>184</td>\n",
       "      <td>1</td>\n",
       "      <td>2</td>\n",
       "      <td>Becker, Master. Richard F</td>\n",
       "      <td>male</td>\n",
       "      <td>1.00</td>\n",
       "      <td>2</td>\n",
       "      <td>1</td>\n",
       "      <td>230136</td>\n",
       "      <td>39.0000</td>\n",
       "      <td>F4</td>\n",
       "      <td>S</td>\n",
       "    </tr>\n",
       "    <tr>\n",
       "      <th>549</th>\n",
       "      <td>550</td>\n",
       "      <td>1</td>\n",
       "      <td>2</td>\n",
       "      <td>Davies, Master. John Morgan Jr</td>\n",
       "      <td>male</td>\n",
       "      <td>8.00</td>\n",
       "      <td>1</td>\n",
       "      <td>1</td>\n",
       "      <td>C.A. 33112</td>\n",
       "      <td>36.7500</td>\n",
       "      <td>NaN</td>\n",
       "      <td>S</td>\n",
       "    </tr>\n",
       "    <tr>\n",
       "      <th>755</th>\n",
       "      <td>756</td>\n",
       "      <td>1</td>\n",
       "      <td>2</td>\n",
       "      <td>Hamalainen, Master. Viljo</td>\n",
       "      <td>male</td>\n",
       "      <td>0.67</td>\n",
       "      <td>1</td>\n",
       "      <td>1</td>\n",
       "      <td>250649</td>\n",
       "      <td>14.5000</td>\n",
       "      <td>NaN</td>\n",
       "      <td>S</td>\n",
       "    </tr>\n",
       "    <tr>\n",
       "      <th>827</th>\n",
       "      <td>828</td>\n",
       "      <td>1</td>\n",
       "      <td>2</td>\n",
       "      <td>Mallet, Master. Andre</td>\n",
       "      <td>male</td>\n",
       "      <td>1.00</td>\n",
       "      <td>0</td>\n",
       "      <td>2</td>\n",
       "      <td>S.C./PARIS 2079</td>\n",
       "      <td>37.0042</td>\n",
       "      <td>NaN</td>\n",
       "      <td>C</td>\n",
       "    </tr>\n",
       "    <tr>\n",
       "      <th>831</th>\n",
       "      <td>832</td>\n",
       "      <td>1</td>\n",
       "      <td>2</td>\n",
       "      <td>Richards, Master. George Sibley</td>\n",
       "      <td>male</td>\n",
       "      <td>0.83</td>\n",
       "      <td>1</td>\n",
       "      <td>1</td>\n",
       "      <td>29106</td>\n",
       "      <td>18.7500</td>\n",
       "      <td>NaN</td>\n",
       "      <td>S</td>\n",
       "    </tr>\n",
       "    <tr>\n",
       "      <th>78</th>\n",
       "      <td>79</td>\n",
       "      <td>1</td>\n",
       "      <td>2</td>\n",
       "      <td>Caldwell, Master. Alden Gates</td>\n",
       "      <td>male</td>\n",
       "      <td>0.83</td>\n",
       "      <td>0</td>\n",
       "      <td>2</td>\n",
       "      <td>248738</td>\n",
       "      <td>29.0000</td>\n",
       "      <td>NaN</td>\n",
       "      <td>S</td>\n",
       "    </tr>\n",
       "    <tr>\n",
       "      <th>407</th>\n",
       "      <td>408</td>\n",
       "      <td>1</td>\n",
       "      <td>2</td>\n",
       "      <td>Richards, Master. William Rowe</td>\n",
       "      <td>male</td>\n",
       "      <td>3.00</td>\n",
       "      <td>1</td>\n",
       "      <td>1</td>\n",
       "      <td>29106</td>\n",
       "      <td>18.7500</td>\n",
       "      <td>NaN</td>\n",
       "      <td>S</td>\n",
       "    </tr>\n",
       "    <tr>\n",
       "      <th>788</th>\n",
       "      <td>789</td>\n",
       "      <td>1</td>\n",
       "      <td>3</td>\n",
       "      <td>Dean, Master. Bertram Vere</td>\n",
       "      <td>male</td>\n",
       "      <td>1.00</td>\n",
       "      <td>1</td>\n",
       "      <td>2</td>\n",
       "      <td>C.A. 2315</td>\n",
       "      <td>20.5750</td>\n",
       "      <td>NaN</td>\n",
       "      <td>S</td>\n",
       "    </tr>\n",
       "    <tr>\n",
       "      <th>787</th>\n",
       "      <td>788</td>\n",
       "      <td>0</td>\n",
       "      <td>3</td>\n",
       "      <td>Rice, Master. George Hugh</td>\n",
       "      <td>male</td>\n",
       "      <td>8.00</td>\n",
       "      <td>4</td>\n",
       "      <td>1</td>\n",
       "      <td>382652</td>\n",
       "      <td>29.1250</td>\n",
       "      <td>NaN</td>\n",
       "      <td>Q</td>\n",
       "    </tr>\n",
       "    <tr>\n",
       "      <th>803</th>\n",
       "      <td>804</td>\n",
       "      <td>1</td>\n",
       "      <td>3</td>\n",
       "      <td>Thomas, Master. Assad Alexander</td>\n",
       "      <td>male</td>\n",
       "      <td>0.42</td>\n",
       "      <td>0</td>\n",
       "      <td>1</td>\n",
       "      <td>2625</td>\n",
       "      <td>8.5167</td>\n",
       "      <td>NaN</td>\n",
       "      <td>C</td>\n",
       "    </tr>\n",
       "    <tr>\n",
       "      <th>751</th>\n",
       "      <td>752</td>\n",
       "      <td>1</td>\n",
       "      <td>3</td>\n",
       "      <td>Moor, Master. Meier</td>\n",
       "      <td>male</td>\n",
       "      <td>6.00</td>\n",
       "      <td>0</td>\n",
       "      <td>1</td>\n",
       "      <td>392096</td>\n",
       "      <td>12.4750</td>\n",
       "      <td>E121</td>\n",
       "      <td>S</td>\n",
       "    </tr>\n",
       "    <tr>\n",
       "      <th>709</th>\n",
       "      <td>710</td>\n",
       "      <td>1</td>\n",
       "      <td>3</td>\n",
       "      <td>Moubarek, Master. Halim Gonios (\"William George\")</td>\n",
       "      <td>male</td>\n",
       "      <td>NaN</td>\n",
       "      <td>1</td>\n",
       "      <td>1</td>\n",
       "      <td>2661</td>\n",
       "      <td>15.2458</td>\n",
       "      <td>NaN</td>\n",
       "      <td>C</td>\n",
       "    </tr>\n",
       "    <tr>\n",
       "      <th>819</th>\n",
       "      <td>820</td>\n",
       "      <td>0</td>\n",
       "      <td>3</td>\n",
       "      <td>Skoog, Master. Karl Thorsten</td>\n",
       "      <td>male</td>\n",
       "      <td>10.00</td>\n",
       "      <td>3</td>\n",
       "      <td>2</td>\n",
       "      <td>347088</td>\n",
       "      <td>27.9000</td>\n",
       "      <td>NaN</td>\n",
       "      <td>S</td>\n",
       "    </tr>\n",
       "    <tr>\n",
       "      <th>824</th>\n",
       "      <td>825</td>\n",
       "      <td>0</td>\n",
       "      <td>3</td>\n",
       "      <td>Panula, Master. Urho Abraham</td>\n",
       "      <td>male</td>\n",
       "      <td>2.00</td>\n",
       "      <td>4</td>\n",
       "      <td>1</td>\n",
       "      <td>3101295</td>\n",
       "      <td>39.6875</td>\n",
       "      <td>NaN</td>\n",
       "      <td>S</td>\n",
       "    </tr>\n",
       "    <tr>\n",
       "      <th>489</th>\n",
       "      <td>490</td>\n",
       "      <td>1</td>\n",
       "      <td>3</td>\n",
       "      <td>Coutts, Master. Eden Leslie \"Neville\"</td>\n",
       "      <td>male</td>\n",
       "      <td>9.00</td>\n",
       "      <td>1</td>\n",
       "      <td>1</td>\n",
       "      <td>C.A. 37671</td>\n",
       "      <td>15.9000</td>\n",
       "      <td>NaN</td>\n",
       "      <td>S</td>\n",
       "    </tr>\n",
       "    <tr>\n",
       "      <th>480</th>\n",
       "      <td>481</td>\n",
       "      <td>0</td>\n",
       "      <td>3</td>\n",
       "      <td>Goodwin, Master. Harold Victor</td>\n",
       "      <td>male</td>\n",
       "      <td>9.00</td>\n",
       "      <td>5</td>\n",
       "      <td>2</td>\n",
       "      <td>CA 2144</td>\n",
       "      <td>46.9000</td>\n",
       "      <td>NaN</td>\n",
       "      <td>S</td>\n",
       "    </tr>\n",
       "    <tr>\n",
       "      <th>7</th>\n",
       "      <td>8</td>\n",
       "      <td>0</td>\n",
       "      <td>3</td>\n",
       "      <td>Palsson, Master. Gosta Leonard</td>\n",
       "      <td>male</td>\n",
       "      <td>2.00</td>\n",
       "      <td>3</td>\n",
       "      <td>1</td>\n",
       "      <td>349909</td>\n",
       "      <td>21.0750</td>\n",
       "      <td>NaN</td>\n",
       "      <td>S</td>\n",
       "    </tr>\n",
       "    <tr>\n",
       "      <th>348</th>\n",
       "      <td>349</td>\n",
       "      <td>1</td>\n",
       "      <td>3</td>\n",
       "      <td>Coutts, Master. William Loch \"William\"</td>\n",
       "      <td>male</td>\n",
       "      <td>3.00</td>\n",
       "      <td>1</td>\n",
       "      <td>1</td>\n",
       "      <td>C.A. 37671</td>\n",
       "      <td>15.9000</td>\n",
       "      <td>NaN</td>\n",
       "      <td>S</td>\n",
       "    </tr>\n",
       "    <tr>\n",
       "      <th>16</th>\n",
       "      <td>17</td>\n",
       "      <td>0</td>\n",
       "      <td>3</td>\n",
       "      <td>Rice, Master. Eugene</td>\n",
       "      <td>male</td>\n",
       "      <td>2.00</td>\n",
       "      <td>4</td>\n",
       "      <td>1</td>\n",
       "      <td>382652</td>\n",
       "      <td>29.1250</td>\n",
       "      <td>NaN</td>\n",
       "      <td>Q</td>\n",
       "    </tr>\n",
       "    <tr>\n",
       "      <th>50</th>\n",
       "      <td>51</td>\n",
       "      <td>0</td>\n",
       "      <td>3</td>\n",
       "      <td>Panula, Master. Juha Niilo</td>\n",
       "      <td>male</td>\n",
       "      <td>7.00</td>\n",
       "      <td>4</td>\n",
       "      <td>1</td>\n",
       "      <td>3101295</td>\n",
       "      <td>39.6875</td>\n",
       "      <td>NaN</td>\n",
       "      <td>S</td>\n",
       "    </tr>\n",
       "    <tr>\n",
       "      <th>59</th>\n",
       "      <td>60</td>\n",
       "      <td>0</td>\n",
       "      <td>3</td>\n",
       "      <td>Goodwin, Master. William Frederick</td>\n",
       "      <td>male</td>\n",
       "      <td>11.00</td>\n",
       "      <td>5</td>\n",
       "      <td>2</td>\n",
       "      <td>CA 2144</td>\n",
       "      <td>46.9000</td>\n",
       "      <td>NaN</td>\n",
       "      <td>S</td>\n",
       "    </tr>\n",
       "    <tr>\n",
       "      <th>63</th>\n",
       "      <td>64</td>\n",
       "      <td>0</td>\n",
       "      <td>3</td>\n",
       "      <td>Skoog, Master. Harald</td>\n",
       "      <td>male</td>\n",
       "      <td>4.00</td>\n",
       "      <td>3</td>\n",
       "      <td>2</td>\n",
       "      <td>347088</td>\n",
       "      <td>27.9000</td>\n",
       "      <td>NaN</td>\n",
       "      <td>S</td>\n",
       "    </tr>\n",
       "    <tr>\n",
       "      <th>65</th>\n",
       "      <td>66</td>\n",
       "      <td>1</td>\n",
       "      <td>3</td>\n",
       "      <td>Moubarek, Master. Gerios</td>\n",
       "      <td>male</td>\n",
       "      <td>NaN</td>\n",
       "      <td>1</td>\n",
       "      <td>1</td>\n",
       "      <td>2661</td>\n",
       "      <td>15.2458</td>\n",
       "      <td>NaN</td>\n",
       "      <td>C</td>\n",
       "    </tr>\n",
       "    <tr>\n",
       "      <th>125</th>\n",
       "      <td>126</td>\n",
       "      <td>1</td>\n",
       "      <td>3</td>\n",
       "      <td>Nicola-Yarred, Master. Elias</td>\n",
       "      <td>male</td>\n",
       "      <td>12.00</td>\n",
       "      <td>1</td>\n",
       "      <td>0</td>\n",
       "      <td>2651</td>\n",
       "      <td>11.2417</td>\n",
       "      <td>NaN</td>\n",
       "      <td>C</td>\n",
       "    </tr>\n",
       "    <tr>\n",
       "      <th>159</th>\n",
       "      <td>160</td>\n",
       "      <td>0</td>\n",
       "      <td>3</td>\n",
       "      <td>Sage, Master. Thomas Henry</td>\n",
       "      <td>male</td>\n",
       "      <td>NaN</td>\n",
       "      <td>8</td>\n",
       "      <td>2</td>\n",
       "      <td>CA. 2343</td>\n",
       "      <td>69.5500</td>\n",
       "      <td>NaN</td>\n",
       "      <td>S</td>\n",
       "    </tr>\n",
       "    <tr>\n",
       "      <th>164</th>\n",
       "      <td>165</td>\n",
       "      <td>0</td>\n",
       "      <td>3</td>\n",
       "      <td>Panula, Master. Eino Viljami</td>\n",
       "      <td>male</td>\n",
       "      <td>1.00</td>\n",
       "      <td>4</td>\n",
       "      <td>1</td>\n",
       "      <td>3101295</td>\n",
       "      <td>39.6875</td>\n",
       "      <td>NaN</td>\n",
       "      <td>S</td>\n",
       "    </tr>\n",
       "    <tr>\n",
       "      <th>165</th>\n",
       "      <td>166</td>\n",
       "      <td>1</td>\n",
       "      <td>3</td>\n",
       "      <td>Goldsmith, Master. Frank John William \"Frankie\"</td>\n",
       "      <td>male</td>\n",
       "      <td>9.00</td>\n",
       "      <td>0</td>\n",
       "      <td>2</td>\n",
       "      <td>363291</td>\n",
       "      <td>20.5250</td>\n",
       "      <td>NaN</td>\n",
       "      <td>S</td>\n",
       "    </tr>\n",
       "    <tr>\n",
       "      <th>171</th>\n",
       "      <td>172</td>\n",
       "      <td>0</td>\n",
       "      <td>3</td>\n",
       "      <td>Rice, Master. Arthur</td>\n",
       "      <td>male</td>\n",
       "      <td>4.00</td>\n",
       "      <td>4</td>\n",
       "      <td>1</td>\n",
       "      <td>382652</td>\n",
       "      <td>29.1250</td>\n",
       "      <td>NaN</td>\n",
       "      <td>Q</td>\n",
       "    </tr>\n",
       "    <tr>\n",
       "      <th>176</th>\n",
       "      <td>177</td>\n",
       "      <td>0</td>\n",
       "      <td>3</td>\n",
       "      <td>Lefebre, Master. Henry Forbes</td>\n",
       "      <td>male</td>\n",
       "      <td>NaN</td>\n",
       "      <td>3</td>\n",
       "      <td>1</td>\n",
       "      <td>4133</td>\n",
       "      <td>25.4667</td>\n",
       "      <td>NaN</td>\n",
       "      <td>S</td>\n",
       "    </tr>\n",
       "    <tr>\n",
       "      <th>182</th>\n",
       "      <td>183</td>\n",
       "      <td>0</td>\n",
       "      <td>3</td>\n",
       "      <td>Asplund, Master. Clarence Gustaf Hugo</td>\n",
       "      <td>male</td>\n",
       "      <td>9.00</td>\n",
       "      <td>4</td>\n",
       "      <td>2</td>\n",
       "      <td>347077</td>\n",
       "      <td>31.3875</td>\n",
       "      <td>NaN</td>\n",
       "      <td>S</td>\n",
       "    </tr>\n",
       "    <tr>\n",
       "      <th>261</th>\n",
       "      <td>262</td>\n",
       "      <td>1</td>\n",
       "      <td>3</td>\n",
       "      <td>Asplund, Master. Edvin Rojj Felix</td>\n",
       "      <td>male</td>\n",
       "      <td>3.00</td>\n",
       "      <td>4</td>\n",
       "      <td>2</td>\n",
       "      <td>347077</td>\n",
       "      <td>31.3875</td>\n",
       "      <td>NaN</td>\n",
       "      <td>S</td>\n",
       "    </tr>\n",
       "    <tr>\n",
       "      <th>278</th>\n",
       "      <td>279</td>\n",
       "      <td>0</td>\n",
       "      <td>3</td>\n",
       "      <td>Rice, Master. Eric</td>\n",
       "      <td>male</td>\n",
       "      <td>7.00</td>\n",
       "      <td>4</td>\n",
       "      <td>1</td>\n",
       "      <td>382652</td>\n",
       "      <td>29.1250</td>\n",
       "      <td>NaN</td>\n",
       "      <td>Q</td>\n",
       "    </tr>\n",
       "    <tr>\n",
       "      <th>850</th>\n",
       "      <td>851</td>\n",
       "      <td>0</td>\n",
       "      <td>3</td>\n",
       "      <td>Andersson, Master. Sigvard Harald Elias</td>\n",
       "      <td>male</td>\n",
       "      <td>4.00</td>\n",
       "      <td>4</td>\n",
       "      <td>2</td>\n",
       "      <td>347082</td>\n",
       "      <td>31.2750</td>\n",
       "      <td>NaN</td>\n",
       "      <td>S</td>\n",
       "    </tr>\n",
       "    <tr>\n",
       "      <th>386</th>\n",
       "      <td>387</td>\n",
       "      <td>0</td>\n",
       "      <td>3</td>\n",
       "      <td>Goodwin, Master. Sidney Leonard</td>\n",
       "      <td>male</td>\n",
       "      <td>1.00</td>\n",
       "      <td>5</td>\n",
       "      <td>2</td>\n",
       "      <td>CA 2144</td>\n",
       "      <td>46.9000</td>\n",
       "      <td>NaN</td>\n",
       "      <td>S</td>\n",
       "    </tr>\n",
       "    <tr>\n",
       "      <th>869</th>\n",
       "      <td>870</td>\n",
       "      <td>1</td>\n",
       "      <td>3</td>\n",
       "      <td>Johnson, Master. Harold Theodor</td>\n",
       "      <td>male</td>\n",
       "      <td>4.00</td>\n",
       "      <td>1</td>\n",
       "      <td>1</td>\n",
       "      <td>347742</td>\n",
       "      <td>11.1333</td>\n",
       "      <td>NaN</td>\n",
       "      <td>S</td>\n",
       "    </tr>\n",
       "  </tbody>\n",
       "</table>\n",
       "</div>"
      ],
      "text/plain": [
       "     PassengerId  Survived  Pclass  \\\n",
       "305          306         1       1   \n",
       "445          446         1       1   \n",
       "802          803         1       1   \n",
       "340          341         1       2   \n",
       "193          194         1       2   \n",
       "183          184         1       2   \n",
       "549          550         1       2   \n",
       "755          756         1       2   \n",
       "827          828         1       2   \n",
       "831          832         1       2   \n",
       "78            79         1       2   \n",
       "407          408         1       2   \n",
       "788          789         1       3   \n",
       "787          788         0       3   \n",
       "803          804         1       3   \n",
       "751          752         1       3   \n",
       "709          710         1       3   \n",
       "819          820         0       3   \n",
       "824          825         0       3   \n",
       "489          490         1       3   \n",
       "480          481         0       3   \n",
       "7              8         0       3   \n",
       "348          349         1       3   \n",
       "16            17         0       3   \n",
       "50            51         0       3   \n",
       "59            60         0       3   \n",
       "63            64         0       3   \n",
       "65            66         1       3   \n",
       "125          126         1       3   \n",
       "159          160         0       3   \n",
       "164          165         0       3   \n",
       "165          166         1       3   \n",
       "171          172         0       3   \n",
       "176          177         0       3   \n",
       "182          183         0       3   \n",
       "261          262         1       3   \n",
       "278          279         0       3   \n",
       "850          851         0       3   \n",
       "386          387         0       3   \n",
       "869          870         1       3   \n",
       "\n",
       "                                                  Name   Sex    Age  SibSp  \\\n",
       "305                     Allison, Master. Hudson Trevor  male   0.92      1   \n",
       "445                          Dodge, Master. Washington  male   4.00      0   \n",
       "802                Carter, Master. William Thornton II  male  11.00      1   \n",
       "340                     Navratil, Master. Edmond Roger  male   2.00      1   \n",
       "193                         Navratil, Master. Michel M  male   3.00      1   \n",
       "183                          Becker, Master. Richard F  male   1.00      2   \n",
       "549                     Davies, Master. John Morgan Jr  male   8.00      1   \n",
       "755                          Hamalainen, Master. Viljo  male   0.67      1   \n",
       "827                              Mallet, Master. Andre  male   1.00      0   \n",
       "831                    Richards, Master. George Sibley  male   0.83      1   \n",
       "78                       Caldwell, Master. Alden Gates  male   0.83      0   \n",
       "407                     Richards, Master. William Rowe  male   3.00      1   \n",
       "788                         Dean, Master. Bertram Vere  male   1.00      1   \n",
       "787                          Rice, Master. George Hugh  male   8.00      4   \n",
       "803                    Thomas, Master. Assad Alexander  male   0.42      0   \n",
       "751                                Moor, Master. Meier  male   6.00      0   \n",
       "709  Moubarek, Master. Halim Gonios (\"William George\")  male    NaN      1   \n",
       "819                       Skoog, Master. Karl Thorsten  male  10.00      3   \n",
       "824                       Panula, Master. Urho Abraham  male   2.00      4   \n",
       "489              Coutts, Master. Eden Leslie \"Neville\"  male   9.00      1   \n",
       "480                     Goodwin, Master. Harold Victor  male   9.00      5   \n",
       "7                       Palsson, Master. Gosta Leonard  male   2.00      3   \n",
       "348             Coutts, Master. William Loch \"William\"  male   3.00      1   \n",
       "16                                Rice, Master. Eugene  male   2.00      4   \n",
       "50                          Panula, Master. Juha Niilo  male   7.00      4   \n",
       "59                  Goodwin, Master. William Frederick  male  11.00      5   \n",
       "63                               Skoog, Master. Harald  male   4.00      3   \n",
       "65                            Moubarek, Master. Gerios  male    NaN      1   \n",
       "125                       Nicola-Yarred, Master. Elias  male  12.00      1   \n",
       "159                         Sage, Master. Thomas Henry  male    NaN      8   \n",
       "164                       Panula, Master. Eino Viljami  male   1.00      4   \n",
       "165    Goldsmith, Master. Frank John William \"Frankie\"  male   9.00      0   \n",
       "171                               Rice, Master. Arthur  male   4.00      4   \n",
       "176                      Lefebre, Master. Henry Forbes  male    NaN      3   \n",
       "182              Asplund, Master. Clarence Gustaf Hugo  male   9.00      4   \n",
       "261                  Asplund, Master. Edvin Rojj Felix  male   3.00      4   \n",
       "278                                 Rice, Master. Eric  male   7.00      4   \n",
       "850            Andersson, Master. Sigvard Harald Elias  male   4.00      4   \n",
       "386                    Goodwin, Master. Sidney Leonard  male   1.00      5   \n",
       "869                    Johnson, Master. Harold Theodor  male   4.00      1   \n",
       "\n",
       "     Parch           Ticket      Fare    Cabin Embarked  \n",
       "305      2           113781  151.5500  C22 C26        S  \n",
       "445      2            33638   81.8583      A34        S  \n",
       "802      2           113760  120.0000  B96 B98        S  \n",
       "340      1           230080   26.0000       F2        S  \n",
       "193      1           230080   26.0000       F2        S  \n",
       "183      1           230136   39.0000       F4        S  \n",
       "549      1       C.A. 33112   36.7500      NaN        S  \n",
       "755      1           250649   14.5000      NaN        S  \n",
       "827      2  S.C./PARIS 2079   37.0042      NaN        C  \n",
       "831      1            29106   18.7500      NaN        S  \n",
       "78       2           248738   29.0000      NaN        S  \n",
       "407      1            29106   18.7500      NaN        S  \n",
       "788      2        C.A. 2315   20.5750      NaN        S  \n",
       "787      1           382652   29.1250      NaN        Q  \n",
       "803      1             2625    8.5167      NaN        C  \n",
       "751      1           392096   12.4750     E121        S  \n",
       "709      1             2661   15.2458      NaN        C  \n",
       "819      2           347088   27.9000      NaN        S  \n",
       "824      1          3101295   39.6875      NaN        S  \n",
       "489      1       C.A. 37671   15.9000      NaN        S  \n",
       "480      2          CA 2144   46.9000      NaN        S  \n",
       "7        1           349909   21.0750      NaN        S  \n",
       "348      1       C.A. 37671   15.9000      NaN        S  \n",
       "16       1           382652   29.1250      NaN        Q  \n",
       "50       1          3101295   39.6875      NaN        S  \n",
       "59       2          CA 2144   46.9000      NaN        S  \n",
       "63       2           347088   27.9000      NaN        S  \n",
       "65       1             2661   15.2458      NaN        C  \n",
       "125      0             2651   11.2417      NaN        C  \n",
       "159      2         CA. 2343   69.5500      NaN        S  \n",
       "164      1          3101295   39.6875      NaN        S  \n",
       "165      2           363291   20.5250      NaN        S  \n",
       "171      1           382652   29.1250      NaN        Q  \n",
       "176      1             4133   25.4667      NaN        S  \n",
       "182      2           347077   31.3875      NaN        S  \n",
       "261      2           347077   31.3875      NaN        S  \n",
       "278      1           382652   29.1250      NaN        Q  \n",
       "850      2           347082   31.2750      NaN        S  \n",
       "386      2          CA 2144   46.9000      NaN        S  \n",
       "869      1           347742   11.1333      NaN        S  "
      ]
     },
     "metadata": {},
     "output_type": "display_data"
    },
    {
     "data": {
      "text/html": [
       "<div>\n",
       "<style scoped>\n",
       "    .dataframe tbody tr th:only-of-type {\n",
       "        vertical-align: middle;\n",
       "    }\n",
       "\n",
       "    .dataframe tbody tr th {\n",
       "        vertical-align: top;\n",
       "    }\n",
       "\n",
       "    .dataframe thead th {\n",
       "        text-align: right;\n",
       "    }\n",
       "</style>\n",
       "<table border=\"1\" class=\"dataframe\">\n",
       "  <thead>\n",
       "    <tr style=\"text-align: right;\">\n",
       "      <th></th>\n",
       "      <th>PassengerId</th>\n",
       "      <th>Survived</th>\n",
       "      <th>Pclass</th>\n",
       "      <th>Age</th>\n",
       "      <th>SibSp</th>\n",
       "      <th>Parch</th>\n",
       "      <th>Fare</th>\n",
       "    </tr>\n",
       "  </thead>\n",
       "  <tbody>\n",
       "    <tr>\n",
       "      <th>count</th>\n",
       "      <td>40.000000</td>\n",
       "      <td>40.000000</td>\n",
       "      <td>40.000000</td>\n",
       "      <td>36.000000</td>\n",
       "      <td>40.000000</td>\n",
       "      <td>40.000000</td>\n",
       "      <td>40.000000</td>\n",
       "    </tr>\n",
       "    <tr>\n",
       "      <th>mean</th>\n",
       "      <td>414.975000</td>\n",
       "      <td>0.575000</td>\n",
       "      <td>2.625000</td>\n",
       "      <td>4.574167</td>\n",
       "      <td>2.300000</td>\n",
       "      <td>1.375000</td>\n",
       "      <td>34.703125</td>\n",
       "    </tr>\n",
       "    <tr>\n",
       "      <th>std</th>\n",
       "      <td>301.717518</td>\n",
       "      <td>0.500641</td>\n",
       "      <td>0.627878</td>\n",
       "      <td>3.619872</td>\n",
       "      <td>1.910833</td>\n",
       "      <td>0.540062</td>\n",
       "      <td>28.051752</td>\n",
       "    </tr>\n",
       "    <tr>\n",
       "      <th>min</th>\n",
       "      <td>8.000000</td>\n",
       "      <td>0.000000</td>\n",
       "      <td>1.000000</td>\n",
       "      <td>0.420000</td>\n",
       "      <td>0.000000</td>\n",
       "      <td>0.000000</td>\n",
       "      <td>8.516700</td>\n",
       "    </tr>\n",
       "    <tr>\n",
       "      <th>25%</th>\n",
       "      <td>165.750000</td>\n",
       "      <td>0.000000</td>\n",
       "      <td>2.000000</td>\n",
       "      <td>1.000000</td>\n",
       "      <td>1.000000</td>\n",
       "      <td>1.000000</td>\n",
       "      <td>18.750000</td>\n",
       "    </tr>\n",
       "    <tr>\n",
       "      <th>50%</th>\n",
       "      <td>345.000000</td>\n",
       "      <td>1.000000</td>\n",
       "      <td>3.000000</td>\n",
       "      <td>3.500000</td>\n",
       "      <td>1.000000</td>\n",
       "      <td>1.000000</td>\n",
       "      <td>29.062500</td>\n",
       "    </tr>\n",
       "    <tr>\n",
       "      <th>75%</th>\n",
       "      <td>764.000000</td>\n",
       "      <td>1.000000</td>\n",
       "      <td>3.000000</td>\n",
       "      <td>8.000000</td>\n",
       "      <td>4.000000</td>\n",
       "      <td>2.000000</td>\n",
       "      <td>39.171875</td>\n",
       "    </tr>\n",
       "    <tr>\n",
       "      <th>max</th>\n",
       "      <td>870.000000</td>\n",
       "      <td>1.000000</td>\n",
       "      <td>3.000000</td>\n",
       "      <td>12.000000</td>\n",
       "      <td>8.000000</td>\n",
       "      <td>2.000000</td>\n",
       "      <td>151.550000</td>\n",
       "    </tr>\n",
       "  </tbody>\n",
       "</table>\n",
       "</div>"
      ],
      "text/plain": [
       "       PassengerId   Survived     Pclass        Age      SibSp      Parch  \\\n",
       "count    40.000000  40.000000  40.000000  36.000000  40.000000  40.000000   \n",
       "mean    414.975000   0.575000   2.625000   4.574167   2.300000   1.375000   \n",
       "std     301.717518   0.500641   0.627878   3.619872   1.910833   0.540062   \n",
       "min       8.000000   0.000000   1.000000   0.420000   0.000000   0.000000   \n",
       "25%     165.750000   0.000000   2.000000   1.000000   1.000000   1.000000   \n",
       "50%     345.000000   1.000000   3.000000   3.500000   1.000000   1.000000   \n",
       "75%     764.000000   1.000000   3.000000   8.000000   4.000000   2.000000   \n",
       "max     870.000000   1.000000   3.000000  12.000000   8.000000   2.000000   \n",
       "\n",
       "             Fare  \n",
       "count   40.000000  \n",
       "mean    34.703125  \n",
       "std     28.051752  \n",
       "min      8.516700  \n",
       "25%     18.750000  \n",
       "50%     29.062500  \n",
       "75%     39.171875  \n",
       "max    151.550000  "
      ]
     },
     "metadata": {},
     "output_type": "display_data"
    }
   ],
   "source": [
    "# Explore Age of people who has \"Master\" title in there name \n",
    "people_master = train[train[\"Name\"].str.contains(\"Master\")].sort_values(\"Pclass\")\n",
    "display(people_master)\n",
    "display(people_master.describe())"
   ]
  },
  {
   "cell_type": "markdown",
   "id": "88e15fa0",
   "metadata": {
    "papermill": {
     "duration": 0.086638,
     "end_time": "2021-10-18T11:08:52.991991",
     "exception": false,
     "start_time": "2021-10-18T11:08:52.905353",
     "status": "completed"
    },
    "tags": []
   },
   "source": [
    "People who has \"Master\" in there name are <br>\n",
    "1- male <br>\n",
    "2- Maxumim Age is: 12<br>\n",
    "3- All of them have value in \"Parch\" columns whice mean they might have parent or children <br>\n",
    "So, Conclusion: <br>\n",
    "    &emsp;  1- They are childern <br>"
   ]
  },
  {
   "cell_type": "markdown",
   "id": "977c0fa1",
   "metadata": {
    "papermill": {
     "duration": 0.086425,
     "end_time": "2021-10-18T11:08:53.164553",
     "exception": false,
     "start_time": "2021-10-18T11:08:53.078128",
     "status": "completed"
    },
    "tags": []
   },
   "source": [
    "if child'age = 10 months <br>\n",
    "in this data set will be 10/12 = 0.83 <br>\n",
    "So, I'm gonna rounds the age up to the next largest age to simplify numbers and prevent outliers <br>"
   ]
  },
  {
   "cell_type": "code",
   "execution_count": 14,
   "id": "a1531b4a",
   "metadata": {
    "execution": {
     "iopub.execute_input": "2021-10-18T11:08:53.340861Z",
     "iopub.status.busy": "2021-10-18T11:08:53.340246Z",
     "iopub.status.idle": "2021-10-18T11:08:53.348523Z",
     "shell.execute_reply": "2021-10-18T11:08:53.347855Z",
     "shell.execute_reply.started": "2021-10-18T11:07:55.146379Z"
    },
    "papermill": {
     "duration": 0.097885,
     "end_time": "2021-10-18T11:08:53.348677",
     "exception": false,
     "start_time": "2021-10-18T11:08:53.250792",
     "status": "completed"
    },
    "tags": []
   },
   "outputs": [],
   "source": [
    "# Correct age \n",
    "train_small_ages = (train.Age < 1)\n",
    "train.loc[train_small_ages, \"Age\"] = train.loc[train_small_ages, \"Age\"].apply(Correct_Age)\n",
    "\n",
    "test_small_ages = (test.Age < 1)\n",
    "test.loc[test_small_ages, \"Age\"] = test.loc[test_small_ages, \"Age\"].apply(Correct_Age)\n"
   ]
  },
  {
   "cell_type": "code",
   "execution_count": 15,
   "id": "44bab0c5",
   "metadata": {
    "execution": {
     "iopub.execute_input": "2021-10-18T11:08:53.541244Z",
     "iopub.status.busy": "2021-10-18T11:08:53.540565Z",
     "iopub.status.idle": "2021-10-18T11:08:53.543177Z",
     "shell.execute_reply": "2021-10-18T11:08:53.543656Z",
     "shell.execute_reply.started": "2021-10-18T11:07:55.172934Z"
    },
    "papermill": {
     "duration": 0.107738,
     "end_time": "2021-10-18T11:08:53.543820",
     "exception": false,
     "start_time": "2021-10-18T11:08:53.436082",
     "status": "completed"
    },
    "tags": []
   },
   "outputs": [
    {
     "data": {
      "text/html": [
       "<div>\n",
       "<style scoped>\n",
       "    .dataframe tbody tr th:only-of-type {\n",
       "        vertical-align: middle;\n",
       "    }\n",
       "\n",
       "    .dataframe tbody tr th {\n",
       "        vertical-align: top;\n",
       "    }\n",
       "\n",
       "    .dataframe thead th {\n",
       "        text-align: right;\n",
       "    }\n",
       "</style>\n",
       "<table border=\"1\" class=\"dataframe\">\n",
       "  <thead>\n",
       "    <tr style=\"text-align: right;\">\n",
       "      <th></th>\n",
       "      <th>PassengerId</th>\n",
       "      <th>Survived</th>\n",
       "      <th>Pclass</th>\n",
       "      <th>Name</th>\n",
       "      <th>Sex</th>\n",
       "      <th>Age</th>\n",
       "      <th>SibSp</th>\n",
       "      <th>Parch</th>\n",
       "      <th>Ticket</th>\n",
       "      <th>Fare</th>\n",
       "      <th>Cabin</th>\n",
       "      <th>Embarked</th>\n",
       "    </tr>\n",
       "  </thead>\n",
       "  <tbody>\n",
       "    <tr>\n",
       "      <th>448</th>\n",
       "      <td>449</td>\n",
       "      <td>1</td>\n",
       "      <td>3</td>\n",
       "      <td>Baclini, Miss. Marie Catherine</td>\n",
       "      <td>female</td>\n",
       "      <td>5.0</td>\n",
       "      <td>2</td>\n",
       "      <td>1</td>\n",
       "      <td>2666</td>\n",
       "      <td>19.2583</td>\n",
       "      <td>NaN</td>\n",
       "      <td>C</td>\n",
       "    </tr>\n",
       "    <tr>\n",
       "      <th>469</th>\n",
       "      <td>470</td>\n",
       "      <td>1</td>\n",
       "      <td>3</td>\n",
       "      <td>Baclini, Miss. Helene Barbara</td>\n",
       "      <td>female</td>\n",
       "      <td>1.0</td>\n",
       "      <td>2</td>\n",
       "      <td>1</td>\n",
       "      <td>2666</td>\n",
       "      <td>19.2583</td>\n",
       "      <td>NaN</td>\n",
       "      <td>C</td>\n",
       "    </tr>\n",
       "    <tr>\n",
       "      <th>644</th>\n",
       "      <td>645</td>\n",
       "      <td>1</td>\n",
       "      <td>3</td>\n",
       "      <td>Baclini, Miss. Eugenie</td>\n",
       "      <td>female</td>\n",
       "      <td>1.0</td>\n",
       "      <td>2</td>\n",
       "      <td>1</td>\n",
       "      <td>2666</td>\n",
       "      <td>19.2583</td>\n",
       "      <td>NaN</td>\n",
       "      <td>C</td>\n",
       "    </tr>\n",
       "    <tr>\n",
       "      <th>858</th>\n",
       "      <td>859</td>\n",
       "      <td>1</td>\n",
       "      <td>3</td>\n",
       "      <td>Baclini, Mrs. Solomon (Latifa Qurban)</td>\n",
       "      <td>female</td>\n",
       "      <td>24.0</td>\n",
       "      <td>0</td>\n",
       "      <td>3</td>\n",
       "      <td>2666</td>\n",
       "      <td>19.2583</td>\n",
       "      <td>NaN</td>\n",
       "      <td>C</td>\n",
       "    </tr>\n",
       "  </tbody>\n",
       "</table>\n",
       "</div>"
      ],
      "text/plain": [
       "     PassengerId  Survived  Pclass                                   Name  \\\n",
       "448          449         1       3         Baclini, Miss. Marie Catherine   \n",
       "469          470         1       3          Baclini, Miss. Helene Barbara   \n",
       "644          645         1       3                 Baclini, Miss. Eugenie   \n",
       "858          859         1       3  Baclini, Mrs. Solomon (Latifa Qurban)   \n",
       "\n",
       "        Sex   Age  SibSp  Parch Ticket     Fare Cabin Embarked  \n",
       "448  female   5.0      2      1   2666  19.2583   NaN        C  \n",
       "469  female   1.0      2      1   2666  19.2583   NaN        C  \n",
       "644  female   1.0      2      1   2666  19.2583   NaN        C  \n",
       "858  female  24.0      0      3   2666  19.2583   NaN        C  "
      ]
     },
     "execution_count": 15,
     "metadata": {},
     "output_type": "execute_result"
    }
   ],
   "source": [
    "# Explore passengers who has \"Baclini\" in their name \n",
    "train[train[\"Name\"].str.contains(\"Baclini\")]"
   ]
  },
  {
   "cell_type": "markdown",
   "id": "351364b0",
   "metadata": {
    "papermill": {
     "duration": 0.086028,
     "end_time": "2021-10-18T11:08:53.716176",
     "exception": false,
     "start_time": "2021-10-18T11:08:53.630148",
     "status": "completed"
    },
    "tags": []
   },
   "source": [
    "Conclusion: <br>\n",
    "According to encyclopedia-titanica website those two girles one was 2.9 and the other was 3  <br>\n",
    "and this is a mistake in this dataset<br>\n",
    "&emsp; Mrs.Solomon is the mother of 3 daughters Marie, Helene , and Eugenie<br>\n",
    "&emsp; So, We will fix Helene , and Eugenie 'age from 0.75 to 7 years old<br>"
   ]
  },
  {
   "cell_type": "code",
   "execution_count": 16,
   "id": "51998d46",
   "metadata": {
    "execution": {
     "iopub.execute_input": "2021-10-18T11:08:53.893337Z",
     "iopub.status.busy": "2021-10-18T11:08:53.892619Z",
     "iopub.status.idle": "2021-10-18T11:08:53.897227Z",
     "shell.execute_reply": "2021-10-18T11:08:53.897770Z",
     "shell.execute_reply.started": "2021-10-18T11:07:55.193472Z"
    },
    "papermill": {
     "duration": 0.095401,
     "end_time": "2021-10-18T11:08:53.897976",
     "exception": false,
     "start_time": "2021-10-18T11:08:53.802575",
     "status": "completed"
    },
    "tags": []
   },
   "outputs": [],
   "source": [
    "# Fixing Helene's age \n",
    "train.loc[469, \"Age\"] = 3\n",
    "\n",
    "# Fixing Eugenie's age\n",
    "train.loc[644, \"Age\"] = 3"
   ]
  },
  {
   "cell_type": "code",
   "execution_count": 17,
   "id": "c44e1d32",
   "metadata": {
    "execution": {
     "iopub.execute_input": "2021-10-18T11:08:54.083979Z",
     "iopub.status.busy": "2021-10-18T11:08:54.080822Z",
     "iopub.status.idle": "2021-10-18T11:08:54.086653Z",
     "shell.execute_reply": "2021-10-18T11:08:54.087217Z",
     "shell.execute_reply.started": "2021-10-18T11:07:55.209219Z"
    },
    "papermill": {
     "duration": 0.100866,
     "end_time": "2021-10-18T11:08:54.087389",
     "exception": false,
     "start_time": "2021-10-18T11:08:53.986523",
     "status": "completed"
    },
    "tags": []
   },
   "outputs": [
    {
     "data": {
      "text/plain": [
       "count    714.000000\n",
       "mean      29.707283\n",
       "std       14.510688\n",
       "min        1.000000\n",
       "25%       20.125000\n",
       "50%       28.000000\n",
       "75%       38.000000\n",
       "max       80.000000\n",
       "Name: Age, dtype: float64"
      ]
     },
     "execution_count": 17,
     "metadata": {},
     "output_type": "execute_result"
    }
   ],
   "source": [
    "train[\"Age\"].describe()"
   ]
  },
  {
   "cell_type": "code",
   "execution_count": 18,
   "id": "9b68e6b4",
   "metadata": {
    "execution": {
     "iopub.execute_input": "2021-10-18T11:08:54.267515Z",
     "iopub.status.busy": "2021-10-18T11:08:54.266763Z",
     "iopub.status.idle": "2021-10-18T11:08:54.269451Z",
     "shell.execute_reply": "2021-10-18T11:08:54.270066Z",
     "shell.execute_reply.started": "2021-10-18T11:07:55.227965Z"
    },
    "papermill": {
     "duration": 0.095811,
     "end_time": "2021-10-18T11:08:54.270236",
     "exception": false,
     "start_time": "2021-10-18T11:08:54.174425",
     "status": "completed"
    },
    "tags": []
   },
   "outputs": [
    {
     "name": "stdout",
     "output_type": "stream",
     "text": [
      "Number of null values in age column:  177\n"
     ]
    }
   ],
   "source": [
    "# Get null values in Age col.\n",
    "null_age = train[\"Age\"].isnull()\n",
    "print(\"Number of null values in age column: \", null_age.sum())"
   ]
  },
  {
   "cell_type": "code",
   "execution_count": 19,
   "id": "0fc823e0",
   "metadata": {
    "execution": {
     "iopub.execute_input": "2021-10-18T11:08:54.455262Z",
     "iopub.status.busy": "2021-10-18T11:08:54.450236Z",
     "iopub.status.idle": "2021-10-18T11:08:54.459233Z",
     "shell.execute_reply": "2021-10-18T11:08:54.458638Z",
     "shell.execute_reply.started": "2021-10-18T11:07:55.236127Z"
    },
    "papermill": {
     "duration": 0.101317,
     "end_time": "2021-10-18T11:08:54.459384",
     "exception": false,
     "start_time": "2021-10-18T11:08:54.358067",
     "status": "completed"
    },
    "tags": []
   },
   "outputs": [
    {
     "data": {
      "text/plain": [
       "Pclass\n",
       "1     30\n",
       "2     11\n",
       "3    136\n",
       "Name: PassengerId, dtype: int64"
      ]
     },
     "execution_count": 19,
     "metadata": {},
     "output_type": "execute_result"
    }
   ],
   "source": [
    "# Explore why these rows have null ages\n",
    "train[null_age].groupby(\"Pclass\")[\"PassengerId\"].count()"
   ]
  },
  {
   "cell_type": "markdown",
   "id": "fe62bd37",
   "metadata": {
    "papermill": {
     "duration": 0.08736,
     "end_time": "2021-10-18T11:08:54.635606",
     "exception": false,
     "start_time": "2021-10-18T11:08:54.548246",
     "status": "completed"
    },
    "tags": []
   },
   "source": [
    "Note: most of null ages are in class 3 which make sense, they might neglect to collect information about people from class c "
   ]
  },
  {
   "cell_type": "code",
   "execution_count": 20,
   "id": "c3b9cb7f",
   "metadata": {
    "execution": {
     "iopub.execute_input": "2021-10-18T11:08:54.815790Z",
     "iopub.status.busy": "2021-10-18T11:08:54.814740Z",
     "iopub.status.idle": "2021-10-18T11:08:54.834909Z",
     "shell.execute_reply": "2021-10-18T11:08:54.834226Z",
     "shell.execute_reply.started": "2021-10-18T11:07:55.252758Z"
    },
    "papermill": {
     "duration": 0.11118,
     "end_time": "2021-10-18T11:08:54.835074",
     "exception": false,
     "start_time": "2021-10-18T11:08:54.723894",
     "status": "completed"
    },
    "tags": []
   },
   "outputs": [
    {
     "data": {
      "text/html": [
       "<div>\n",
       "<style scoped>\n",
       "    .dataframe tbody tr th:only-of-type {\n",
       "        vertical-align: middle;\n",
       "    }\n",
       "\n",
       "    .dataframe tbody tr th {\n",
       "        vertical-align: top;\n",
       "    }\n",
       "\n",
       "    .dataframe thead th {\n",
       "        text-align: right;\n",
       "    }\n",
       "</style>\n",
       "<table border=\"1\" class=\"dataframe\">\n",
       "  <thead>\n",
       "    <tr style=\"text-align: right;\">\n",
       "      <th></th>\n",
       "      <th>PassengerId</th>\n",
       "      <th>Survived</th>\n",
       "      <th>Pclass</th>\n",
       "      <th>Name</th>\n",
       "      <th>Sex</th>\n",
       "      <th>Age</th>\n",
       "      <th>SibSp</th>\n",
       "      <th>Parch</th>\n",
       "      <th>Ticket</th>\n",
       "      <th>Fare</th>\n",
       "      <th>Cabin</th>\n",
       "      <th>Embarked</th>\n",
       "    </tr>\n",
       "  </thead>\n",
       "  <tbody>\n",
       "    <tr>\n",
       "      <th>19</th>\n",
       "      <td>20</td>\n",
       "      <td>1</td>\n",
       "      <td>3</td>\n",
       "      <td>Masselmani, Mrs. Fatima</td>\n",
       "      <td>female</td>\n",
       "      <td>NaN</td>\n",
       "      <td>0</td>\n",
       "      <td>0</td>\n",
       "      <td>2649</td>\n",
       "      <td>7.2250</td>\n",
       "      <td>NaN</td>\n",
       "      <td>C</td>\n",
       "    </tr>\n",
       "    <tr>\n",
       "      <th>444</th>\n",
       "      <td>445</td>\n",
       "      <td>1</td>\n",
       "      <td>3</td>\n",
       "      <td>Johannesen-Bratthammer, Mr. Bernt</td>\n",
       "      <td>male</td>\n",
       "      <td>NaN</td>\n",
       "      <td>0</td>\n",
       "      <td>0</td>\n",
       "      <td>65306</td>\n",
       "      <td>8.1125</td>\n",
       "      <td>NaN</td>\n",
       "      <td>S</td>\n",
       "    </tr>\n",
       "    <tr>\n",
       "      <th>77</th>\n",
       "      <td>78</td>\n",
       "      <td>0</td>\n",
       "      <td>3</td>\n",
       "      <td>Moutal, Mr. Rahamin Haim</td>\n",
       "      <td>male</td>\n",
       "      <td>NaN</td>\n",
       "      <td>0</td>\n",
       "      <td>0</td>\n",
       "      <td>374746</td>\n",
       "      <td>8.0500</td>\n",
       "      <td>NaN</td>\n",
       "      <td>S</td>\n",
       "    </tr>\n",
       "    <tr>\n",
       "      <th>428</th>\n",
       "      <td>429</td>\n",
       "      <td>0</td>\n",
       "      <td>3</td>\n",
       "      <td>Flynn, Mr. James</td>\n",
       "      <td>male</td>\n",
       "      <td>NaN</td>\n",
       "      <td>0</td>\n",
       "      <td>0</td>\n",
       "      <td>364851</td>\n",
       "      <td>7.7500</td>\n",
       "      <td>NaN</td>\n",
       "      <td>Q</td>\n",
       "    </tr>\n",
       "    <tr>\n",
       "      <th>425</th>\n",
       "      <td>426</td>\n",
       "      <td>0</td>\n",
       "      <td>3</td>\n",
       "      <td>Wiseman, Mr. Phillippe</td>\n",
       "      <td>male</td>\n",
       "      <td>NaN</td>\n",
       "      <td>0</td>\n",
       "      <td>0</td>\n",
       "      <td>A/4. 34244</td>\n",
       "      <td>7.2500</td>\n",
       "      <td>NaN</td>\n",
       "      <td>S</td>\n",
       "    </tr>\n",
       "    <tr>\n",
       "      <th>420</th>\n",
       "      <td>421</td>\n",
       "      <td>0</td>\n",
       "      <td>3</td>\n",
       "      <td>Gheorgheff, Mr. Stanio</td>\n",
       "      <td>male</td>\n",
       "      <td>NaN</td>\n",
       "      <td>0</td>\n",
       "      <td>0</td>\n",
       "      <td>349254</td>\n",
       "      <td>7.8958</td>\n",
       "      <td>NaN</td>\n",
       "      <td>C</td>\n",
       "    </tr>\n",
       "    <tr>\n",
       "      <th>415</th>\n",
       "      <td>416</td>\n",
       "      <td>0</td>\n",
       "      <td>3</td>\n",
       "      <td>Meek, Mrs. Thomas (Annie Louise Rowley)</td>\n",
       "      <td>female</td>\n",
       "      <td>NaN</td>\n",
       "      <td>0</td>\n",
       "      <td>0</td>\n",
       "      <td>343095</td>\n",
       "      <td>8.0500</td>\n",
       "      <td>NaN</td>\n",
       "      <td>S</td>\n",
       "    </tr>\n",
       "    <tr>\n",
       "      <th>411</th>\n",
       "      <td>412</td>\n",
       "      <td>0</td>\n",
       "      <td>3</td>\n",
       "      <td>Hart, Mr. Henry</td>\n",
       "      <td>male</td>\n",
       "      <td>NaN</td>\n",
       "      <td>0</td>\n",
       "      <td>0</td>\n",
       "      <td>394140</td>\n",
       "      <td>6.8583</td>\n",
       "      <td>NaN</td>\n",
       "      <td>Q</td>\n",
       "    </tr>\n",
       "    <tr>\n",
       "      <th>410</th>\n",
       "      <td>411</td>\n",
       "      <td>0</td>\n",
       "      <td>3</td>\n",
       "      <td>Sdycoff, Mr. Todor</td>\n",
       "      <td>male</td>\n",
       "      <td>NaN</td>\n",
       "      <td>0</td>\n",
       "      <td>0</td>\n",
       "      <td>349222</td>\n",
       "      <td>7.8958</td>\n",
       "      <td>NaN</td>\n",
       "      <td>S</td>\n",
       "    </tr>\n",
       "    <tr>\n",
       "      <th>5</th>\n",
       "      <td>6</td>\n",
       "      <td>0</td>\n",
       "      <td>3</td>\n",
       "      <td>Moran, Mr. James</td>\n",
       "      <td>male</td>\n",
       "      <td>NaN</td>\n",
       "      <td>0</td>\n",
       "      <td>0</td>\n",
       "      <td>330877</td>\n",
       "      <td>8.4583</td>\n",
       "      <td>NaN</td>\n",
       "      <td>Q</td>\n",
       "    </tr>\n",
       "  </tbody>\n",
       "</table>\n",
       "</div>"
      ],
      "text/plain": [
       "     PassengerId  Survived  Pclass                                     Name  \\\n",
       "19            20         1       3                  Masselmani, Mrs. Fatima   \n",
       "444          445         1       3        Johannesen-Bratthammer, Mr. Bernt   \n",
       "77            78         0       3                 Moutal, Mr. Rahamin Haim   \n",
       "428          429         0       3                         Flynn, Mr. James   \n",
       "425          426         0       3                   Wiseman, Mr. Phillippe   \n",
       "420          421         0       3                   Gheorgheff, Mr. Stanio   \n",
       "415          416         0       3  Meek, Mrs. Thomas (Annie Louise Rowley)   \n",
       "411          412         0       3                          Hart, Mr. Henry   \n",
       "410          411         0       3                       Sdycoff, Mr. Todor   \n",
       "5              6         0       3                         Moran, Mr. James   \n",
       "\n",
       "        Sex  Age  SibSp  Parch      Ticket    Fare Cabin Embarked  \n",
       "19   female  NaN      0      0        2649  7.2250   NaN        C  \n",
       "444    male  NaN      0      0       65306  8.1125   NaN        S  \n",
       "77     male  NaN      0      0      374746  8.0500   NaN        S  \n",
       "428    male  NaN      0      0      364851  7.7500   NaN        Q  \n",
       "425    male  NaN      0      0  A/4. 34244  7.2500   NaN        S  \n",
       "420    male  NaN      0      0      349254  7.8958   NaN        C  \n",
       "415  female  NaN      0      0      343095  8.0500   NaN        S  \n",
       "411    male  NaN      0      0      394140  6.8583   NaN        Q  \n",
       "410    male  NaN      0      0      349222  7.8958   NaN        S  \n",
       "5      male  NaN      0      0      330877  8.4583   NaN        Q  "
      ]
     },
     "execution_count": 20,
     "metadata": {},
     "output_type": "execute_result"
    }
   ],
   "source": [
    "# View observations from class 3 who have missing age \n",
    "x = train[null_age]\n",
    "x[x.Pclass == 3].sort_values(\"SibSp\", ascending=False).tail(10)"
   ]
  },
  {
   "cell_type": "markdown",
   "id": "1ae232af",
   "metadata": {
    "papermill": {
     "duration": 0.092333,
     "end_time": "2021-10-18T11:08:55.016395",
     "exception": false,
     "start_time": "2021-10-18T11:08:54.924062",
     "status": "completed"
    },
    "tags": []
   },
   "source": [
    "Note: Name contain \"Surname\", \"title\". \"first_name\" \"last_name\" <br>\n",
    "Solutions for this problem: <br>\n",
    "&emsp; 1- fill null ages with passenger's mean ages who had same title <br>"
   ]
  },
  {
   "cell_type": "code",
   "execution_count": 21,
   "id": "81250fc8",
   "metadata": {
    "execution": {
     "iopub.execute_input": "2021-10-18T11:08:55.206222Z",
     "iopub.status.busy": "2021-10-18T11:08:55.205512Z",
     "iopub.status.idle": "2021-10-18T11:08:55.207763Z",
     "shell.execute_reply": "2021-10-18T11:08:55.208288Z",
     "shell.execute_reply.started": "2021-10-18T11:07:55.278729Z"
    },
    "papermill": {
     "duration": 0.103936,
     "end_time": "2021-10-18T11:08:55.208458",
     "exception": false,
     "start_time": "2021-10-18T11:08:55.104522",
     "status": "completed"
    },
    "tags": []
   },
   "outputs": [],
   "source": [
    "# Get Surname & Title\n",
    "train[\"Surname\"] = train[\"Name\"].apply(Get_Surname)\n",
    "train[\"Title\"] = train[\"Name\"].apply(Get_Title)\n",
    "\n",
    "test[\"Surname\"] = test[\"Name\"].apply(Get_Surname)\n",
    "test[\"Title\"] = test[\"Name\"].apply(Get_Title)"
   ]
  },
  {
   "cell_type": "code",
   "execution_count": 22,
   "id": "34f7d4fe",
   "metadata": {
    "execution": {
     "iopub.execute_input": "2021-10-18T11:08:55.417834Z",
     "iopub.status.busy": "2021-10-18T11:08:55.416758Z",
     "iopub.status.idle": "2021-10-18T11:08:55.703663Z",
     "shell.execute_reply": "2021-10-18T11:08:55.702779Z",
     "shell.execute_reply.started": "2021-10-18T11:07:55.294922Z"
    },
    "papermill": {
     "duration": 0.407303,
     "end_time": "2021-10-18T11:08:55.703809",
     "exception": false,
     "start_time": "2021-10-18T11:08:55.296506",
     "status": "completed"
    },
    "tags": []
   },
   "outputs": [
    {
     "data": {
      "image/png": "[encoded data removed]",
      "text/plain": [
       "<Figure size 720x432 with 1 Axes>"
      ]
     },
     "metadata": {
      "needs_background": "light"
     },
     "output_type": "display_data"
    }
   ],
   "source": [
    "fig, ax = plt.subplots(figsize=(10,6))\n",
    "sns.countplot(x='Title', data=train, ax=ax);"
   ]
  },
  {
   "cell_type": "code",
   "execution_count": 23,
   "id": "cee128bf",
   "metadata": {
    "execution": {
     "iopub.execute_input": "2021-10-18T11:08:55.891399Z",
     "iopub.status.busy": "2021-10-18T11:08:55.890484Z",
     "iopub.status.idle": "2021-10-18T11:08:55.894470Z",
     "shell.execute_reply": "2021-10-18T11:08:55.893915Z",
     "shell.execute_reply.started": "2021-10-18T11:07:55.611553Z"
    },
    "papermill": {
     "duration": 0.101092,
     "end_time": "2021-10-18T11:08:55.894608",
     "exception": false,
     "start_time": "2021-10-18T11:08:55.793516",
     "status": "completed"
    },
    "tags": []
   },
   "outputs": [
    {
     "data": {
      "text/plain": [
       "mr          517\n",
       "miss        182\n",
       "mrs         125\n",
       "master       40\n",
       "dr            7\n",
       "rev           6\n",
       "mlle          2\n",
       "major         2\n",
       "col           2\n",
       "countess      1\n",
       "capt          1\n",
       "ms            1\n",
       "sir           1\n",
       "lady          1\n",
       "mme           1\n",
       "don           1\n",
       "jonkheer      1\n",
       "Name: Title, dtype: int64"
      ]
     },
     "execution_count": 23,
     "metadata": {},
     "output_type": "execute_result"
    }
   ],
   "source": [
    "title_count = train[\"Title\"].value_counts()\n",
    "title_count"
   ]
  },
  {
   "cell_type": "markdown",
   "id": "afb1cefe",
   "metadata": {
    "papermill": {
     "duration": 0.09058,
     "end_time": "2021-10-18T11:08:56.077250",
     "exception": false,
     "start_time": "2021-10-18T11:08:55.986670",
     "status": "completed"
    },
    "tags": []
   },
   "source": [
    "******************************************************************************************** <br>\n",
    "miss: Unmarried woman <br>\n",
    "mlle: Miss <br>\n",
    "lady: Women of a high social class <br>\n",
    "ms: married or unmarried women <br>\n",
    "mrs: Married woman <br>\n",
    "mme: Sometimes Married woman <br>\n",
    "countess: the wife or widow of an earl or count <br>\n",
    "******************************************************************************************** <br>\n",
    " <br>\n",
    "master: English honorific for boys and young men <br>\n",
    "mr: men under the rank of knighthood married or not  <br>\n",
    "********************************************************************************************| <br>\n",
    " <br>\n",
    "jobs  <br>\n",
    "col: Colonel officer rank <br>\n",
    "major: Officer rank above the rank of captain <br>\n",
    "capt: Captain officer rank <br>\n",
    "jonkheer: Young lord OR 'young lady', the lowest title within the nobility system <br>\n",
    "sir: Man of rank or position <br>\n",
    "don: Mr <br>\n",
    "dr: doctor <br>\n",
    "rev: Reverend  <br>\n"
   ]
  },
  {
   "cell_type": "code",
   "execution_count": 24,
   "id": "70ab459e",
   "metadata": {
    "execution": {
     "iopub.execute_input": "2021-10-18T11:08:56.279564Z",
     "iopub.status.busy": "2021-10-18T11:08:56.278856Z",
     "iopub.status.idle": "2021-10-18T11:08:56.448701Z",
     "shell.execute_reply": "2021-10-18T11:08:56.449348Z",
     "shell.execute_reply.started": "2021-10-18T11:07:55.624960Z"
    },
    "papermill": {
     "duration": 0.282148,
     "end_time": "2021-10-18T11:08:56.449525",
     "exception": false,
     "start_time": "2021-10-18T11:08:56.167377",
     "status": "completed"
    },
    "tags": []
   },
   "outputs": [
    {
     "name": "stdout",
     "output_type": "stream",
     "text": [
      "--------------------------------------------- dr ---------------------------\n"
     ]
    },
    {
     "data": {
      "text/html": [
       "<div>\n",
       "<style scoped>\n",
       "    .dataframe tbody tr th:only-of-type {\n",
       "        vertical-align: middle;\n",
       "    }\n",
       "\n",
       "    .dataframe tbody tr th {\n",
       "        vertical-align: top;\n",
       "    }\n",
       "\n",
       "    .dataframe thead th {\n",
       "        text-align: right;\n",
       "    }\n",
       "</style>\n",
       "<table border=\"1\" class=\"dataframe\">\n",
       "  <thead>\n",
       "    <tr style=\"text-align: right;\">\n",
       "      <th></th>\n",
       "      <th>PassengerId</th>\n",
       "      <th>Survived</th>\n",
       "      <th>Pclass</th>\n",
       "      <th>Name</th>\n",
       "      <th>Sex</th>\n",
       "      <th>Age</th>\n",
       "      <th>SibSp</th>\n",
       "      <th>Parch</th>\n",
       "      <th>Ticket</th>\n",
       "      <th>Fare</th>\n",
       "      <th>Cabin</th>\n",
       "      <th>Embarked</th>\n",
       "      <th>Surname</th>\n",
       "      <th>Title</th>\n",
       "    </tr>\n",
       "  </thead>\n",
       "  <tbody>\n",
       "    <tr>\n",
       "      <th>245</th>\n",
       "      <td>246</td>\n",
       "      <td>0</td>\n",
       "      <td>1</td>\n",
       "      <td>Minahan, Dr. William Edward</td>\n",
       "      <td>male</td>\n",
       "      <td>44.0</td>\n",
       "      <td>2</td>\n",
       "      <td>0</td>\n",
       "      <td>19928</td>\n",
       "      <td>90.0000</td>\n",
       "      <td>C78</td>\n",
       "      <td>Q</td>\n",
       "      <td>Minahan</td>\n",
       "      <td>dr</td>\n",
       "    </tr>\n",
       "    <tr>\n",
       "      <th>317</th>\n",
       "      <td>318</td>\n",
       "      <td>0</td>\n",
       "      <td>2</td>\n",
       "      <td>Moraweck, Dr. Ernest</td>\n",
       "      <td>male</td>\n",
       "      <td>54.0</td>\n",
       "      <td>0</td>\n",
       "      <td>0</td>\n",
       "      <td>29011</td>\n",
       "      <td>14.0000</td>\n",
       "      <td>NaN</td>\n",
       "      <td>S</td>\n",
       "      <td>Moraweck</td>\n",
       "      <td>dr</td>\n",
       "    </tr>\n",
       "    <tr>\n",
       "      <th>398</th>\n",
       "      <td>399</td>\n",
       "      <td>0</td>\n",
       "      <td>2</td>\n",
       "      <td>Pain, Dr. Alfred</td>\n",
       "      <td>male</td>\n",
       "      <td>23.0</td>\n",
       "      <td>0</td>\n",
       "      <td>0</td>\n",
       "      <td>244278</td>\n",
       "      <td>10.5000</td>\n",
       "      <td>NaN</td>\n",
       "      <td>S</td>\n",
       "      <td>Pain</td>\n",
       "      <td>dr</td>\n",
       "    </tr>\n",
       "    <tr>\n",
       "      <th>632</th>\n",
       "      <td>633</td>\n",
       "      <td>1</td>\n",
       "      <td>1</td>\n",
       "      <td>Stahelin-Maeglin, Dr. Max</td>\n",
       "      <td>male</td>\n",
       "      <td>32.0</td>\n",
       "      <td>0</td>\n",
       "      <td>0</td>\n",
       "      <td>13214</td>\n",
       "      <td>30.5000</td>\n",
       "      <td>B50</td>\n",
       "      <td>C</td>\n",
       "      <td>Stahelin-Maeglin</td>\n",
       "      <td>dr</td>\n",
       "    </tr>\n",
       "    <tr>\n",
       "      <th>660</th>\n",
       "      <td>661</td>\n",
       "      <td>1</td>\n",
       "      <td>1</td>\n",
       "      <td>Frauenthal, Dr. Henry William</td>\n",
       "      <td>male</td>\n",
       "      <td>50.0</td>\n",
       "      <td>2</td>\n",
       "      <td>0</td>\n",
       "      <td>PC 17611</td>\n",
       "      <td>133.6500</td>\n",
       "      <td>NaN</td>\n",
       "      <td>S</td>\n",
       "      <td>Frauenthal</td>\n",
       "      <td>dr</td>\n",
       "    </tr>\n",
       "    <tr>\n",
       "      <th>766</th>\n",
       "      <td>767</td>\n",
       "      <td>0</td>\n",
       "      <td>1</td>\n",
       "      <td>Brewe, Dr. Arthur Jackson</td>\n",
       "      <td>male</td>\n",
       "      <td>NaN</td>\n",
       "      <td>0</td>\n",
       "      <td>0</td>\n",
       "      <td>112379</td>\n",
       "      <td>39.6000</td>\n",
       "      <td>NaN</td>\n",
       "      <td>C</td>\n",
       "      <td>Brewe</td>\n",
       "      <td>dr</td>\n",
       "    </tr>\n",
       "    <tr>\n",
       "      <th>796</th>\n",
       "      <td>797</td>\n",
       "      <td>1</td>\n",
       "      <td>1</td>\n",
       "      <td>Leader, Dr. Alice (Farnham)</td>\n",
       "      <td>female</td>\n",
       "      <td>49.0</td>\n",
       "      <td>0</td>\n",
       "      <td>0</td>\n",
       "      <td>17465</td>\n",
       "      <td>25.9292</td>\n",
       "      <td>D17</td>\n",
       "      <td>S</td>\n",
       "      <td>Leader</td>\n",
       "      <td>dr</td>\n",
       "    </tr>\n",
       "  </tbody>\n",
       "</table>\n",
       "</div>"
      ],
      "text/plain": [
       "     PassengerId  Survived  Pclass                           Name     Sex  \\\n",
       "245          246         0       1    Minahan, Dr. William Edward    male   \n",
       "317          318         0       2           Moraweck, Dr. Ernest    male   \n",
       "398          399         0       2               Pain, Dr. Alfred    male   \n",
       "632          633         1       1      Stahelin-Maeglin, Dr. Max    male   \n",
       "660          661         1       1  Frauenthal, Dr. Henry William    male   \n",
       "766          767         0       1      Brewe, Dr. Arthur Jackson    male   \n",
       "796          797         1       1    Leader, Dr. Alice (Farnham)  female   \n",
       "\n",
       "      Age  SibSp  Parch    Ticket      Fare Cabin Embarked           Surname  \\\n",
       "245  44.0      2      0     19928   90.0000   C78        Q           Minahan   \n",
       "317  54.0      0      0     29011   14.0000   NaN        S          Moraweck   \n",
       "398  23.0      0      0    244278   10.5000   NaN        S              Pain   \n",
       "632  32.0      0      0     13214   30.5000   B50        C  Stahelin-Maeglin   \n",
       "660  50.0      2      0  PC 17611  133.6500   NaN        S        Frauenthal   \n",
       "766   NaN      0      0    112379   39.6000   NaN        C             Brewe   \n",
       "796  49.0      0      0     17465   25.9292   D17        S            Leader   \n",
       "\n",
       "    Title  \n",
       "245    dr  \n",
       "317    dr  \n",
       "398    dr  \n",
       "632    dr  \n",
       "660    dr  \n",
       "766    dr  \n",
       "796    dr  "
      ]
     },
     "metadata": {},
     "output_type": "display_data"
    },
    {
     "name": "stdout",
     "output_type": "stream",
     "text": [
      "--------------------------------------------- rev ---------------------------\n"
     ]
    },
    {
     "data": {
      "text/html": [
       "<div>\n",
       "<style scoped>\n",
       "    .dataframe tbody tr th:only-of-type {\n",
       "        vertical-align: middle;\n",
       "    }\n",
       "\n",
       "    .dataframe tbody tr th {\n",
       "        vertical-align: top;\n",
       "    }\n",
       "\n",
       "    .dataframe thead th {\n",
       "        text-align: right;\n",
       "    }\n",
       "</style>\n",
       "<table border=\"1\" class=\"dataframe\">\n",
       "  <thead>\n",
       "    <tr style=\"text-align: right;\">\n",
       "      <th></th>\n",
       "      <th>PassengerId</th>\n",
       "      <th>Survived</th>\n",
       "      <th>Pclass</th>\n",
       "      <th>Name</th>\n",
       "      <th>Sex</th>\n",
       "      <th>Age</th>\n",
       "      <th>SibSp</th>\n",
       "      <th>Parch</th>\n",
       "      <th>Ticket</th>\n",
       "      <th>Fare</th>\n",
       "      <th>Cabin</th>\n",
       "      <th>Embarked</th>\n",
       "      <th>Surname</th>\n",
       "      <th>Title</th>\n",
       "    </tr>\n",
       "  </thead>\n",
       "  <tbody>\n",
       "    <tr>\n",
       "      <th>149</th>\n",
       "      <td>150</td>\n",
       "      <td>0</td>\n",
       "      <td>2</td>\n",
       "      <td>Byles, Rev. Thomas Roussel Davids</td>\n",
       "      <td>male</td>\n",
       "      <td>42.0</td>\n",
       "      <td>0</td>\n",
       "      <td>0</td>\n",
       "      <td>244310</td>\n",
       "      <td>13.000</td>\n",
       "      <td>NaN</td>\n",
       "      <td>S</td>\n",
       "      <td>Byles</td>\n",
       "      <td>rev</td>\n",
       "    </tr>\n",
       "    <tr>\n",
       "      <th>150</th>\n",
       "      <td>151</td>\n",
       "      <td>0</td>\n",
       "      <td>2</td>\n",
       "      <td>Bateman, Rev. Robert James</td>\n",
       "      <td>male</td>\n",
       "      <td>51.0</td>\n",
       "      <td>0</td>\n",
       "      <td>0</td>\n",
       "      <td>S.O.P. 1166</td>\n",
       "      <td>12.525</td>\n",
       "      <td>NaN</td>\n",
       "      <td>S</td>\n",
       "      <td>Bateman</td>\n",
       "      <td>rev</td>\n",
       "    </tr>\n",
       "    <tr>\n",
       "      <th>249</th>\n",
       "      <td>250</td>\n",
       "      <td>0</td>\n",
       "      <td>2</td>\n",
       "      <td>Carter, Rev. Ernest Courtenay</td>\n",
       "      <td>male</td>\n",
       "      <td>54.0</td>\n",
       "      <td>1</td>\n",
       "      <td>0</td>\n",
       "      <td>244252</td>\n",
       "      <td>26.000</td>\n",
       "      <td>NaN</td>\n",
       "      <td>S</td>\n",
       "      <td>Carter</td>\n",
       "      <td>rev</td>\n",
       "    </tr>\n",
       "    <tr>\n",
       "      <th>626</th>\n",
       "      <td>627</td>\n",
       "      <td>0</td>\n",
       "      <td>2</td>\n",
       "      <td>Kirkland, Rev. Charles Leonard</td>\n",
       "      <td>male</td>\n",
       "      <td>57.0</td>\n",
       "      <td>0</td>\n",
       "      <td>0</td>\n",
       "      <td>219533</td>\n",
       "      <td>12.350</td>\n",
       "      <td>NaN</td>\n",
       "      <td>Q</td>\n",
       "      <td>Kirkland</td>\n",
       "      <td>rev</td>\n",
       "    </tr>\n",
       "    <tr>\n",
       "      <th>848</th>\n",
       "      <td>849</td>\n",
       "      <td>0</td>\n",
       "      <td>2</td>\n",
       "      <td>Harper, Rev. John</td>\n",
       "      <td>male</td>\n",
       "      <td>28.0</td>\n",
       "      <td>0</td>\n",
       "      <td>1</td>\n",
       "      <td>248727</td>\n",
       "      <td>33.000</td>\n",
       "      <td>NaN</td>\n",
       "      <td>S</td>\n",
       "      <td>Harper</td>\n",
       "      <td>rev</td>\n",
       "    </tr>\n",
       "    <tr>\n",
       "      <th>886</th>\n",
       "      <td>887</td>\n",
       "      <td>0</td>\n",
       "      <td>2</td>\n",
       "      <td>Montvila, Rev. Juozas</td>\n",
       "      <td>male</td>\n",
       "      <td>27.0</td>\n",
       "      <td>0</td>\n",
       "      <td>0</td>\n",
       "      <td>211536</td>\n",
       "      <td>13.000</td>\n",
       "      <td>NaN</td>\n",
       "      <td>S</td>\n",
       "      <td>Montvila</td>\n",
       "      <td>rev</td>\n",
       "    </tr>\n",
       "  </tbody>\n",
       "</table>\n",
       "</div>"
      ],
      "text/plain": [
       "     PassengerId  Survived  Pclass                               Name   Sex  \\\n",
       "149          150         0       2  Byles, Rev. Thomas Roussel Davids  male   \n",
       "150          151         0       2         Bateman, Rev. Robert James  male   \n",
       "249          250         0       2      Carter, Rev. Ernest Courtenay  male   \n",
       "626          627         0       2     Kirkland, Rev. Charles Leonard  male   \n",
       "848          849         0       2                  Harper, Rev. John  male   \n",
       "886          887         0       2              Montvila, Rev. Juozas  male   \n",
       "\n",
       "      Age  SibSp  Parch       Ticket    Fare Cabin Embarked   Surname Title  \n",
       "149  42.0      0      0       244310  13.000   NaN        S     Byles   rev  \n",
       "150  51.0      0      0  S.O.P. 1166  12.525   NaN        S   Bateman   rev  \n",
       "249  54.0      1      0       244252  26.000   NaN        S    Carter   rev  \n",
       "626  57.0      0      0       219533  12.350   NaN        Q  Kirkland   rev  \n",
       "848  28.0      0      1       248727  33.000   NaN        S    Harper   rev  \n",
       "886  27.0      0      0       211536  13.000   NaN        S  Montvila   rev  "
      ]
     },
     "metadata": {},
     "output_type": "display_data"
    },
    {
     "name": "stdout",
     "output_type": "stream",
     "text": [
      "--------------------------------------------- mlle ---------------------------\n"
     ]
    },
    {
     "data": {
      "text/html": [
       "<div>\n",
       "<style scoped>\n",
       "    .dataframe tbody tr th:only-of-type {\n",
       "        vertical-align: middle;\n",
       "    }\n",
       "\n",
       "    .dataframe tbody tr th {\n",
       "        vertical-align: top;\n",
       "    }\n",
       "\n",
       "    .dataframe thead th {\n",
       "        text-align: right;\n",
       "    }\n",
       "</style>\n",
       "<table border=\"1\" class=\"dataframe\">\n",
       "  <thead>\n",
       "    <tr style=\"text-align: right;\">\n",
       "      <th></th>\n",
       "      <th>PassengerId</th>\n",
       "      <th>Survived</th>\n",
       "      <th>Pclass</th>\n",
       "      <th>Name</th>\n",
       "      <th>Sex</th>\n",
       "      <th>Age</th>\n",
       "      <th>SibSp</th>\n",
       "      <th>Parch</th>\n",
       "      <th>Ticket</th>\n",
       "      <th>Fare</th>\n",
       "      <th>Cabin</th>\n",
       "      <th>Embarked</th>\n",
       "      <th>Surname</th>\n",
       "      <th>Title</th>\n",
       "    </tr>\n",
       "  </thead>\n",
       "  <tbody>\n",
       "    <tr>\n",
       "      <th>641</th>\n",
       "      <td>642</td>\n",
       "      <td>1</td>\n",
       "      <td>1</td>\n",
       "      <td>Sagesser, Mlle. Emma</td>\n",
       "      <td>female</td>\n",
       "      <td>24.0</td>\n",
       "      <td>0</td>\n",
       "      <td>0</td>\n",
       "      <td>PC 17477</td>\n",
       "      <td>69.3000</td>\n",
       "      <td>B35</td>\n",
       "      <td>C</td>\n",
       "      <td>Sagesser</td>\n",
       "      <td>mlle</td>\n",
       "    </tr>\n",
       "    <tr>\n",
       "      <th>710</th>\n",
       "      <td>711</td>\n",
       "      <td>1</td>\n",
       "      <td>1</td>\n",
       "      <td>Mayne, Mlle. Berthe Antonine (\"Mrs de Villiers\")</td>\n",
       "      <td>female</td>\n",
       "      <td>24.0</td>\n",
       "      <td>0</td>\n",
       "      <td>0</td>\n",
       "      <td>PC 17482</td>\n",
       "      <td>49.5042</td>\n",
       "      <td>C90</td>\n",
       "      <td>C</td>\n",
       "      <td>Mayne</td>\n",
       "      <td>mlle</td>\n",
       "    </tr>\n",
       "  </tbody>\n",
       "</table>\n",
       "</div>"
      ],
      "text/plain": [
       "     PassengerId  Survived  Pclass  \\\n",
       "641          642         1       1   \n",
       "710          711         1       1   \n",
       "\n",
       "                                                 Name     Sex   Age  SibSp  \\\n",
       "641                              Sagesser, Mlle. Emma  female  24.0      0   \n",
       "710  Mayne, Mlle. Berthe Antonine (\"Mrs de Villiers\")  female  24.0      0   \n",
       "\n",
       "     Parch    Ticket     Fare Cabin Embarked   Surname Title  \n",
       "641      0  PC 17477  69.3000   B35        C  Sagesser  mlle  \n",
       "710      0  PC 17482  49.5042   C90        C     Mayne  mlle  "
      ]
     },
     "metadata": {},
     "output_type": "display_data"
    },
    {
     "name": "stdout",
     "output_type": "stream",
     "text": [
      "--------------------------------------------- major ---------------------------\n"
     ]
    },
    {
     "data": {
      "text/html": [
       "<div>\n",
       "<style scoped>\n",
       "    .dataframe tbody tr th:only-of-type {\n",
       "        vertical-align: middle;\n",
       "    }\n",
       "\n",
       "    .dataframe tbody tr th {\n",
       "        vertical-align: top;\n",
       "    }\n",
       "\n",
       "    .dataframe thead th {\n",
       "        text-align: right;\n",
       "    }\n",
       "</style>\n",
       "<table border=\"1\" class=\"dataframe\">\n",
       "  <thead>\n",
       "    <tr style=\"text-align: right;\">\n",
       "      <th></th>\n",
       "      <th>PassengerId</th>\n",
       "      <th>Survived</th>\n",
       "      <th>Pclass</th>\n",
       "      <th>Name</th>\n",
       "      <th>Sex</th>\n",
       "      <th>Age</th>\n",
       "      <th>SibSp</th>\n",
       "      <th>Parch</th>\n",
       "      <th>Ticket</th>\n",
       "      <th>Fare</th>\n",
       "      <th>Cabin</th>\n",
       "      <th>Embarked</th>\n",
       "      <th>Surname</th>\n",
       "      <th>Title</th>\n",
       "    </tr>\n",
       "  </thead>\n",
       "  <tbody>\n",
       "    <tr>\n",
       "      <th>449</th>\n",
       "      <td>450</td>\n",
       "      <td>1</td>\n",
       "      <td>1</td>\n",
       "      <td>Peuchen, Major. Arthur Godfrey</td>\n",
       "      <td>male</td>\n",
       "      <td>52.0</td>\n",
       "      <td>0</td>\n",
       "      <td>0</td>\n",
       "      <td>113786</td>\n",
       "      <td>30.50</td>\n",
       "      <td>C104</td>\n",
       "      <td>S</td>\n",
       "      <td>Peuchen</td>\n",
       "      <td>major</td>\n",
       "    </tr>\n",
       "    <tr>\n",
       "      <th>536</th>\n",
       "      <td>537</td>\n",
       "      <td>0</td>\n",
       "      <td>1</td>\n",
       "      <td>Butt, Major. Archibald Willingham</td>\n",
       "      <td>male</td>\n",
       "      <td>45.0</td>\n",
       "      <td>0</td>\n",
       "      <td>0</td>\n",
       "      <td>113050</td>\n",
       "      <td>26.55</td>\n",
       "      <td>B38</td>\n",
       "      <td>S</td>\n",
       "      <td>Butt</td>\n",
       "      <td>major</td>\n",
       "    </tr>\n",
       "  </tbody>\n",
       "</table>\n",
       "</div>"
      ],
      "text/plain": [
       "     PassengerId  Survived  Pclass                               Name   Sex  \\\n",
       "449          450         1       1     Peuchen, Major. Arthur Godfrey  male   \n",
       "536          537         0       1  Butt, Major. Archibald Willingham  male   \n",
       "\n",
       "      Age  SibSp  Parch  Ticket   Fare Cabin Embarked  Surname  Title  \n",
       "449  52.0      0      0  113786  30.50  C104        S  Peuchen  major  \n",
       "536  45.0      0      0  113050  26.55   B38        S     Butt  major  "
      ]
     },
     "metadata": {},
     "output_type": "display_data"
    },
    {
     "name": "stdout",
     "output_type": "stream",
     "text": [
      "--------------------------------------------- col ---------------------------\n"
     ]
    },
    {
     "data": {
      "text/html": [
       "<div>\n",
       "<style scoped>\n",
       "    .dataframe tbody tr th:only-of-type {\n",
       "        vertical-align: middle;\n",
       "    }\n",
       "\n",
       "    .dataframe tbody tr th {\n",
       "        vertical-align: top;\n",
       "    }\n",
       "\n",
       "    .dataframe thead th {\n",
       "        text-align: right;\n",
       "    }\n",
       "</style>\n",
       "<table border=\"1\" class=\"dataframe\">\n",
       "  <thead>\n",
       "    <tr style=\"text-align: right;\">\n",
       "      <th></th>\n",
       "      <th>PassengerId</th>\n",
       "      <th>Survived</th>\n",
       "      <th>Pclass</th>\n",
       "      <th>Name</th>\n",
       "      <th>Sex</th>\n",
       "      <th>Age</th>\n",
       "      <th>SibSp</th>\n",
       "      <th>Parch</th>\n",
       "      <th>Ticket</th>\n",
       "      <th>Fare</th>\n",
       "      <th>Cabin</th>\n",
       "      <th>Embarked</th>\n",
       "      <th>Surname</th>\n",
       "      <th>Title</th>\n",
       "    </tr>\n",
       "  </thead>\n",
       "  <tbody>\n",
       "    <tr>\n",
       "      <th>647</th>\n",
       "      <td>648</td>\n",
       "      <td>1</td>\n",
       "      <td>1</td>\n",
       "      <td>Simonius-Blumer, Col. Oberst Alfons</td>\n",
       "      <td>male</td>\n",
       "      <td>56.0</td>\n",
       "      <td>0</td>\n",
       "      <td>0</td>\n",
       "      <td>13213</td>\n",
       "      <td>35.50</td>\n",
       "      <td>A26</td>\n",
       "      <td>C</td>\n",
       "      <td>Simonius-Blumer</td>\n",
       "      <td>col</td>\n",
       "    </tr>\n",
       "    <tr>\n",
       "      <th>694</th>\n",
       "      <td>695</td>\n",
       "      <td>0</td>\n",
       "      <td>1</td>\n",
       "      <td>Weir, Col. John</td>\n",
       "      <td>male</td>\n",
       "      <td>60.0</td>\n",
       "      <td>0</td>\n",
       "      <td>0</td>\n",
       "      <td>113800</td>\n",
       "      <td>26.55</td>\n",
       "      <td>NaN</td>\n",
       "      <td>S</td>\n",
       "      <td>Weir</td>\n",
       "      <td>col</td>\n",
       "    </tr>\n",
       "  </tbody>\n",
       "</table>\n",
       "</div>"
      ],
      "text/plain": [
       "     PassengerId  Survived  Pclass                                 Name   Sex  \\\n",
       "647          648         1       1  Simonius-Blumer, Col. Oberst Alfons  male   \n",
       "694          695         0       1                      Weir, Col. John  male   \n",
       "\n",
       "      Age  SibSp  Parch  Ticket   Fare Cabin Embarked          Surname Title  \n",
       "647  56.0      0      0   13213  35.50   A26        C  Simonius-Blumer   col  \n",
       "694  60.0      0      0  113800  26.55   NaN        S             Weir   col  "
      ]
     },
     "metadata": {},
     "output_type": "display_data"
    },
    {
     "name": "stdout",
     "output_type": "stream",
     "text": [
      "--------------------------------------------- countess ---------------------------\n"
     ]
    },
    {
     "data": {
      "text/html": [
       "<div>\n",
       "<style scoped>\n",
       "    .dataframe tbody tr th:only-of-type {\n",
       "        vertical-align: middle;\n",
       "    }\n",
       "\n",
       "    .dataframe tbody tr th {\n",
       "        vertical-align: top;\n",
       "    }\n",
       "\n",
       "    .dataframe thead th {\n",
       "        text-align: right;\n",
       "    }\n",
       "</style>\n",
       "<table border=\"1\" class=\"dataframe\">\n",
       "  <thead>\n",
       "    <tr style=\"text-align: right;\">\n",
       "      <th></th>\n",
       "      <th>PassengerId</th>\n",
       "      <th>Survived</th>\n",
       "      <th>Pclass</th>\n",
       "      <th>Name</th>\n",
       "      <th>Sex</th>\n",
       "      <th>Age</th>\n",
       "      <th>SibSp</th>\n",
       "      <th>Parch</th>\n",
       "      <th>Ticket</th>\n",
       "      <th>Fare</th>\n",
       "      <th>Cabin</th>\n",
       "      <th>Embarked</th>\n",
       "      <th>Surname</th>\n",
       "      <th>Title</th>\n",
       "    </tr>\n",
       "  </thead>\n",
       "  <tbody>\n",
       "    <tr>\n",
       "      <th>759</th>\n",
       "      <td>760</td>\n",
       "      <td>1</td>\n",
       "      <td>1</td>\n",
       "      <td>Rothes, the Countess. of (Lucy Noel Martha Dye...</td>\n",
       "      <td>female</td>\n",
       "      <td>33.0</td>\n",
       "      <td>0</td>\n",
       "      <td>0</td>\n",
       "      <td>110152</td>\n",
       "      <td>86.5</td>\n",
       "      <td>B77</td>\n",
       "      <td>S</td>\n",
       "      <td>Rothes</td>\n",
       "      <td>countess</td>\n",
       "    </tr>\n",
       "  </tbody>\n",
       "</table>\n",
       "</div>"
      ],
      "text/plain": [
       "     PassengerId  Survived  Pclass  \\\n",
       "759          760         1       1   \n",
       "\n",
       "                                                  Name     Sex   Age  SibSp  \\\n",
       "759  Rothes, the Countess. of (Lucy Noel Martha Dye...  female  33.0      0   \n",
       "\n",
       "     Parch  Ticket  Fare Cabin Embarked Surname     Title  \n",
       "759      0  110152  86.5   B77        S  Rothes  countess  "
      ]
     },
     "metadata": {},
     "output_type": "display_data"
    },
    {
     "name": "stdout",
     "output_type": "stream",
     "text": [
      "--------------------------------------------- capt ---------------------------\n"
     ]
    },
    {
     "data": {
      "text/html": [
       "<div>\n",
       "<style scoped>\n",
       "    .dataframe tbody tr th:only-of-type {\n",
       "        vertical-align: middle;\n",
       "    }\n",
       "\n",
       "    .dataframe tbody tr th {\n",
       "        vertical-align: top;\n",
       "    }\n",
       "\n",
       "    .dataframe thead th {\n",
       "        text-align: right;\n",
       "    }\n",
       "</style>\n",
       "<table border=\"1\" class=\"dataframe\">\n",
       "  <thead>\n",
       "    <tr style=\"text-align: right;\">\n",
       "      <th></th>\n",
       "      <th>PassengerId</th>\n",
       "      <th>Survived</th>\n",
       "      <th>Pclass</th>\n",
       "      <th>Name</th>\n",
       "      <th>Sex</th>\n",
       "      <th>Age</th>\n",
       "      <th>SibSp</th>\n",
       "      <th>Parch</th>\n",
       "      <th>Ticket</th>\n",
       "      <th>Fare</th>\n",
       "      <th>Cabin</th>\n",
       "      <th>Embarked</th>\n",
       "      <th>Surname</th>\n",
       "      <th>Title</th>\n",
       "    </tr>\n",
       "  </thead>\n",
       "  <tbody>\n",
       "    <tr>\n",
       "      <th>745</th>\n",
       "      <td>746</td>\n",
       "      <td>0</td>\n",
       "      <td>1</td>\n",
       "      <td>Crosby, Capt. Edward Gifford</td>\n",
       "      <td>male</td>\n",
       "      <td>70.0</td>\n",
       "      <td>1</td>\n",
       "      <td>1</td>\n",
       "      <td>WE/P 5735</td>\n",
       "      <td>71.0</td>\n",
       "      <td>B22</td>\n",
       "      <td>S</td>\n",
       "      <td>Crosby</td>\n",
       "      <td>capt</td>\n",
       "    </tr>\n",
       "  </tbody>\n",
       "</table>\n",
       "</div>"
      ],
      "text/plain": [
       "     PassengerId  Survived  Pclass                          Name   Sex   Age  \\\n",
       "745          746         0       1  Crosby, Capt. Edward Gifford  male  70.0   \n",
       "\n",
       "     SibSp  Parch     Ticket  Fare Cabin Embarked Surname Title  \n",
       "745      1      1  WE/P 5735  71.0   B22        S  Crosby  capt  "
      ]
     },
     "metadata": {},
     "output_type": "display_data"
    },
    {
     "name": "stdout",
     "output_type": "stream",
     "text": [
      "--------------------------------------------- ms ---------------------------\n"
     ]
    },
    {
     "data": {
      "text/html": [
       "<div>\n",
       "<style scoped>\n",
       "    .dataframe tbody tr th:only-of-type {\n",
       "        vertical-align: middle;\n",
       "    }\n",
       "\n",
       "    .dataframe tbody tr th {\n",
       "        vertical-align: top;\n",
       "    }\n",
       "\n",
       "    .dataframe thead th {\n",
       "        text-align: right;\n",
       "    }\n",
       "</style>\n",
       "<table border=\"1\" class=\"dataframe\">\n",
       "  <thead>\n",
       "    <tr style=\"text-align: right;\">\n",
       "      <th></th>\n",
       "      <th>PassengerId</th>\n",
       "      <th>Survived</th>\n",
       "      <th>Pclass</th>\n",
       "      <th>Name</th>\n",
       "      <th>Sex</th>\n",
       "      <th>Age</th>\n",
       "      <th>SibSp</th>\n",
       "      <th>Parch</th>\n",
       "      <th>Ticket</th>\n",
       "      <th>Fare</th>\n",
       "      <th>Cabin</th>\n",
       "      <th>Embarked</th>\n",
       "      <th>Surname</th>\n",
       "      <th>Title</th>\n",
       "    </tr>\n",
       "  </thead>\n",
       "  <tbody>\n",
       "    <tr>\n",
       "      <th>443</th>\n",
       "      <td>444</td>\n",
       "      <td>1</td>\n",
       "      <td>2</td>\n",
       "      <td>Reynaldo, Ms. Encarnacion</td>\n",
       "      <td>female</td>\n",
       "      <td>28.0</td>\n",
       "      <td>0</td>\n",
       "      <td>0</td>\n",
       "      <td>230434</td>\n",
       "      <td>13.0</td>\n",
       "      <td>NaN</td>\n",
       "      <td>S</td>\n",
       "      <td>Reynaldo</td>\n",
       "      <td>ms</td>\n",
       "    </tr>\n",
       "  </tbody>\n",
       "</table>\n",
       "</div>"
      ],
      "text/plain": [
       "     PassengerId  Survived  Pclass                       Name     Sex   Age  \\\n",
       "443          444         1       2  Reynaldo, Ms. Encarnacion  female  28.0   \n",
       "\n",
       "     SibSp  Parch  Ticket  Fare Cabin Embarked   Surname Title  \n",
       "443      0      0  230434  13.0   NaN        S  Reynaldo    ms  "
      ]
     },
     "metadata": {},
     "output_type": "display_data"
    },
    {
     "name": "stdout",
     "output_type": "stream",
     "text": [
      "--------------------------------------------- sir ---------------------------\n"
     ]
    },
    {
     "data": {
      "text/html": [
       "<div>\n",
       "<style scoped>\n",
       "    .dataframe tbody tr th:only-of-type {\n",
       "        vertical-align: middle;\n",
       "    }\n",
       "\n",
       "    .dataframe tbody tr th {\n",
       "        vertical-align: top;\n",
       "    }\n",
       "\n",
       "    .dataframe thead th {\n",
       "        text-align: right;\n",
       "    }\n",
       "</style>\n",
       "<table border=\"1\" class=\"dataframe\">\n",
       "  <thead>\n",
       "    <tr style=\"text-align: right;\">\n",
       "      <th></th>\n",
       "      <th>PassengerId</th>\n",
       "      <th>Survived</th>\n",
       "      <th>Pclass</th>\n",
       "      <th>Name</th>\n",
       "      <th>Sex</th>\n",
       "      <th>Age</th>\n",
       "      <th>SibSp</th>\n",
       "      <th>Parch</th>\n",
       "      <th>Ticket</th>\n",
       "      <th>Fare</th>\n",
       "      <th>Cabin</th>\n",
       "      <th>Embarked</th>\n",
       "      <th>Surname</th>\n",
       "      <th>Title</th>\n",
       "    </tr>\n",
       "  </thead>\n",
       "  <tbody>\n",
       "    <tr>\n",
       "      <th>599</th>\n",
       "      <td>600</td>\n",
       "      <td>1</td>\n",
       "      <td>1</td>\n",
       "      <td>Duff Gordon, Sir. Cosmo Edmund (\"Mr Morgan\")</td>\n",
       "      <td>male</td>\n",
       "      <td>49.0</td>\n",
       "      <td>1</td>\n",
       "      <td>0</td>\n",
       "      <td>PC 17485</td>\n",
       "      <td>56.9292</td>\n",
       "      <td>A20</td>\n",
       "      <td>C</td>\n",
       "      <td>Duff</td>\n",
       "      <td>sir</td>\n",
       "    </tr>\n",
       "  </tbody>\n",
       "</table>\n",
       "</div>"
      ],
      "text/plain": [
       "     PassengerId  Survived  Pclass  \\\n",
       "599          600         1       1   \n",
       "\n",
       "                                             Name   Sex   Age  SibSp  Parch  \\\n",
       "599  Duff Gordon, Sir. Cosmo Edmund (\"Mr Morgan\")  male  49.0      1      0   \n",
       "\n",
       "       Ticket     Fare Cabin Embarked Surname Title  \n",
       "599  PC 17485  56.9292   A20        C    Duff   sir  "
      ]
     },
     "metadata": {},
     "output_type": "display_data"
    },
    {
     "name": "stdout",
     "output_type": "stream",
     "text": [
      "--------------------------------------------- lady ---------------------------\n"
     ]
    },
    {
     "data": {
      "text/html": [
       "<div>\n",
       "<style scoped>\n",
       "    .dataframe tbody tr th:only-of-type {\n",
       "        vertical-align: middle;\n",
       "    }\n",
       "\n",
       "    .dataframe tbody tr th {\n",
       "        vertical-align: top;\n",
       "    }\n",
       "\n",
       "    .dataframe thead th {\n",
       "        text-align: right;\n",
       "    }\n",
       "</style>\n",
       "<table border=\"1\" class=\"dataframe\">\n",
       "  <thead>\n",
       "    <tr style=\"text-align: right;\">\n",
       "      <th></th>\n",
       "      <th>PassengerId</th>\n",
       "      <th>Survived</th>\n",
       "      <th>Pclass</th>\n",
       "      <th>Name</th>\n",
       "      <th>Sex</th>\n",
       "      <th>Age</th>\n",
       "      <th>SibSp</th>\n",
       "      <th>Parch</th>\n",
       "      <th>Ticket</th>\n",
       "      <th>Fare</th>\n",
       "      <th>Cabin</th>\n",
       "      <th>Embarked</th>\n",
       "      <th>Surname</th>\n",
       "      <th>Title</th>\n",
       "    </tr>\n",
       "  </thead>\n",
       "  <tbody>\n",
       "    <tr>\n",
       "      <th>556</th>\n",
       "      <td>557</td>\n",
       "      <td>1</td>\n",
       "      <td>1</td>\n",
       "      <td>Duff Gordon, Lady. (Lucille Christiana Sutherl...</td>\n",
       "      <td>female</td>\n",
       "      <td>48.0</td>\n",
       "      <td>1</td>\n",
       "      <td>0</td>\n",
       "      <td>11755</td>\n",
       "      <td>39.6</td>\n",
       "      <td>A16</td>\n",
       "      <td>C</td>\n",
       "      <td>Duff</td>\n",
       "      <td>lady</td>\n",
       "    </tr>\n",
       "  </tbody>\n",
       "</table>\n",
       "</div>"
      ],
      "text/plain": [
       "     PassengerId  Survived  Pclass  \\\n",
       "556          557         1       1   \n",
       "\n",
       "                                                  Name     Sex   Age  SibSp  \\\n",
       "556  Duff Gordon, Lady. (Lucille Christiana Sutherl...  female  48.0      1   \n",
       "\n",
       "     Parch Ticket  Fare Cabin Embarked Surname Title  \n",
       "556      0  11755  39.6   A16        C    Duff  lady  "
      ]
     },
     "metadata": {},
     "output_type": "display_data"
    },
    {
     "name": "stdout",
     "output_type": "stream",
     "text": [
      "--------------------------------------------- mme ---------------------------\n"
     ]
    },
    {
     "data": {
      "text/html": [
       "<div>\n",
       "<style scoped>\n",
       "    .dataframe tbody tr th:only-of-type {\n",
       "        vertical-align: middle;\n",
       "    }\n",
       "\n",
       "    .dataframe tbody tr th {\n",
       "        vertical-align: top;\n",
       "    }\n",
       "\n",
       "    .dataframe thead th {\n",
       "        text-align: right;\n",
       "    }\n",
       "</style>\n",
       "<table border=\"1\" class=\"dataframe\">\n",
       "  <thead>\n",
       "    <tr style=\"text-align: right;\">\n",
       "      <th></th>\n",
       "      <th>PassengerId</th>\n",
       "      <th>Survived</th>\n",
       "      <th>Pclass</th>\n",
       "      <th>Name</th>\n",
       "      <th>Sex</th>\n",
       "      <th>Age</th>\n",
       "      <th>SibSp</th>\n",
       "      <th>Parch</th>\n",
       "      <th>Ticket</th>\n",
       "      <th>Fare</th>\n",
       "      <th>Cabin</th>\n",
       "      <th>Embarked</th>\n",
       "      <th>Surname</th>\n",
       "      <th>Title</th>\n",
       "    </tr>\n",
       "  </thead>\n",
       "  <tbody>\n",
       "    <tr>\n",
       "      <th>369</th>\n",
       "      <td>370</td>\n",
       "      <td>1</td>\n",
       "      <td>1</td>\n",
       "      <td>Aubart, Mme. Leontine Pauline</td>\n",
       "      <td>female</td>\n",
       "      <td>24.0</td>\n",
       "      <td>0</td>\n",
       "      <td>0</td>\n",
       "      <td>PC 17477</td>\n",
       "      <td>69.3</td>\n",
       "      <td>B35</td>\n",
       "      <td>C</td>\n",
       "      <td>Aubart</td>\n",
       "      <td>mme</td>\n",
       "    </tr>\n",
       "  </tbody>\n",
       "</table>\n",
       "</div>"
      ],
      "text/plain": [
       "     PassengerId  Survived  Pclass                           Name     Sex  \\\n",
       "369          370         1       1  Aubart, Mme. Leontine Pauline  female   \n",
       "\n",
       "      Age  SibSp  Parch    Ticket  Fare Cabin Embarked Surname Title  \n",
       "369  24.0      0      0  PC 17477  69.3   B35        C  Aubart   mme  "
      ]
     },
     "metadata": {},
     "output_type": "display_data"
    },
    {
     "name": "stdout",
     "output_type": "stream",
     "text": [
      "--------------------------------------------- don ---------------------------\n"
     ]
    },
    {
     "data": {
      "text/html": [
       "<div>\n",
       "<style scoped>\n",
       "    .dataframe tbody tr th:only-of-type {\n",
       "        vertical-align: middle;\n",
       "    }\n",
       "\n",
       "    .dataframe tbody tr th {\n",
       "        vertical-align: top;\n",
       "    }\n",
       "\n",
       "    .dataframe thead th {\n",
       "        text-align: right;\n",
       "    }\n",
       "</style>\n",
       "<table border=\"1\" class=\"dataframe\">\n",
       "  <thead>\n",
       "    <tr style=\"text-align: right;\">\n",
       "      <th></th>\n",
       "      <th>PassengerId</th>\n",
       "      <th>Survived</th>\n",
       "      <th>Pclass</th>\n",
       "      <th>Name</th>\n",
       "      <th>Sex</th>\n",
       "      <th>Age</th>\n",
       "      <th>SibSp</th>\n",
       "      <th>Parch</th>\n",
       "      <th>Ticket</th>\n",
       "      <th>Fare</th>\n",
       "      <th>Cabin</th>\n",
       "      <th>Embarked</th>\n",
       "      <th>Surname</th>\n",
       "      <th>Title</th>\n",
       "    </tr>\n",
       "  </thead>\n",
       "  <tbody>\n",
       "    <tr>\n",
       "      <th>30</th>\n",
       "      <td>31</td>\n",
       "      <td>0</td>\n",
       "      <td>1</td>\n",
       "      <td>Uruchurtu, Don. Manuel E</td>\n",
       "      <td>male</td>\n",
       "      <td>40.0</td>\n",
       "      <td>0</td>\n",
       "      <td>0</td>\n",
       "      <td>PC 17601</td>\n",
       "      <td>27.7208</td>\n",
       "      <td>NaN</td>\n",
       "      <td>C</td>\n",
       "      <td>Uruchurtu</td>\n",
       "      <td>don</td>\n",
       "    </tr>\n",
       "  </tbody>\n",
       "</table>\n",
       "</div>"
      ],
      "text/plain": [
       "    PassengerId  Survived  Pclass                      Name   Sex   Age  \\\n",
       "30           31         0       1  Uruchurtu, Don. Manuel E  male  40.0   \n",
       "\n",
       "    SibSp  Parch    Ticket     Fare Cabin Embarked    Surname Title  \n",
       "30      0      0  PC 17601  27.7208   NaN        C  Uruchurtu   don  "
      ]
     },
     "metadata": {},
     "output_type": "display_data"
    },
    {
     "name": "stdout",
     "output_type": "stream",
     "text": [
      "--------------------------------------------- jonkheer ---------------------------\n"
     ]
    },
    {
     "data": {
      "text/html": [
       "<div>\n",
       "<style scoped>\n",
       "    .dataframe tbody tr th:only-of-type {\n",
       "        vertical-align: middle;\n",
       "    }\n",
       "\n",
       "    .dataframe tbody tr th {\n",
       "        vertical-align: top;\n",
       "    }\n",
       "\n",
       "    .dataframe thead th {\n",
       "        text-align: right;\n",
       "    }\n",
       "</style>\n",
       "<table border=\"1\" class=\"dataframe\">\n",
       "  <thead>\n",
       "    <tr style=\"text-align: right;\">\n",
       "      <th></th>\n",
       "      <th>PassengerId</th>\n",
       "      <th>Survived</th>\n",
       "      <th>Pclass</th>\n",
       "      <th>Name</th>\n",
       "      <th>Sex</th>\n",
       "      <th>Age</th>\n",
       "      <th>SibSp</th>\n",
       "      <th>Parch</th>\n",
       "      <th>Ticket</th>\n",
       "      <th>Fare</th>\n",
       "      <th>Cabin</th>\n",
       "      <th>Embarked</th>\n",
       "      <th>Surname</th>\n",
       "      <th>Title</th>\n",
       "    </tr>\n",
       "  </thead>\n",
       "  <tbody>\n",
       "    <tr>\n",
       "      <th>822</th>\n",
       "      <td>823</td>\n",
       "      <td>0</td>\n",
       "      <td>1</td>\n",
       "      <td>Reuchlin, Jonkheer. John George</td>\n",
       "      <td>male</td>\n",
       "      <td>38.0</td>\n",
       "      <td>0</td>\n",
       "      <td>0</td>\n",
       "      <td>19972</td>\n",
       "      <td>0.0</td>\n",
       "      <td>NaN</td>\n",
       "      <td>S</td>\n",
       "      <td>Reuchlin</td>\n",
       "      <td>jonkheer</td>\n",
       "    </tr>\n",
       "  </tbody>\n",
       "</table>\n",
       "</div>"
      ],
      "text/plain": [
       "     PassengerId  Survived  Pclass                             Name   Sex  \\\n",
       "822          823         0       1  Reuchlin, Jonkheer. John George  male   \n",
       "\n",
       "      Age  SibSp  Parch Ticket  Fare Cabin Embarked   Surname     Title  \n",
       "822  38.0      0      0  19972   0.0   NaN        S  Reuchlin  jonkheer  "
      ]
     },
     "metadata": {},
     "output_type": "display_data"
    }
   ],
   "source": [
    "# Explore who from this list [mlle, ms, countess, mme, lady] are miss\n",
    "for t in title_count.index:  \n",
    "    if (title_count[t] < 40):\n",
    "        print(\"--------------------------------------------- \"+ t + \" ---------------------------\")\n",
    "        display(train[(train.Title == t) ])"
   ]
  },
  {
   "cell_type": "code",
   "execution_count": 25,
   "id": "469110f0",
   "metadata": {
    "execution": {
     "iopub.execute_input": "2021-10-18T11:08:56.676871Z",
     "iopub.status.busy": "2021-10-18T11:08:56.676174Z",
     "iopub.status.idle": "2021-10-18T11:08:56.679692Z",
     "shell.execute_reply": "2021-10-18T11:08:56.680186Z",
     "shell.execute_reply.started": "2021-10-18T11:07:55.813438Z"
    },
    "papermill": {
     "duration": 0.125132,
     "end_time": "2021-10-18T11:08:56.680360",
     "exception": false,
     "start_time": "2021-10-18T11:08:56.555228",
     "status": "completed"
    },
    "tags": []
   },
   "outputs": [
    {
     "data": {
      "text/html": [
       "<div>\n",
       "<style scoped>\n",
       "    .dataframe tbody tr th:only-of-type {\n",
       "        vertical-align: middle;\n",
       "    }\n",
       "\n",
       "    .dataframe tbody tr th {\n",
       "        vertical-align: top;\n",
       "    }\n",
       "\n",
       "    .dataframe thead th {\n",
       "        text-align: right;\n",
       "    }\n",
       "</style>\n",
       "<table border=\"1\" class=\"dataframe\">\n",
       "  <thead>\n",
       "    <tr style=\"text-align: right;\">\n",
       "      <th></th>\n",
       "      <th>PassengerId</th>\n",
       "      <th>Survived</th>\n",
       "      <th>Pclass</th>\n",
       "      <th>Name</th>\n",
       "      <th>Sex</th>\n",
       "      <th>Age</th>\n",
       "      <th>SibSp</th>\n",
       "      <th>Parch</th>\n",
       "      <th>Ticket</th>\n",
       "      <th>Fare</th>\n",
       "      <th>Cabin</th>\n",
       "      <th>Embarked</th>\n",
       "      <th>Surname</th>\n",
       "      <th>Title</th>\n",
       "    </tr>\n",
       "  </thead>\n",
       "  <tbody>\n",
       "    <tr>\n",
       "      <th>556</th>\n",
       "      <td>557</td>\n",
       "      <td>1</td>\n",
       "      <td>1</td>\n",
       "      <td>Duff Gordon, Lady. (Lucille Christiana Sutherl...</td>\n",
       "      <td>female</td>\n",
       "      <td>48.0</td>\n",
       "      <td>1</td>\n",
       "      <td>0</td>\n",
       "      <td>11755</td>\n",
       "      <td>39.6000</td>\n",
       "      <td>A16</td>\n",
       "      <td>C</td>\n",
       "      <td>Duff</td>\n",
       "      <td>lady</td>\n",
       "    </tr>\n",
       "    <tr>\n",
       "      <th>599</th>\n",
       "      <td>600</td>\n",
       "      <td>1</td>\n",
       "      <td>1</td>\n",
       "      <td>Duff Gordon, Sir. Cosmo Edmund (\"Mr Morgan\")</td>\n",
       "      <td>male</td>\n",
       "      <td>49.0</td>\n",
       "      <td>1</td>\n",
       "      <td>0</td>\n",
       "      <td>PC 17485</td>\n",
       "      <td>56.9292</td>\n",
       "      <td>A20</td>\n",
       "      <td>C</td>\n",
       "      <td>Duff</td>\n",
       "      <td>sir</td>\n",
       "    </tr>\n",
       "  </tbody>\n",
       "</table>\n",
       "</div>"
      ],
      "text/plain": [
       "     PassengerId  Survived  Pclass  \\\n",
       "556          557         1       1   \n",
       "599          600         1       1   \n",
       "\n",
       "                                                  Name     Sex   Age  SibSp  \\\n",
       "556  Duff Gordon, Lady. (Lucille Christiana Sutherl...  female  48.0      1   \n",
       "599       Duff Gordon, Sir. Cosmo Edmund (\"Mr Morgan\")    male  49.0      1   \n",
       "\n",
       "     Parch    Ticket     Fare Cabin Embarked Surname Title  \n",
       "556      0     11755  39.6000   A16        C    Duff  lady  \n",
       "599      0  PC 17485  56.9292   A20        C    Duff   sir  "
      ]
     },
     "metadata": {},
     "output_type": "display_data"
    }
   ],
   "source": [
    "# Check if lady is married or not \n",
    "display(train[train.Surname == \"Duff\"])"
   ]
  },
  {
   "cell_type": "markdown",
   "id": "320cf70a",
   "metadata": {
    "papermill": {
     "duration": 0.103898,
     "end_time": "2021-10-18T11:08:56.887558",
     "exception": false,
     "start_time": "2021-10-18T11:08:56.783660",
     "status": "completed"
    },
    "tags": []
   },
   "source": [
    "Both have same (Pclass, SibSp, Parch, Embarked,  Surname) and there's similarity in Age <br>\n",
    "But Two different same in they differ in (Ticket, Fare, Cabin) <br>\n",
    "So, They might be sibling <br>\n",
    "Then lady will be added to miss category  <br>"
   ]
  },
  {
   "cell_type": "markdown",
   "id": "1eeca03a",
   "metadata": {
    "papermill": {
     "duration": 0.110262,
     "end_time": "2021-10-18T11:08:57.103604",
     "exception": false,
     "start_time": "2021-10-18T11:08:56.993342",
     "status": "completed"
    },
    "tags": []
   },
   "source": [
    "If \"master\" are Boys <br>\n",
    "Then we need a category for Girls who have the same age interval  <br>\n",
    "This will help In --> Are Boys and Girls were rescued with similar proportion? <br>\n",
    "OR did they rescue gender over another ?! <br>"
   ]
  },
  {
   "cell_type": "code",
   "execution_count": 26,
   "id": "cb7e0dc5",
   "metadata": {
    "execution": {
     "iopub.execute_input": "2021-10-18T11:08:57.359048Z",
     "iopub.status.busy": "2021-10-18T11:08:57.357121Z",
     "iopub.status.idle": "2021-10-18T11:08:57.361596Z",
     "shell.execute_reply": "2021-10-18T11:08:57.360888Z",
     "shell.execute_reply.started": "2021-10-18T11:07:55.832155Z"
    },
    "papermill": {
     "duration": 0.143953,
     "end_time": "2021-10-18T11:08:57.361739",
     "exception": false,
     "start_time": "2021-10-18T11:08:57.217786",
     "status": "completed"
    },
    "tags": []
   },
   "outputs": [],
   "source": [
    "# Compine common categories together\n",
    "train[\"Title\"] = Correct_Title(train)\n",
    "\n",
    "test[\"Title\"] = Correct_Title(test)"
   ]
  },
  {
   "cell_type": "code",
   "execution_count": 27,
   "id": "a90ff469",
   "metadata": {
    "execution": {
     "iopub.execute_input": "2021-10-18T11:08:57.629077Z",
     "iopub.status.busy": "2021-10-18T11:08:57.621794Z",
     "iopub.status.idle": "2021-10-18T11:08:57.810280Z",
     "shell.execute_reply": "2021-10-18T11:08:57.811354Z",
     "shell.execute_reply.started": "2021-10-18T11:07:55.865781Z"
    },
    "papermill": {
     "duration": 0.323324,
     "end_time": "2021-10-18T11:08:57.811537",
     "exception": false,
     "start_time": "2021-10-18T11:08:57.488213",
     "status": "completed"
    },
    "tags": []
   },
   "outputs": [
    {
     "data": {
      "image/png": "[encoded data removed]",
      "text/plain": [
       "<Figure size 432x288 with 1 Axes>"
      ]
     },
     "metadata": {
      "needs_background": "light"
     },
     "output_type": "display_data"
    }
   ],
   "source": [
    "sns.countplot(x=\"Title\", data=train);"
   ]
  },
  {
   "cell_type": "code",
   "execution_count": 28,
   "id": "05e9df92",
   "metadata": {
    "execution": {
     "iopub.execute_input": "2021-10-18T11:08:58.047112Z",
     "iopub.status.busy": "2021-10-18T11:08:58.045754Z",
     "iopub.status.idle": "2021-10-18T11:08:58.055542Z",
     "shell.execute_reply": "2021-10-18T11:08:58.054930Z",
     "shell.execute_reply.started": "2021-10-18T11:07:56.094601Z"
    },
    "papermill": {
     "duration": 0.135578,
     "end_time": "2021-10-18T11:08:58.055696",
     "exception": false,
     "start_time": "2021-10-18T11:08:57.920118",
     "status": "completed"
    },
    "tags": []
   },
   "outputs": [],
   "source": [
    "# Create New Feature called child contains girl and master\n",
    "train[\"child\"] = Get_Child(train)\n",
    "test[\"child\"] = Get_Child(test)"
   ]
  },
  {
   "cell_type": "code",
   "execution_count": 29,
   "id": "24abaefd",
   "metadata": {
    "execution": {
     "iopub.execute_input": "2021-10-18T11:08:58.286326Z",
     "iopub.status.busy": "2021-10-18T11:08:58.285421Z",
     "iopub.status.idle": "2021-10-18T11:08:58.289297Z",
     "shell.execute_reply": "2021-10-18T11:08:58.288752Z",
     "shell.execute_reply.started": "2021-10-18T11:07:56.108932Z"
    },
    "papermill": {
     "duration": 0.113655,
     "end_time": "2021-10-18T11:08:58.289438",
     "exception": false,
     "start_time": "2021-10-18T11:08:58.175783",
     "status": "completed"
    },
    "tags": []
   },
   "outputs": [
    {
     "data": {
      "text/plain": [
       "0    819\n",
       "1     72\n",
       "Name: child, dtype: int64"
      ]
     },
     "execution_count": 29,
     "metadata": {},
     "output_type": "execute_result"
    }
   ],
   "source": [
    "train[\"child\"].value_counts()"
   ]
  },
  {
   "cell_type": "markdown",
   "id": "38286e5e",
   "metadata": {
    "papermill": {
     "duration": 0.102408,
     "end_time": "2021-10-18T11:08:58.494913",
     "exception": false,
     "start_time": "2021-10-18T11:08:58.392505",
     "status": "completed"
    },
    "tags": []
   },
   "source": [
    "### Fill nan values in Age \n",
    "#### One solution is using scrapper from Encyclopedia Titanica website \n",
    "https://www.encyclopedia-titanica.org\n",
    "\n",
    "Survivor_url = \"https://www.encyclopedia-titanica.org/titanic-survivors-list/\" <br>\n",
    "dead_url = \"https://www.encyclopedia-titanica.org/titanic-victims-list/\"<br>\n",
    "\n",
    "#Survivor with nan Age --> Survivor_nan_age<br>\n",
    "Survivor_nan_age = passenger_nan_age[passenger_nan_age.Survived == 1]<br>\n",
    "\n",
    "#Dead with nan Age --> Survivor_nan_age<br>\n",
    "dead_nan_age = passenger_nan_age[passenger_nan_age.Survived == 0]<br>\n",
    "\n",
    "The problem is Names in this dataset are not complete, So rarely will match with the right name <br>\n",
    "and most of the time will git 404 page <br>\n",
    "#### Second solution is to fill it with the median age values of same Title <br>"
   ]
  },
  {
   "cell_type": "code",
   "execution_count": 30,
   "id": "0b4926a1",
   "metadata": {
    "execution": {
     "iopub.execute_input": "2021-10-18T11:08:58.704237Z",
     "iopub.status.busy": "2021-10-18T11:08:58.703420Z",
     "iopub.status.idle": "2021-10-18T11:08:58.711781Z",
     "shell.execute_reply": "2021-10-18T11:08:58.711273Z",
     "shell.execute_reply.started": "2021-10-18T11:07:56.125364Z"
    },
    "papermill": {
     "duration": 0.114086,
     "end_time": "2021-10-18T11:08:58.711920",
     "exception": false,
     "start_time": "2021-10-18T11:08:58.597834",
     "status": "completed"
    },
    "tags": []
   },
   "outputs": [],
   "source": [
    "# Fill null ages with the median of each category in Tilte\n",
    "train['Age'] = Fill_null_age(train)\n",
    "test['Age'] = Fill_null_age(test)"
   ]
  },
  {
   "cell_type": "code",
   "execution_count": 31,
   "id": "d95ef712",
   "metadata": {
    "execution": {
     "iopub.execute_input": "2021-10-18T11:08:58.926991Z",
     "iopub.status.busy": "2021-10-18T11:08:58.926192Z",
     "iopub.status.idle": "2021-10-18T11:08:58.929301Z",
     "shell.execute_reply": "2021-10-18T11:08:58.929799Z",
     "shell.execute_reply.started": "2021-10-18T11:07:56.142360Z"
    },
    "papermill": {
     "duration": 0.114781,
     "end_time": "2021-10-18T11:08:58.929987",
     "exception": false,
     "start_time": "2021-10-18T11:08:58.815206",
     "status": "completed"
    },
    "tags": []
   },
   "outputs": [
    {
     "data": {
      "text/plain": [
       "0"
      ]
     },
     "execution_count": 31,
     "metadata": {},
     "output_type": "execute_result"
    }
   ],
   "source": [
    "# Check if Age changed \n",
    "train.Age.isna().sum()"
   ]
  },
  {
   "cell_type": "markdown",
   "id": "531ac4d8",
   "metadata": {
    "papermill": {
     "duration": 0.104168,
     "end_time": "2021-10-18T11:08:59.138642",
     "exception": false,
     "start_time": "2021-10-18T11:08:59.034474",
     "status": "completed"
    },
    "tags": []
   },
   "source": [
    "##  Explore Ticket column"
   ]
  },
  {
   "cell_type": "code",
   "execution_count": 32,
   "id": "b7acf514",
   "metadata": {
    "execution": {
     "iopub.execute_input": "2021-10-18T11:08:59.349518Z",
     "iopub.status.busy": "2021-10-18T11:08:59.348570Z",
     "iopub.status.idle": "2021-10-18T11:08:59.354317Z",
     "shell.execute_reply": "2021-10-18T11:08:59.354803Z",
     "shell.execute_reply.started": "2021-10-18T11:07:56.151425Z"
    },
    "papermill": {
     "duration": 0.112887,
     "end_time": "2021-10-18T11:08:59.354998",
     "exception": false,
     "start_time": "2021-10-18T11:08:59.242111",
     "status": "completed"
    },
    "tags": []
   },
   "outputs": [
    {
     "data": {
      "text/plain": [
       "0"
      ]
     },
     "execution_count": 32,
     "metadata": {},
     "output_type": "execute_result"
    }
   ],
   "source": [
    "# Find if there's nan in Ticket column\n",
    "train.Ticket.isna().sum()"
   ]
  },
  {
   "cell_type": "markdown",
   "id": "84490fc0",
   "metadata": {
    "papermill": {
     "duration": 0.103762,
     "end_time": "2021-10-18T11:08:59.562591",
     "exception": false,
     "start_time": "2021-10-18T11:08:59.458829",
     "status": "completed"
    },
    "tags": []
   },
   "source": [
    "Note:<br>\n",
    "From previous, I have noticed that families share the same ticket value <br>\n",
    "So, create a new feature called \"HaveGroup\" contains if this passenger was in group/ family/ child with a nany...etc <br>\n",
    "Cause it's possible that people who know each either, rescued and help themself!  <br>"
   ]
  },
  {
   "cell_type": "code",
   "execution_count": 33,
   "id": "73641e1c",
   "metadata": {
    "execution": {
     "iopub.execute_input": "2021-10-18T11:08:59.772657Z",
     "iopub.status.busy": "2021-10-18T11:08:59.771657Z",
     "iopub.status.idle": "2021-10-18T11:08:59.779108Z",
     "shell.execute_reply": "2021-10-18T11:08:59.779617Z",
     "shell.execute_reply.started": "2021-10-18T11:07:56.165071Z"
    },
    "papermill": {
     "duration": 0.113969,
     "end_time": "2021-10-18T11:08:59.779783",
     "exception": false,
     "start_time": "2021-10-18T11:08:59.665814",
     "status": "completed"
    },
    "tags": []
   },
   "outputs": [],
   "source": [
    "# Count each one with same Ticket\n",
    "train_Groups = train.groupby(\"Ticket\")[\"PassengerId\"].count()\n",
    "test_Groups = test.groupby(\"Ticket\")[\"PassengerId\"].count()"
   ]
  },
  {
   "cell_type": "code",
   "execution_count": 34,
   "id": "6274c9d6",
   "metadata": {
    "execution": {
     "iopub.execute_input": "2021-10-18T11:08:59.990967Z",
     "iopub.status.busy": "2021-10-18T11:08:59.989924Z",
     "iopub.status.idle": "2021-10-18T11:09:00.006758Z",
     "shell.execute_reply": "2021-10-18T11:09:00.006174Z",
     "shell.execute_reply.started": "2021-10-18T11:07:56.178926Z"
    },
    "papermill": {
     "duration": 0.123213,
     "end_time": "2021-10-18T11:09:00.006896",
     "exception": false,
     "start_time": "2021-10-18T11:08:59.883683",
     "status": "completed"
    },
    "tags": []
   },
   "outputs": [],
   "source": [
    "# Merge \"Groups\" panda series with train datafram on ticket values\n",
    "train = train.merge(train_Groups, on=\"Ticket\", how=\"left\")\n",
    "\n",
    "test = test.merge(test_Groups, on=\"Ticket\", how=\"left\")"
   ]
  },
  {
   "cell_type": "code",
   "execution_count": 35,
   "id": "098132cf",
   "metadata": {
    "execution": {
     "iopub.execute_input": "2021-10-18T11:09:00.220446Z",
     "iopub.status.busy": "2021-10-18T11:09:00.219735Z",
     "iopub.status.idle": "2021-10-18T11:09:00.221247Z",
     "shell.execute_reply": "2021-10-18T11:09:00.221841Z",
     "shell.execute_reply.started": "2021-10-18T11:07:56.204886Z"
    },
    "papermill": {
     "duration": 0.111634,
     "end_time": "2021-10-18T11:09:00.222039",
     "exception": false,
     "start_time": "2021-10-18T11:09:00.110405",
     "status": "completed"
    },
    "tags": []
   },
   "outputs": [],
   "source": [
    "# Change columns name PassengerId_x ---> PassengerId\n",
    "#                     PassengerId_y ---> Group\n",
    "train.rename(columns={'PassengerId_x': 'PassengerId', 'PassengerId_y': 'Group', \"child\": \"Child\"}, inplace=True)\n",
    "test.rename(columns={'PassengerId_x': 'PassengerId', 'PassengerId_y': 'Group', \"child\": \"Child\"}, inplace=True)"
   ]
  },
  {
   "cell_type": "code",
   "execution_count": 36,
   "id": "1d5bad5f",
   "metadata": {
    "execution": {
     "iopub.execute_input": "2021-10-18T11:09:00.432995Z",
     "iopub.status.busy": "2021-10-18T11:09:00.432338Z",
     "iopub.status.idle": "2021-10-18T11:09:00.437407Z",
     "shell.execute_reply": "2021-10-18T11:09:00.438013Z",
     "shell.execute_reply.started": "2021-10-18T11:07:56.212476Z"
    },
    "papermill": {
     "duration": 0.112609,
     "end_time": "2021-10-18T11:09:00.438177",
     "exception": false,
     "start_time": "2021-10-18T11:09:00.325568",
     "status": "completed"
    },
    "tags": []
   },
   "outputs": [],
   "source": [
    "# Create new feature HaveGroup True if Group > 1, False if not\n",
    "train[\"HaveGroup\"] = train[\"Group\"] > 1\n",
    "test[\"HaveGroup\"] = test[\"Group\"] > 1"
   ]
  },
  {
   "cell_type": "code",
   "execution_count": 37,
   "id": "fb38f7e9",
   "metadata": {
    "execution": {
     "iopub.execute_input": "2021-10-18T11:09:00.648118Z",
     "iopub.status.busy": "2021-10-18T11:09:00.647478Z",
     "iopub.status.idle": "2021-10-18T11:09:00.652227Z",
     "shell.execute_reply": "2021-10-18T11:09:00.652803Z",
     "shell.execute_reply.started": "2021-10-18T11:07:56.225187Z"
    },
    "papermill": {
     "duration": 0.111192,
     "end_time": "2021-10-18T11:09:00.652990",
     "exception": false,
     "start_time": "2021-10-18T11:09:00.541798",
     "status": "completed"
    },
    "tags": []
   },
   "outputs": [
    {
     "data": {
      "text/plain": [
       "array([1, 2, 4, 3, 7, 5, 6])"
      ]
     },
     "execution_count": 37,
     "metadata": {},
     "output_type": "execute_result"
    }
   ],
   "source": [
    "train[\"Group\"].unique()"
   ]
  },
  {
   "cell_type": "markdown",
   "id": "47010da0",
   "metadata": {
    "papermill": {
     "duration": 0.106992,
     "end_time": "2021-10-18T11:09:00.864591",
     "exception": false,
     "start_time": "2021-10-18T11:09:00.757599",
     "status": "completed"
    },
    "tags": []
   },
   "source": [
    "1 means this passenger according to these data wasn't share same ticket, so we need to adjust this column by minis it from 1 "
   ]
  },
  {
   "cell_type": "code",
   "execution_count": 38,
   "id": "e9027457",
   "metadata": {
    "execution": {
     "iopub.execute_input": "2021-10-18T11:09:01.081633Z",
     "iopub.status.busy": "2021-10-18T11:09:01.080877Z",
     "iopub.status.idle": "2021-10-18T11:09:01.085981Z",
     "shell.execute_reply": "2021-10-18T11:09:01.085416Z",
     "shell.execute_reply.started": "2021-10-18T11:07:56.238476Z"
    },
    "papermill": {
     "duration": 0.115373,
     "end_time": "2021-10-18T11:09:01.086158",
     "exception": false,
     "start_time": "2021-10-18T11:09:00.970785",
     "status": "completed"
    },
    "tags": []
   },
   "outputs": [],
   "source": [
    "# Correct group values \n",
    "train[\"Group\"] = train[\"Group\"] - 1\n",
    "test[\"Group\"] = test[\"Group\"] - 1"
   ]
  },
  {
   "cell_type": "code",
   "execution_count": 39,
   "id": "e841fae9",
   "metadata": {
    "execution": {
     "iopub.execute_input": "2021-10-18T11:09:01.303487Z",
     "iopub.status.busy": "2021-10-18T11:09:01.300479Z",
     "iopub.status.idle": "2021-10-18T11:09:01.321047Z",
     "shell.execute_reply": "2021-10-18T11:09:01.320419Z",
     "shell.execute_reply.started": "2021-10-18T11:07:56.250135Z"
    },
    "papermill": {
     "duration": 0.12942,
     "end_time": "2021-10-18T11:09:01.321186",
     "exception": false,
     "start_time": "2021-10-18T11:09:01.191766",
     "status": "completed"
    },
    "tags": []
   },
   "outputs": [
    {
     "name": "stdout",
     "output_type": "stream",
     "text": [
      "(891, 17)\n"
     ]
    },
    {
     "data": {
      "text/html": [
       "<div>\n",
       "<style scoped>\n",
       "    .dataframe tbody tr th:only-of-type {\n",
       "        vertical-align: middle;\n",
       "    }\n",
       "\n",
       "    .dataframe tbody tr th {\n",
       "        vertical-align: top;\n",
       "    }\n",
       "\n",
       "    .dataframe thead th {\n",
       "        text-align: right;\n",
       "    }\n",
       "</style>\n",
       "<table border=\"1\" class=\"dataframe\">\n",
       "  <thead>\n",
       "    <tr style=\"text-align: right;\">\n",
       "      <th></th>\n",
       "      <th>PassengerId</th>\n",
       "      <th>Survived</th>\n",
       "      <th>Pclass</th>\n",
       "      <th>Name</th>\n",
       "      <th>Sex</th>\n",
       "      <th>Age</th>\n",
       "      <th>SibSp</th>\n",
       "      <th>Parch</th>\n",
       "      <th>Ticket</th>\n",
       "      <th>Fare</th>\n",
       "      <th>Cabin</th>\n",
       "      <th>Embarked</th>\n",
       "      <th>Surname</th>\n",
       "      <th>Title</th>\n",
       "      <th>Child</th>\n",
       "      <th>Group</th>\n",
       "      <th>HaveGroup</th>\n",
       "    </tr>\n",
       "  </thead>\n",
       "  <tbody>\n",
       "    <tr>\n",
       "      <th>504</th>\n",
       "      <td>505</td>\n",
       "      <td>1</td>\n",
       "      <td>1</td>\n",
       "      <td>Maioni, Miss. Roberta</td>\n",
       "      <td>female</td>\n",
       "      <td>16.0</td>\n",
       "      <td>0</td>\n",
       "      <td>0</td>\n",
       "      <td>110152</td>\n",
       "      <td>86.50</td>\n",
       "      <td>B79</td>\n",
       "      <td>S</td>\n",
       "      <td>Maioni</td>\n",
       "      <td>miss</td>\n",
       "      <td>0</td>\n",
       "      <td>2</td>\n",
       "      <td>True</td>\n",
       "    </tr>\n",
       "    <tr>\n",
       "      <th>257</th>\n",
       "      <td>258</td>\n",
       "      <td>1</td>\n",
       "      <td>1</td>\n",
       "      <td>Cherry, Miss. Gladys</td>\n",
       "      <td>female</td>\n",
       "      <td>30.0</td>\n",
       "      <td>0</td>\n",
       "      <td>0</td>\n",
       "      <td>110152</td>\n",
       "      <td>86.50</td>\n",
       "      <td>B77</td>\n",
       "      <td>S</td>\n",
       "      <td>Cherry</td>\n",
       "      <td>miss</td>\n",
       "      <td>0</td>\n",
       "      <td>2</td>\n",
       "      <td>True</td>\n",
       "    </tr>\n",
       "    <tr>\n",
       "      <th>759</th>\n",
       "      <td>760</td>\n",
       "      <td>1</td>\n",
       "      <td>1</td>\n",
       "      <td>Rothes, the Countess. of (Lucy Noel Martha Dye...</td>\n",
       "      <td>female</td>\n",
       "      <td>33.0</td>\n",
       "      <td>0</td>\n",
       "      <td>0</td>\n",
       "      <td>110152</td>\n",
       "      <td>86.50</td>\n",
       "      <td>B77</td>\n",
       "      <td>S</td>\n",
       "      <td>Rothes</td>\n",
       "      <td>miss</td>\n",
       "      <td>0</td>\n",
       "      <td>2</td>\n",
       "      <td>True</td>\n",
       "    </tr>\n",
       "    <tr>\n",
       "      <th>262</th>\n",
       "      <td>263</td>\n",
       "      <td>0</td>\n",
       "      <td>1</td>\n",
       "      <td>Taussig, Mr. Emil</td>\n",
       "      <td>male</td>\n",
       "      <td>52.0</td>\n",
       "      <td>1</td>\n",
       "      <td>1</td>\n",
       "      <td>110413</td>\n",
       "      <td>79.65</td>\n",
       "      <td>E67</td>\n",
       "      <td>S</td>\n",
       "      <td>Taussig</td>\n",
       "      <td>mr</td>\n",
       "      <td>0</td>\n",
       "      <td>2</td>\n",
       "      <td>True</td>\n",
       "    </tr>\n",
       "    <tr>\n",
       "      <th>558</th>\n",
       "      <td>559</td>\n",
       "      <td>1</td>\n",
       "      <td>1</td>\n",
       "      <td>Taussig, Mrs. Emil (Tillie Mandelbaum)</td>\n",
       "      <td>female</td>\n",
       "      <td>39.0</td>\n",
       "      <td>1</td>\n",
       "      <td>1</td>\n",
       "      <td>110413</td>\n",
       "      <td>79.65</td>\n",
       "      <td>E67</td>\n",
       "      <td>S</td>\n",
       "      <td>Taussig</td>\n",
       "      <td>mrs</td>\n",
       "      <td>0</td>\n",
       "      <td>2</td>\n",
       "      <td>True</td>\n",
       "    </tr>\n",
       "  </tbody>\n",
       "</table>\n",
       "</div>"
      ],
      "text/plain": [
       "     PassengerId  Survived  Pclass  \\\n",
       "504          505         1       1   \n",
       "257          258         1       1   \n",
       "759          760         1       1   \n",
       "262          263         0       1   \n",
       "558          559         1       1   \n",
       "\n",
       "                                                  Name     Sex   Age  SibSp  \\\n",
       "504                              Maioni, Miss. Roberta  female  16.0      0   \n",
       "257                               Cherry, Miss. Gladys  female  30.0      0   \n",
       "759  Rothes, the Countess. of (Lucy Noel Martha Dye...  female  33.0      0   \n",
       "262                                  Taussig, Mr. Emil    male  52.0      1   \n",
       "558             Taussig, Mrs. Emil (Tillie Mandelbaum)  female  39.0      1   \n",
       "\n",
       "     Parch  Ticket   Fare Cabin Embarked  Surname Title  Child  Group  \\\n",
       "504      0  110152  86.50   B79        S   Maioni  miss      0      2   \n",
       "257      0  110152  86.50   B77        S   Cherry  miss      0      2   \n",
       "759      0  110152  86.50   B77        S   Rothes  miss      0      2   \n",
       "262      1  110413  79.65   E67        S  Taussig    mr      0      2   \n",
       "558      1  110413  79.65   E67        S  Taussig   mrs      0      2   \n",
       "\n",
       "     HaveGroup  \n",
       "504       True  \n",
       "257       True  \n",
       "759       True  \n",
       "262       True  \n",
       "558       True  "
      ]
     },
     "execution_count": 39,
     "metadata": {},
     "output_type": "execute_result"
    }
   ],
   "source": [
    "# check that it groupped correcticly\n",
    "print(train.shape)\n",
    "train.sort_values([\"Ticket\"]).head()"
   ]
  },
  {
   "cell_type": "markdown",
   "id": "a4a28401",
   "metadata": {
    "papermill": {
     "duration": 0.105024,
     "end_time": "2021-10-18T11:09:01.530959",
     "exception": false,
     "start_time": "2021-10-18T11:09:01.425935",
     "status": "completed"
    },
    "tags": []
   },
   "source": [
    "##  Explore Cabin column"
   ]
  },
  {
   "cell_type": "markdown",
   "id": "8106c637",
   "metadata": {
    "papermill": {
     "duration": 0.104329,
     "end_time": "2021-10-18T11:09:01.740402",
     "exception": false,
     "start_time": "2021-10-18T11:09:01.636073",
     "status": "completed"
    },
    "tags": []
   },
   "source": [
    "Note: Might passengers who were in the lower Cabins couldn't survive and the others in the higher Cabins could <br>\n",
    "ex. Cabin = C27<br>\n",
    "Seprate each cabin to class and number <br>\n",
    "cabin_class: C<br>\n",
    "cabin_num: 27<br>"
   ]
  },
  {
   "cell_type": "code",
   "execution_count": 40,
   "id": "68980d92",
   "metadata": {
    "execution": {
     "iopub.execute_input": "2021-10-18T11:09:01.955862Z",
     "iopub.status.busy": "2021-10-18T11:09:01.955215Z",
     "iopub.status.idle": "2021-10-18T11:09:01.958681Z",
     "shell.execute_reply": "2021-10-18T11:09:01.959152Z",
     "shell.execute_reply.started": "2021-10-18T11:07:56.283334Z"
    },
    "papermill": {
     "duration": 0.114161,
     "end_time": "2021-10-18T11:09:01.959324",
     "exception": false,
     "start_time": "2021-10-18T11:09:01.845163",
     "status": "completed"
    },
    "tags": []
   },
   "outputs": [
    {
     "data": {
      "text/plain": [
       "array([nan, 'C85', 'C123', 'E46', 'G6', 'C103', 'D56', 'A6',\n",
       "       'C23 C25 C27', 'B78', 'D33', 'B30', 'C52', 'B28', 'C83', 'F33',\n",
       "       'F G73', 'E31', 'A5', 'D10 D12', 'D26', 'C110', 'B58 B60', 'E101',\n",
       "       'F E69', 'D47', 'B86', 'F2', 'C2', 'E33', 'B19', 'A7', 'C49', 'F4',\n",
       "       'A32', 'B4', 'B80', 'A31', 'D36', 'D15', 'C93', 'C78', 'D35',\n",
       "       'C87', 'B77', 'E67', 'B94', 'C125', 'C99', 'C118', 'D7', 'A19',\n",
       "       'B49', 'D', 'C22 C26', 'C106', 'C65', 'E36', 'C54',\n",
       "       'B57 B59 B63 B66', 'C7', 'E34', 'C32', 'B18', 'C124', 'C91', 'E40',\n",
       "       'T', 'C128', 'D37', 'B35', 'E50', 'C82', 'B96 B98', 'E10', 'E44',\n",
       "       'A34', 'C104', 'C111', 'C92', 'E38', 'D21', 'E12', 'E63', 'A14',\n",
       "       'B37', 'C30', 'D20', 'B79', 'E25', 'D46', 'B73', 'C95', 'B38',\n",
       "       'B39', 'B22', 'C86', 'C70', 'A16', 'C101', 'C68', 'A10', 'E68',\n",
       "       'B41', 'A20', 'D19', 'D50', 'D9', 'A23', 'B50', 'A26', 'D48',\n",
       "       'E58', 'C126', 'B71', 'B51 B53 B55', 'D49', 'B5', 'B20', 'F G63',\n",
       "       'C62 C64', 'E24', 'C90', 'C45', 'E8', 'B101', 'D45', 'C46', 'D30',\n",
       "       'E121', 'D11', 'E77', 'F38', 'B3', 'D6', 'B82 B84', 'D17', 'A36',\n",
       "       'B102', 'B69', 'E49', 'C47', 'D28', 'E17', 'A24', 'C50', 'B42',\n",
       "       'C148'], dtype=object)"
      ]
     },
     "execution_count": 40,
     "metadata": {},
     "output_type": "execute_result"
    }
   ],
   "source": [
    "train[\"Cabin\"].unique() "
   ]
  },
  {
   "cell_type": "markdown",
   "id": "c469f580",
   "metadata": {
    "papermill": {
     "duration": 0.104814,
     "end_time": "2021-10-18T11:09:02.169748",
     "exception": false,
     "start_time": "2021-10-18T11:09:02.064934",
     "status": "completed"
    },
    "tags": []
   },
   "source": [
    "Most of cabins have char and one or two digit <br>\n",
    "Figure out if there's less than this \n"
   ]
  },
  {
   "cell_type": "code",
   "execution_count": 41,
   "id": "1eca56c2",
   "metadata": {
    "execution": {
     "iopub.execute_input": "2021-10-18T11:09:02.387281Z",
     "iopub.status.busy": "2021-10-18T11:09:02.386372Z",
     "iopub.status.idle": "2021-10-18T11:09:02.389582Z",
     "shell.execute_reply": "2021-10-18T11:09:02.390047Z",
     "shell.execute_reply.started": "2021-10-18T11:07:56.294467Z"
    },
    "papermill": {
     "duration": 0.114949,
     "end_time": "2021-10-18T11:09:02.390214",
     "exception": false,
     "start_time": "2021-10-18T11:09:02.275265",
     "status": "completed"
    },
    "tags": []
   },
   "outputs": [
    {
     "data": {
      "text/plain": [
       "['D', 'T']"
      ]
     },
     "execution_count": 41,
     "metadata": {},
     "output_type": "execute_result"
    }
   ],
   "source": [
    "[c for c in train[\"Cabin\"].unique()[1:] if (len(c) < 2)]"
   ]
  },
  {
   "cell_type": "code",
   "execution_count": 42,
   "id": "d81cc367",
   "metadata": {
    "execution": {
     "iopub.execute_input": "2021-10-18T11:09:02.618051Z",
     "iopub.status.busy": "2021-10-18T11:09:02.603851Z",
     "iopub.status.idle": "2021-10-18T11:09:02.621322Z",
     "shell.execute_reply": "2021-10-18T11:09:02.621796Z",
     "shell.execute_reply.started": "2021-10-18T11:07:56.306364Z"
    },
    "papermill": {
     "duration": 0.126761,
     "end_time": "2021-10-18T11:09:02.621982",
     "exception": false,
     "start_time": "2021-10-18T11:09:02.495221",
     "status": "completed"
    },
    "tags": []
   },
   "outputs": [
    {
     "data": {
      "text/html": [
       "<div>\n",
       "<style scoped>\n",
       "    .dataframe tbody tr th:only-of-type {\n",
       "        vertical-align: middle;\n",
       "    }\n",
       "\n",
       "    .dataframe tbody tr th {\n",
       "        vertical-align: top;\n",
       "    }\n",
       "\n",
       "    .dataframe thead th {\n",
       "        text-align: right;\n",
       "    }\n",
       "</style>\n",
       "<table border=\"1\" class=\"dataframe\">\n",
       "  <thead>\n",
       "    <tr style=\"text-align: right;\">\n",
       "      <th></th>\n",
       "      <th>PassengerId</th>\n",
       "      <th>Survived</th>\n",
       "      <th>Pclass</th>\n",
       "      <th>Name</th>\n",
       "      <th>Sex</th>\n",
       "      <th>Age</th>\n",
       "      <th>SibSp</th>\n",
       "      <th>Parch</th>\n",
       "      <th>Ticket</th>\n",
       "      <th>Fare</th>\n",
       "      <th>Cabin</th>\n",
       "      <th>Embarked</th>\n",
       "      <th>Surname</th>\n",
       "      <th>Title</th>\n",
       "      <th>Child</th>\n",
       "      <th>Group</th>\n",
       "      <th>HaveGroup</th>\n",
       "    </tr>\n",
       "  </thead>\n",
       "  <tbody>\n",
       "    <tr>\n",
       "      <th>339</th>\n",
       "      <td>340</td>\n",
       "      <td>0</td>\n",
       "      <td>1</td>\n",
       "      <td>Blackwell, Mr. Stephen Weart</td>\n",
       "      <td>male</td>\n",
       "      <td>45.0</td>\n",
       "      <td>0</td>\n",
       "      <td>0</td>\n",
       "      <td>113784</td>\n",
       "      <td>35.5</td>\n",
       "      <td>T</td>\n",
       "      <td>S</td>\n",
       "      <td>Blackwell</td>\n",
       "      <td>mr</td>\n",
       "      <td>0</td>\n",
       "      <td>0</td>\n",
       "      <td>False</td>\n",
       "    </tr>\n",
       "  </tbody>\n",
       "</table>\n",
       "</div>"
      ],
      "text/plain": [
       "     PassengerId  Survived  Pclass                          Name   Sex   Age  \\\n",
       "339          340         0       1  Blackwell, Mr. Stephen Weart  male  45.0   \n",
       "\n",
       "     SibSp  Parch  Ticket  Fare Cabin Embarked    Surname Title  Child  Group  \\\n",
       "339      0      0  113784  35.5     T        S  Blackwell    mr      0      0   \n",
       "\n",
       "     HaveGroup  \n",
       "339      False  "
      ]
     },
     "execution_count": 42,
     "metadata": {},
     "output_type": "execute_result"
    }
   ],
   "source": [
    "train[train.Cabin == \"T\"]"
   ]
  },
  {
   "cell_type": "code",
   "execution_count": 43,
   "id": "18d927c8",
   "metadata": {
    "execution": {
     "iopub.execute_input": "2021-10-18T11:09:02.854263Z",
     "iopub.status.busy": "2021-10-18T11:09:02.853554Z",
     "iopub.status.idle": "2021-10-18T11:09:02.856260Z",
     "shell.execute_reply": "2021-10-18T11:09:02.856755Z",
     "shell.execute_reply.started": "2021-10-18T11:07:56.331610Z"
    },
    "papermill": {
     "duration": 0.128711,
     "end_time": "2021-10-18T11:09:02.856934",
     "exception": false,
     "start_time": "2021-10-18T11:09:02.728223",
     "status": "completed"
    },
    "tags": []
   },
   "outputs": [
    {
     "data": {
      "text/html": [
       "<div>\n",
       "<style scoped>\n",
       "    .dataframe tbody tr th:only-of-type {\n",
       "        vertical-align: middle;\n",
       "    }\n",
       "\n",
       "    .dataframe tbody tr th {\n",
       "        vertical-align: top;\n",
       "    }\n",
       "\n",
       "    .dataframe thead th {\n",
       "        text-align: right;\n",
       "    }\n",
       "</style>\n",
       "<table border=\"1\" class=\"dataframe\">\n",
       "  <thead>\n",
       "    <tr style=\"text-align: right;\">\n",
       "      <th></th>\n",
       "      <th>PassengerId</th>\n",
       "      <th>Survived</th>\n",
       "      <th>Pclass</th>\n",
       "      <th>Name</th>\n",
       "      <th>Sex</th>\n",
       "      <th>Age</th>\n",
       "      <th>SibSp</th>\n",
       "      <th>Parch</th>\n",
       "      <th>Ticket</th>\n",
       "      <th>Fare</th>\n",
       "      <th>Cabin</th>\n",
       "      <th>Embarked</th>\n",
       "      <th>Surname</th>\n",
       "      <th>Title</th>\n",
       "      <th>Child</th>\n",
       "      <th>Group</th>\n",
       "      <th>HaveGroup</th>\n",
       "    </tr>\n",
       "  </thead>\n",
       "  <tbody>\n",
       "    <tr>\n",
       "      <th>292</th>\n",
       "      <td>293</td>\n",
       "      <td>0</td>\n",
       "      <td>2</td>\n",
       "      <td>Levy, Mr. Rene Jacques</td>\n",
       "      <td>male</td>\n",
       "      <td>36.0</td>\n",
       "      <td>0</td>\n",
       "      <td>0</td>\n",
       "      <td>SC/Paris 2163</td>\n",
       "      <td>12.8750</td>\n",
       "      <td>D</td>\n",
       "      <td>C</td>\n",
       "      <td>Levy</td>\n",
       "      <td>mr</td>\n",
       "      <td>0</td>\n",
       "      <td>0</td>\n",
       "      <td>False</td>\n",
       "    </tr>\n",
       "    <tr>\n",
       "      <th>327</th>\n",
       "      <td>328</td>\n",
       "      <td>1</td>\n",
       "      <td>2</td>\n",
       "      <td>Ball, Mrs. (Ada E Hall)</td>\n",
       "      <td>female</td>\n",
       "      <td>36.0</td>\n",
       "      <td>0</td>\n",
       "      <td>0</td>\n",
       "      <td>28551</td>\n",
       "      <td>13.0000</td>\n",
       "      <td>D</td>\n",
       "      <td>S</td>\n",
       "      <td>Ball</td>\n",
       "      <td>mrs</td>\n",
       "      <td>0</td>\n",
       "      <td>0</td>\n",
       "      <td>False</td>\n",
       "    </tr>\n",
       "    <tr>\n",
       "      <th>473</th>\n",
       "      <td>474</td>\n",
       "      <td>1</td>\n",
       "      <td>2</td>\n",
       "      <td>Jerwan, Mrs. Amin S (Marie Marthe Thuillard)</td>\n",
       "      <td>female</td>\n",
       "      <td>23.0</td>\n",
       "      <td>0</td>\n",
       "      <td>0</td>\n",
       "      <td>SC/AH Basle 541</td>\n",
       "      <td>13.7917</td>\n",
       "      <td>D</td>\n",
       "      <td>C</td>\n",
       "      <td>Jerwan</td>\n",
       "      <td>mrs</td>\n",
       "      <td>0</td>\n",
       "      <td>0</td>\n",
       "      <td>False</td>\n",
       "    </tr>\n",
       "  </tbody>\n",
       "</table>\n",
       "</div>"
      ],
      "text/plain": [
       "     PassengerId  Survived  Pclass  \\\n",
       "292          293         0       2   \n",
       "327          328         1       2   \n",
       "473          474         1       2   \n",
       "\n",
       "                                             Name     Sex   Age  SibSp  Parch  \\\n",
       "292                        Levy, Mr. Rene Jacques    male  36.0      0      0   \n",
       "327                       Ball, Mrs. (Ada E Hall)  female  36.0      0      0   \n",
       "473  Jerwan, Mrs. Amin S (Marie Marthe Thuillard)  female  23.0      0      0   \n",
       "\n",
       "              Ticket     Fare Cabin Embarked Surname Title  Child  Group  \\\n",
       "292    SC/Paris 2163  12.8750     D        C    Levy    mr      0      0   \n",
       "327            28551  13.0000     D        S    Ball   mrs      0      0   \n",
       "473  SC/AH Basle 541  13.7917     D        C  Jerwan   mrs      0      0   \n",
       "\n",
       "     HaveGroup  \n",
       "292      False  \n",
       "327      False  \n",
       "473      False  "
      ]
     },
     "execution_count": 43,
     "metadata": {},
     "output_type": "execute_result"
    }
   ],
   "source": [
    "train[train.Cabin == \"D\"]"
   ]
  },
  {
   "cell_type": "code",
   "execution_count": 44,
   "id": "b8edaf68",
   "metadata": {
    "execution": {
     "iopub.execute_input": "2021-10-18T11:09:03.078608Z",
     "iopub.status.busy": "2021-10-18T11:09:03.075239Z",
     "iopub.status.idle": "2021-10-18T11:09:03.081464Z",
     "shell.execute_reply": "2021-10-18T11:09:03.082022Z",
     "shell.execute_reply.started": "2021-10-18T11:07:56.360377Z"
    },
    "papermill": {
     "duration": 0.117928,
     "end_time": "2021-10-18T11:09:03.082190",
     "exception": false,
     "start_time": "2021-10-18T11:09:02.964262",
     "status": "completed"
    },
    "tags": []
   },
   "outputs": [
    {
     "data": {
      "text/plain": [
       "['C23 C25 C27',\n",
       " 'F G73',\n",
       " 'D10 D12',\n",
       " 'B58 B60',\n",
       " 'F E69',\n",
       " 'C22 C26',\n",
       " 'B57 B59 B63 B66',\n",
       " 'B96 B98',\n",
       " 'B51 B53 B55',\n",
       " 'F G63',\n",
       " 'C62 C64',\n",
       " 'B82 B84']"
      ]
     },
     "execution_count": 44,
     "metadata": {},
     "output_type": "execute_result"
    }
   ],
   "source": [
    "[c for c in train[\"Cabin\"].unique()[1:] if (len(c) > 4)]"
   ]
  },
  {
   "cell_type": "markdown",
   "id": "75e37eab",
   "metadata": {
    "papermill": {
     "duration": 0.107324,
     "end_time": "2021-10-18T11:09:03.296713",
     "exception": false,
     "start_time": "2021-10-18T11:09:03.189389",
     "status": "completed"
    },
    "tags": []
   },
   "source": [
    "We have problem with Cabin number cause some Cabin values have more than one cabin<br>\n",
    "Cabin Class gives information about in which surface the room was <br>\n",
    "Cabin Number gives us information where the room was [right, middle, left] of the ship<br>"
   ]
  },
  {
   "cell_type": "markdown",
   "id": "877f29e4",
   "metadata": {
    "papermill": {
     "duration": 0.107728,
     "end_time": "2021-10-18T11:09:03.512043",
     "exception": false,
     "start_time": "2021-10-18T11:09:03.404315",
     "status": "completed"
    },
    "tags": []
   },
   "source": [
    "Note:<br>\n",
    "The F Deck contain This areas --> R, J, H, G, E, C <br>\n",
    "So, ['F G73', 'F E69', 'F G63'], are a special case, so let's separated it "
   ]
  },
  {
   "cell_type": "code",
   "execution_count": 45,
   "id": "766c4f94",
   "metadata": {
    "execution": {
     "iopub.execute_input": "2021-10-18T11:09:03.751457Z",
     "iopub.status.busy": "2021-10-18T11:09:03.743819Z",
     "iopub.status.idle": "2021-10-18T11:09:03.754548Z",
     "shell.execute_reply": "2021-10-18T11:09:03.753854Z",
     "shell.execute_reply.started": "2021-10-18T11:07:56.373129Z"
    },
    "papermill": {
     "duration": 0.134523,
     "end_time": "2021-10-18T11:09:03.754689",
     "exception": false,
     "start_time": "2021-10-18T11:09:03.620166",
     "status": "completed"
    },
    "tags": []
   },
   "outputs": [],
   "source": [
    "#  take just the first cabin for them all combined_cabin\n",
    "Correct_Cabin(train)\n",
    "Correct_Cabin(test)"
   ]
  },
  {
   "cell_type": "code",
   "execution_count": 46,
   "id": "14307c77",
   "metadata": {
    "execution": {
     "iopub.execute_input": "2021-10-18T11:09:03.976220Z",
     "iopub.status.busy": "2021-10-18T11:09:03.975192Z",
     "iopub.status.idle": "2021-10-18T11:09:03.981376Z",
     "shell.execute_reply": "2021-10-18T11:09:03.981877Z",
     "shell.execute_reply.started": "2021-10-18T11:07:56.397969Z"
    },
    "papermill": {
     "duration": 0.120036,
     "end_time": "2021-10-18T11:09:03.982079",
     "exception": false,
     "start_time": "2021-10-18T11:09:03.862043",
     "status": "completed"
    },
    "tags": []
   },
   "outputs": [],
   "source": [
    "# Cabin Classes \n",
    "train[\"CabinClass\"] = Get_CabinClass(train)\n",
    "test[\"CabinClass\"] = Get_CabinClass(test)"
   ]
  },
  {
   "cell_type": "markdown",
   "id": "f8e877af",
   "metadata": {
    "papermill": {
     "duration": 0.106705,
     "end_time": "2021-10-18T11:09:04.196052",
     "exception": false,
     "start_time": "2021-10-18T11:09:04.089347",
     "status": "completed"
    },
    "tags": []
   },
   "source": [
    "full unknown cabin with 0"
   ]
  },
  {
   "cell_type": "code",
   "execution_count": 47,
   "id": "708d5b37",
   "metadata": {
    "execution": {
     "iopub.execute_input": "2021-10-18T11:09:04.416928Z",
     "iopub.status.busy": "2021-10-18T11:09:04.416277Z",
     "iopub.status.idle": "2021-10-18T11:09:04.417533Z",
     "shell.execute_reply": "2021-10-18T11:09:04.418125Z",
     "shell.execute_reply.started": "2021-10-18T11:07:56.415128Z"
    },
    "papermill": {
     "duration": 0.11526,
     "end_time": "2021-10-18T11:09:04.418291",
     "exception": false,
     "start_time": "2021-10-18T11:09:04.303031",
     "status": "completed"
    },
    "tags": []
   },
   "outputs": [],
   "source": [
    "train[\"CabinClass\"].fillna(0, inplace=True)\n",
    "test[\"CabinClass\"].fillna(0, inplace=True)"
   ]
  },
  {
   "cell_type": "code",
   "execution_count": 48,
   "id": "352e4a8f",
   "metadata": {
    "execution": {
     "iopub.execute_input": "2021-10-18T11:09:04.636357Z",
     "iopub.status.busy": "2021-10-18T11:09:04.635619Z",
     "iopub.status.idle": "2021-10-18T11:09:04.641514Z",
     "shell.execute_reply": "2021-10-18T11:09:04.642166Z",
     "shell.execute_reply.started": "2021-10-18T11:07:56.427933Z"
    },
    "papermill": {
     "duration": 0.117204,
     "end_time": "2021-10-18T11:09:04.642338",
     "exception": false,
     "start_time": "2021-10-18T11:09:04.525134",
     "status": "completed"
    },
    "tags": []
   },
   "outputs": [
    {
     "name": "stdout",
     "output_type": "stream",
     "text": [
      "0\n",
      "0\n"
     ]
    }
   ],
   "source": [
    "print(train[\"CabinClass\"].isna().sum())\n",
    "print(test[\"CabinClass\"].isna().sum())"
   ]
  },
  {
   "cell_type": "code",
   "execution_count": 49,
   "id": "46bdaa3e",
   "metadata": {
    "execution": {
     "iopub.execute_input": "2021-10-18T11:09:04.863468Z",
     "iopub.status.busy": "2021-10-18T11:09:04.862791Z",
     "iopub.status.idle": "2021-10-18T11:09:04.871648Z",
     "shell.execute_reply": "2021-10-18T11:09:04.871156Z",
     "shell.execute_reply.started": "2021-10-18T11:07:56.437461Z"
    },
    "papermill": {
     "duration": 0.12169,
     "end_time": "2021-10-18T11:09:04.871784",
     "exception": false,
     "start_time": "2021-10-18T11:09:04.750094",
     "status": "completed"
    },
    "tags": []
   },
   "outputs": [
    {
     "data": {
      "text/plain": [
       "0      0.0\n",
       "2      0.0\n",
       "4      0.0\n",
       "5      0.0\n",
       "7      0.0\n",
       "      ... \n",
       "882    0.0\n",
       "884    0.0\n",
       "885    0.0\n",
       "888    0.0\n",
       "890    0.0\n",
       "Name: CabinClass, Length: 491, dtype: float64"
      ]
     },
     "execution_count": 49,
     "metadata": {},
     "output_type": "execute_result"
    }
   ],
   "source": [
    "train.loc[((train.Pclass == 3) & (train.CabinClass.notnull())), \"CabinClass\"]"
   ]
  },
  {
   "cell_type": "markdown",
   "id": "999bd34a",
   "metadata": {
    "papermill": {
     "duration": 0.111869,
     "end_time": "2021-10-18T11:09:05.093655",
     "exception": false,
     "start_time": "2021-10-18T11:09:04.981786",
     "status": "completed"
    },
    "tags": []
   },
   "source": [
    "#### Dealing with combined cabin\n",
    "Most of the combined cabins belong to families <br>\n",
    "so, I will take just the first cabin for them all cause they all cabins closed to each other <br>\n",
    "ex. C23 C25 C27 <br>\n",
    "23, 25, 27 are beside each other<br>"
   ]
  },
  {
   "cell_type": "markdown",
   "id": "48ed8ea3",
   "metadata": {
    "papermill": {
     "duration": 0.108014,
     "end_time": "2021-10-18T11:09:05.308695",
     "exception": false,
     "start_time": "2021-10-18T11:09:05.200681",
     "status": "completed"
    },
    "tags": []
   },
   "source": [
    "Notes from \"https://www.encyclopedia-titanica.org/titanic-deckplans/location-t.html\" <br>\n",
    "#### The position of the cabin\n",
    "Cabin Number:<br>\n",
    "odd --> right<br>\n",
    "even---> left<br>\n",
    "\n",
    "front ----> <45<br>\n",
    "middle ---> 46-90<br>\n",
    "back -----> >90<br>\n",
    "<br>\n",
    "Ship Decks From top to bottom<br>\n",
    "T, A, B, C, D, E, F, G<br>"
   ]
  },
  {
   "cell_type": "code",
   "execution_count": 50,
   "id": "1da7a820",
   "metadata": {
    "execution": {
     "iopub.execute_input": "2021-10-18T11:09:05.532840Z",
     "iopub.status.busy": "2021-10-18T11:09:05.532195Z",
     "iopub.status.idle": "2021-10-18T11:09:05.539590Z",
     "shell.execute_reply": "2021-10-18T11:09:05.540105Z",
     "shell.execute_reply.started": "2021-10-18T11:07:56.451782Z"
    },
    "papermill": {
     "duration": 0.121127,
     "end_time": "2021-10-18T11:09:05.540272",
     "exception": false,
     "start_time": "2021-10-18T11:09:05.419145",
     "status": "completed"
    },
    "tags": []
   },
   "outputs": [
    {
     "name": "stdout",
     "output_type": "stream",
     "text": [
      "Number of null cabinaless in pclass 1 is 0\n",
      "Number of null cabinaless in pclass 2 is 0\n",
      "Number of null cabinaless in pclass 3 is 0\n"
     ]
    }
   ],
   "source": [
    "for i in range(1,4):\n",
    "    print(\"Number of null cabinaless in pclass {0} is {1}\".format(i, ((train.Pclass == i) & train.CabinClass.isna()).sum()))"
   ]
  },
  {
   "cell_type": "markdown",
   "id": "ca578a45",
   "metadata": {
    "papermill": {
     "duration": 0.109409,
     "end_time": "2021-10-18T11:09:05.760770",
     "exception": false,
     "start_time": "2021-10-18T11:09:05.651361",
     "status": "completed"
    },
    "tags": []
   },
   "source": [
    "It make sense if most of pclass 1 passengers didn't have cabina  <br>\n",
    "But those from pclass 1, and pclass 2 will fill there nan values with cabines that have same fare "
   ]
  },
  {
   "cell_type": "markdown",
   "id": "e9c4fc24",
   "metadata": {
    "papermill": {
     "duration": 0.111027,
     "end_time": "2021-10-18T11:09:05.982298",
     "exception": false,
     "start_time": "2021-10-18T11:09:05.871271",
     "status": "completed"
    },
    "tags": []
   },
   "source": [
    "Assign to nan --> Random room numbers and random cabin for Pclass 1, 2"
   ]
  },
  {
   "cell_type": "code",
   "execution_count": 51,
   "id": "571b02d8",
   "metadata": {
    "execution": {
     "iopub.execute_input": "2021-10-18T11:09:06.214143Z",
     "iopub.status.busy": "2021-10-18T11:09:06.213429Z",
     "iopub.status.idle": "2021-10-18T11:09:06.228171Z",
     "shell.execute_reply": "2021-10-18T11:09:06.228857Z",
     "shell.execute_reply.started": "2021-10-18T11:07:56.463276Z"
    },
    "papermill": {
     "duration": 0.1354,
     "end_time": "2021-10-18T11:09:06.229106",
     "exception": false,
     "start_time": "2021-10-18T11:09:06.093706",
     "status": "completed"
    },
    "tags": []
   },
   "outputs": [
    {
     "name": "stdout",
     "output_type": "stream",
     "text": [
      "5.0    59\n",
      "6.0    47\n",
      "0.0    41\n",
      "4.0    29\n",
      "3.0    25\n",
      "7.0    15\n",
      "Name: CabinClass, dtype: int64\n",
      "0.0    168\n",
      "2.0      8\n",
      "4.0      4\n",
      "3.0      4\n",
      "Name: CabinClass, dtype: int64\n",
      "0.0    479\n",
      "1.0      7\n",
      "3.0      4\n",
      "2.0      1\n",
      "Name: CabinClass, dtype: int64\n"
     ]
    }
   ],
   "source": [
    "for i in range(1,4):\n",
    "    print(train.loc[(train.Pclass == i),\"CabinClass\"].value_counts())"
   ]
  },
  {
   "cell_type": "code",
   "execution_count": 52,
   "id": "da543016",
   "metadata": {
    "execution": {
     "iopub.execute_input": "2021-10-18T11:09:06.457925Z",
     "iopub.status.busy": "2021-10-18T11:09:06.457065Z",
     "iopub.status.idle": "2021-10-18T11:09:06.459982Z",
     "shell.execute_reply": "2021-10-18T11:09:06.459433Z",
     "shell.execute_reply.started": "2021-10-18T11:07:56.478846Z"
    },
    "papermill": {
     "duration": 0.120583,
     "end_time": "2021-10-18T11:09:06.460141",
     "exception": false,
     "start_time": "2021-10-18T11:09:06.339558",
     "status": "completed"
    },
    "tags": []
   },
   "outputs": [],
   "source": [
    "# Add new feature, the number of cabin\n",
    "train[\"CabinNum\"] = Get_CabinNumber(train)\n",
    "test[\"CabinNum\"] = Get_CabinNumber(test)"
   ]
  },
  {
   "cell_type": "code",
   "execution_count": 53,
   "id": "e7236fd2",
   "metadata": {
    "execution": {
     "iopub.execute_input": "2021-10-18T11:09:06.683825Z",
     "iopub.status.busy": "2021-10-18T11:09:06.682791Z",
     "iopub.status.idle": "2021-10-18T11:09:06.688333Z",
     "shell.execute_reply": "2021-10-18T11:09:06.688804Z",
     "shell.execute_reply.started": "2021-10-18T11:07:56.488886Z"
    },
    "papermill": {
     "duration": 0.119407,
     "end_time": "2021-10-18T11:09:06.689000",
     "exception": false,
     "start_time": "2021-10-18T11:09:06.569593",
     "status": "completed"
    },
    "tags": []
   },
   "outputs": [],
   "source": [
    "# Fill null values in fare \n",
    "train['Fare'] = train.Fare.fillna(train.Fare.median())\n",
    "test['Fare'] = train.Fare.fillna(train.Fare.median())"
   ]
  },
  {
   "cell_type": "code",
   "execution_count": 54,
   "id": "3db42155",
   "metadata": {
    "execution": {
     "iopub.execute_input": "2021-10-18T11:09:06.910614Z",
     "iopub.status.busy": "2021-10-18T11:09:06.909635Z",
     "iopub.status.idle": "2021-10-18T11:09:06.917256Z",
     "shell.execute_reply": "2021-10-18T11:09:06.916729Z",
     "shell.execute_reply.started": "2021-10-18T11:07:56.502221Z"
    },
    "papermill": {
     "duration": 0.118393,
     "end_time": "2021-10-18T11:09:06.917400",
     "exception": false,
     "start_time": "2021-10-18T11:09:06.799007",
     "status": "completed"
    },
    "tags": []
   },
   "outputs": [],
   "source": [
    "# Add new Feature HaveCabin true if yes , false if not \n",
    "train[\"HaveCabin\"] = Get_HaveCabin(train)\n",
    "test[\"HaveCabin\"] = Get_HaveCabin(test)"
   ]
  },
  {
   "cell_type": "markdown",
   "id": "7174bd5e",
   "metadata": {
    "papermill": {
     "duration": 0.10783,
     "end_time": "2021-10-18T11:09:07.133711",
     "exception": false,
     "start_time": "2021-10-18T11:09:07.025881",
     "status": "completed"
    },
    "tags": []
   },
   "source": [
    "Identify Where the cabin was using previous info: <br>\n",
    "#### The position of the cabin\n",
    "Cabin Number:<br>\n",
    "odd --> right<br>\n",
    "even---> left<br>\n",
    "\n",
    "front ----> <45<br>\n",
    "middle ---> 46-90<br>\n",
    "back -----> >90<br>\n",
    "<br>\n",
    "Ship Decks From top to bottom<br>\n",
    "T, A, B, C, D, E, F, G<br>"
   ]
  },
  {
   "cell_type": "markdown",
   "id": "c51e8a24",
   "metadata": {
    "papermill": {
     "duration": 0.107598,
     "end_time": "2021-10-18T11:09:07.350209",
     "exception": false,
     "start_time": "2021-10-18T11:09:07.242611",
     "status": "completed"
    },
    "tags": []
   },
   "source": [
    "### Add 2 new features position_x, position_y \n",
    "#### position_x --> right, left\n",
    "#### position_y --> front, middle, back"
   ]
  },
  {
   "cell_type": "code",
   "execution_count": 55,
   "id": "7761b8b5",
   "metadata": {
    "execution": {
     "iopub.execute_input": "2021-10-18T11:09:07.580610Z",
     "iopub.status.busy": "2021-10-18T11:09:07.579842Z",
     "iopub.status.idle": "2021-10-18T11:09:07.581397Z",
     "shell.execute_reply": "2021-10-18T11:09:07.581876Z",
     "shell.execute_reply.started": "2021-10-18T11:07:56.514595Z"
    },
    "papermill": {
     "duration": 0.121472,
     "end_time": "2021-10-18T11:09:07.582062",
     "exception": false,
     "start_time": "2021-10-18T11:09:07.460590",
     "status": "completed"
    },
    "tags": []
   },
   "outputs": [],
   "source": [
    "# Add 2 new features position_x, position_y \n",
    "train[\"position_x\"] = train[\"CabinNum\"].apply(cal_position_x)\n",
    "train[\"position_y\"] = train[\"CabinNum\"].apply(cal_position_y)\n",
    "\n",
    "test[\"position_x\"] = test[\"CabinNum\"].apply(cal_position_x)\n",
    "test[\"position_y\"] = test[\"CabinNum\"].apply(cal_position_y)"
   ]
  },
  {
   "cell_type": "code",
   "execution_count": 56,
   "id": "6773c1e5",
   "metadata": {
    "execution": {
     "iopub.execute_input": "2021-10-18T11:09:07.808781Z",
     "iopub.status.busy": "2021-10-18T11:09:07.804593Z",
     "iopub.status.idle": "2021-10-18T11:09:07.818178Z",
     "shell.execute_reply": "2021-10-18T11:09:07.817488Z",
     "shell.execute_reply.started": "2021-10-18T11:07:56.531815Z"
    },
    "papermill": {
     "duration": 0.126498,
     "end_time": "2021-10-18T11:09:07.818328",
     "exception": false,
     "start_time": "2021-10-18T11:09:07.691830",
     "status": "completed"
    },
    "tags": []
   },
   "outputs": [],
   "source": [
    "# split Fare, Age to 4 categories \n",
    "# Train\n",
    "train['CatAge'] = pd.qcut(train.Age, q=4, labels=False )\n",
    "train['CatFare']= pd.qcut(train.Fare, q=4, labels=False)\n",
    "\n",
    "#Test\n",
    "test['CatAge'] = pd.qcut(test.Age, q=4, labels=False )\n",
    "test['CatFare']= pd.qcut(test.Fare, q=4, labels=False)"
   ]
  },
  {
   "cell_type": "code",
   "execution_count": 57,
   "id": "0a7a0453",
   "metadata": {
    "execution": {
     "iopub.execute_input": "2021-10-18T11:09:08.046147Z",
     "iopub.status.busy": "2021-10-18T11:09:08.045194Z",
     "iopub.status.idle": "2021-10-18T11:09:08.048150Z",
     "shell.execute_reply": "2021-10-18T11:09:08.047594Z",
     "shell.execute_reply.started": "2021-10-18T11:07:56.551332Z"
    },
    "papermill": {
     "duration": 0.120973,
     "end_time": "2021-10-18T11:09:08.048299",
     "exception": false,
     "start_time": "2021-10-18T11:09:07.927326",
     "status": "completed"
    },
    "tags": []
   },
   "outputs": [],
   "source": [
    "# Adding family size \n",
    "# Train\n",
    "train['Fam_Size'] = train.Parch + train.SibSp\n",
    "\n",
    "#Test\n",
    "test['Fam_Size'] = test.Parch + test.SibSp"
   ]
  },
  {
   "cell_type": "code",
   "execution_count": 58,
   "id": "ec9b5bad",
   "metadata": {
    "execution": {
     "iopub.execute_input": "2021-10-18T11:09:08.270222Z",
     "iopub.status.busy": "2021-10-18T11:09:08.269520Z",
     "iopub.status.idle": "2021-10-18T11:09:08.290688Z",
     "shell.execute_reply": "2021-10-18T11:09:08.290195Z",
     "shell.execute_reply.started": "2021-10-18T11:07:56.558607Z"
    },
    "papermill": {
     "duration": 0.134162,
     "end_time": "2021-10-18T11:09:08.290824",
     "exception": false,
     "start_time": "2021-10-18T11:09:08.156662",
     "status": "completed"
    },
    "tags": []
   },
   "outputs": [
    {
     "data": {
      "text/html": [
       "<div>\n",
       "<style scoped>\n",
       "    .dataframe tbody tr th:only-of-type {\n",
       "        vertical-align: middle;\n",
       "    }\n",
       "\n",
       "    .dataframe tbody tr th {\n",
       "        vertical-align: top;\n",
       "    }\n",
       "\n",
       "    .dataframe thead th {\n",
       "        text-align: right;\n",
       "    }\n",
       "</style>\n",
       "<table border=\"1\" class=\"dataframe\">\n",
       "  <thead>\n",
       "    <tr style=\"text-align: right;\">\n",
       "      <th></th>\n",
       "      <th>PassengerId</th>\n",
       "      <th>Survived</th>\n",
       "      <th>Pclass</th>\n",
       "      <th>Name</th>\n",
       "      <th>Sex</th>\n",
       "      <th>Age</th>\n",
       "      <th>SibSp</th>\n",
       "      <th>Parch</th>\n",
       "      <th>Ticket</th>\n",
       "      <th>Fare</th>\n",
       "      <th>...</th>\n",
       "      <th>Group</th>\n",
       "      <th>HaveGroup</th>\n",
       "      <th>CabinClass</th>\n",
       "      <th>CabinNum</th>\n",
       "      <th>HaveCabin</th>\n",
       "      <th>position_x</th>\n",
       "      <th>position_y</th>\n",
       "      <th>CatAge</th>\n",
       "      <th>CatFare</th>\n",
       "      <th>Fam_Size</th>\n",
       "    </tr>\n",
       "  </thead>\n",
       "  <tbody>\n",
       "    <tr>\n",
       "      <th>61</th>\n",
       "      <td>62</td>\n",
       "      <td>1</td>\n",
       "      <td>1</td>\n",
       "      <td>Icard, Miss. Amelie</td>\n",
       "      <td>female</td>\n",
       "      <td>38.0</td>\n",
       "      <td>0</td>\n",
       "      <td>0</td>\n",
       "      <td>113572</td>\n",
       "      <td>80.0</td>\n",
       "      <td>...</td>\n",
       "      <td>1</td>\n",
       "      <td>True</td>\n",
       "      <td>6.0</td>\n",
       "      <td>28.0</td>\n",
       "      <td>True</td>\n",
       "      <td>1</td>\n",
       "      <td>3</td>\n",
       "      <td>3</td>\n",
       "      <td>3</td>\n",
       "      <td>0</td>\n",
       "    </tr>\n",
       "    <tr>\n",
       "      <th>829</th>\n",
       "      <td>830</td>\n",
       "      <td>1</td>\n",
       "      <td>1</td>\n",
       "      <td>Stone, Mrs. George Nelson (Martha Evelyn)</td>\n",
       "      <td>female</td>\n",
       "      <td>62.0</td>\n",
       "      <td>0</td>\n",
       "      <td>0</td>\n",
       "      <td>113572</td>\n",
       "      <td>80.0</td>\n",
       "      <td>...</td>\n",
       "      <td>1</td>\n",
       "      <td>True</td>\n",
       "      <td>6.0</td>\n",
       "      <td>28.0</td>\n",
       "      <td>True</td>\n",
       "      <td>1</td>\n",
       "      <td>3</td>\n",
       "      <td>3</td>\n",
       "      <td>3</td>\n",
       "      <td>0</td>\n",
       "    </tr>\n",
       "  </tbody>\n",
       "</table>\n",
       "<p>2 rows × 25 columns</p>\n",
       "</div>"
      ],
      "text/plain": [
       "     PassengerId  Survived  Pclass                                       Name  \\\n",
       "61            62         1       1                        Icard, Miss. Amelie   \n",
       "829          830         1       1  Stone, Mrs. George Nelson (Martha Evelyn)   \n",
       "\n",
       "        Sex   Age  SibSp  Parch  Ticket  Fare  ... Group HaveGroup CabinClass  \\\n",
       "61   female  38.0      0      0  113572  80.0  ...     1      True        6.0   \n",
       "829  female  62.0      0      0  113572  80.0  ...     1      True        6.0   \n",
       "\n",
       "    CabinNum  HaveCabin  position_x  position_y  CatAge  CatFare  Fam_Size  \n",
       "61      28.0       True           1           3       3        3         0  \n",
       "829     28.0       True           1           3       3        3         0  \n",
       "\n",
       "[2 rows x 25 columns]"
      ]
     },
     "execution_count": 58,
     "metadata": {},
     "output_type": "execute_result"
    }
   ],
   "source": [
    "# Check if there's null values in Embarked\n",
    "train[train[\"Embarked\"].isnull()]"
   ]
  },
  {
   "cell_type": "markdown",
   "id": "3a1cb6d0",
   "metadata": {
    "papermill": {
     "duration": 0.108304,
     "end_time": "2021-10-18T11:09:08.507964",
     "exception": false,
     "start_time": "2021-10-18T11:09:08.399660",
     "status": "completed"
    },
    "tags": []
   },
   "source": [
    "Fill nan values with Embarked of people from class 1 "
   ]
  },
  {
   "cell_type": "code",
   "execution_count": 59,
   "id": "abbe9bd3",
   "metadata": {
    "execution": {
     "iopub.execute_input": "2021-10-18T11:09:08.734556Z",
     "iopub.status.busy": "2021-10-18T11:09:08.733658Z",
     "iopub.status.idle": "2021-10-18T11:09:08.737893Z",
     "shell.execute_reply": "2021-10-18T11:09:08.738417Z",
     "shell.execute_reply.started": "2021-10-18T11:07:56.591227Z"
    },
    "papermill": {
     "duration": 0.12169,
     "end_time": "2021-10-18T11:09:08.738576",
     "exception": false,
     "start_time": "2021-10-18T11:09:08.616886",
     "status": "completed"
    },
    "tags": []
   },
   "outputs": [
    {
     "data": {
      "text/plain": [
       "S    127\n",
       "C     85\n",
       "Q      2\n",
       "Name: Embarked, dtype: int64"
      ]
     },
     "execution_count": 59,
     "metadata": {},
     "output_type": "execute_result"
    }
   ],
   "source": [
    "train[train[\"Pclass\"] ==1 ][\"Embarked\"].value_counts()"
   ]
  },
  {
   "cell_type": "markdown",
   "id": "0463e441",
   "metadata": {
    "papermill": {
     "duration": 0.1097,
     "end_time": "2021-10-18T11:09:08.956600",
     "exception": false,
     "start_time": "2021-10-18T11:09:08.846900",
     "status": "completed"
    },
    "tags": []
   },
   "source": [
    "Most of first class people ride the ship from S, so will fill nan values with S"
   ]
  },
  {
   "cell_type": "code",
   "execution_count": 60,
   "id": "79cc8453",
   "metadata": {
    "execution": {
     "iopub.execute_input": "2021-10-18T11:09:09.206412Z",
     "iopub.status.busy": "2021-10-18T11:09:09.205601Z",
     "iopub.status.idle": "2021-10-18T11:09:09.207830Z",
     "shell.execute_reply": "2021-10-18T11:09:09.208293Z",
     "shell.execute_reply.started": "2021-10-18T11:07:56.600985Z"
    },
    "papermill": {
     "duration": 0.119231,
     "end_time": "2021-10-18T11:09:09.208460",
     "exception": false,
     "start_time": "2021-10-18T11:09:09.089229",
     "status": "completed"
    },
    "tags": []
   },
   "outputs": [],
   "source": [
    "train.loc[train[\"Embarked\"].isnull(), \"Embarked\"] = \"S\""
   ]
  },
  {
   "cell_type": "markdown",
   "id": "6eeebe11",
   "metadata": {
    "papermill": {
     "duration": 0.108665,
     "end_time": "2021-10-18T11:09:09.426285",
     "exception": false,
     "start_time": "2021-10-18T11:09:09.317620",
     "status": "completed"
    },
    "tags": []
   },
   "source": [
    "Check which feature have trend i"
   ]
  },
  {
   "cell_type": "code",
   "execution_count": 61,
   "id": "381fa65e",
   "metadata": {
    "execution": {
     "iopub.execute_input": "2021-10-18T11:09:09.651663Z",
     "iopub.status.busy": "2021-10-18T11:09:09.650909Z",
     "iopub.status.idle": "2021-10-18T11:09:09.653636Z",
     "shell.execute_reply": "2021-10-18T11:09:09.653122Z",
     "shell.execute_reply.started": "2021-10-18T11:07:56.618814Z"
    },
    "papermill": {
     "duration": 0.118552,
     "end_time": "2021-10-18T11:09:09.653778",
     "exception": false,
     "start_time": "2021-10-18T11:09:09.535226",
     "status": "completed"
    },
    "tags": []
   },
   "outputs": [],
   "source": [
    "cat_features = [\"Pclass\", \"Sex\", \"Embarked\", \"Title\", \"Child\", \"Group\", \"HaveGroup\", \"CabinClass\", \"HaveCabin\", \"position_x\", \"position_y\", \"CatAge\", \"CatFare\", \"Fam_Size\"]"
   ]
  },
  {
   "cell_type": "code",
   "execution_count": 62,
   "id": "12f86c8f",
   "metadata": {
    "execution": {
     "iopub.execute_input": "2021-10-18T11:09:09.881729Z",
     "iopub.status.busy": "2021-10-18T11:09:09.881057Z",
     "iopub.status.idle": "2021-10-18T11:09:13.042340Z",
     "shell.execute_reply": "2021-10-18T11:09:13.041729Z",
     "shell.execute_reply.started": "2021-10-18T11:07:56.625958Z"
    },
    "papermill": {
     "duration": 3.27781,
     "end_time": "2021-10-18T11:09:13.042487",
     "exception": false,
     "start_time": "2021-10-18T11:09:09.764677",
     "status": "completed"
    },
    "tags": []
   },
   "outputs": [
    {
     "data": {
      "image/png": "[encoded data removed]",
      "text/plain": [
       "<Figure size 432x288 with 1 Axes>"
      ]
     },
     "metadata": {
      "needs_background": "light"
     },
     "output_type": "display_data"
    },
    {
     "data": {
      "image/png": "[encoded data removed]",
      "text/plain": [
       "<Figure size 432x288 with 1 Axes>"
      ]
     },
     "metadata": {
      "needs_background": "light"
     },
     "output_type": "display_data"
    },
    {
     "data": {
      "image/png": "[encoded data removed]",
      "text/plain": [
       "<Figure size 432x288 with 1 Axes>"
      ]
     },
     "metadata": {
      "needs_background": "light"
     },
     "output_type": "display_data"
    },
    {
     "data": {
      "image/png": "[encoded data removed]",
      "text/plain": [
       "<Figure size 432x288 with 1 Axes>"
      ]
     },
     "metadata": {
      "needs_background": "light"
     },
     "output_type": "display_data"
    },
    {
     "data": {
      "image/png": "[encoded data removed]",
      "text/plain": [
       "<Figure size 432x288 with 1 Axes>"
      ]
     },
     "metadata": {
      "needs_background": "light"
     },
     "output_type": "display_data"
    },
    {
     "data": {
      "image/png": "[encoded data removed]",
      "text/plain": [
       "<Figure size 432x288 with 1 Axes>"
      ]
     },
     "metadata": {
      "needs_background": "light"
     },
     "output_type": "display_data"
    },
    {
     "data": {
      "image/png": "[encoded data removed]",
      "text/plain": [
       "<Figure size 432x288 with 1 Axes>"
      ]
     },
     "metadata": {
      "needs_background": "light"
     },
     "output_type": "display_data"
    },
    {
     "data": {
      "image/png": "[encoded data removed]",
      "text/plain": [
       "<Figure size 432x288 with 1 Axes>"
      ]
     },
     "metadata": {
      "needs_background": "light"
     },
     "output_type": "display_data"
    },
    {
     "data": {
      "image/png": "[encoded data removed]",
      "text/plain": [
       "<Figure size 432x288 with 1 Axes>"
      ]
     },
     "metadata": {
      "needs_background": "light"
     },
     "output_type": "display_data"
    },
    {
     "data": {
      "image/png": "[encoded data removed]",
      "text/plain": [
       "<Figure size 432x288 with 1 Axes>"
      ]
     },
     "metadata": {
      "needs_background": "light"
     },
     "output_type": "display_data"
    },
    {
     "data": {
      "image/png": "[encoded data removed]",
      "text/plain": [
       "<Figure size 432x288 with 1 Axes>"
      ]
     },
     "metadata": {
      "needs_background": "light"
     },
     "output_type": "display_data"
    },
    {
     "data": {
      "image/png": "[encoded data removed]",
      "text/plain": [
       "<Figure size 432x288 with 1 Axes>"
      ]
     },
     "metadata": {
      "needs_background": "light"
     },
     "output_type": "display_data"
    },
    {
     "data": {
      "image/png": "[encoded data removed]",
      "text/plain": [
       "<Figure size 432x288 with 1 Axes>"
      ]
     },
     "metadata": {
      "needs_background": "light"
     },
     "output_type": "display_data"
    },
    {
     "data": {
      "image/png": "[encoded data removed]",
      "text/plain": [
       "<Figure size 432x288 with 1 Axes>"
      ]
     },
     "metadata": {
      "needs_background": "light"
     },
     "output_type": "display_data"
    }
   ],
   "source": [
    "for feature in cat_features:\n",
    "    g = sns.countplot(x=feature, hue=\"Survived\", data=train)\n",
    "    plt.show()\n",
    "    "
   ]
  },
  {
   "cell_type": "code",
   "execution_count": 63,
   "id": "dcac0893",
   "metadata": {
    "execution": {
     "iopub.execute_input": "2021-10-18T11:09:13.283874Z",
     "iopub.status.busy": "2021-10-18T11:09:13.283200Z",
     "iopub.status.idle": "2021-10-18T11:09:13.287734Z",
     "shell.execute_reply": "2021-10-18T11:09:13.287159Z",
     "shell.execute_reply.started": "2021-10-18T11:07:59.974627Z"
    },
    "papermill": {
     "duration": 0.126386,
     "end_time": "2021-10-18T11:09:13.287870",
     "exception": false,
     "start_time": "2021-10-18T11:09:13.161484",
     "status": "completed"
    },
    "tags": []
   },
   "outputs": [],
   "source": [
    "#Feature that may not have heavy impact\n",
    "#[\"Child\", \"Group\"]"
   ]
  },
  {
   "cell_type": "code",
   "execution_count": 64,
   "id": "ce78805d",
   "metadata": {
    "execution": {
     "iopub.execute_input": "2021-10-18T11:09:13.536611Z",
     "iopub.status.busy": "2021-10-18T11:09:13.535845Z",
     "iopub.status.idle": "2021-10-18T11:09:13.539032Z",
     "shell.execute_reply": "2021-10-18T11:09:13.538509Z",
     "shell.execute_reply.started": "2021-10-18T11:07:59.981977Z"
    },
    "papermill": {
     "duration": 0.129794,
     "end_time": "2021-10-18T11:09:13.539180",
     "exception": false,
     "start_time": "2021-10-18T11:09:13.409386",
     "status": "completed"
    },
    "tags": []
   },
   "outputs": [],
   "source": [
    "featurs = [\"Pclass\", \"Sex\", \"Embarked\", \"Title\", \"HaveGroup\", \"CabinClass\", \"HaveCabin\", \"position_x\", \"position_y\", \"CatAge\", \"CatFare\", \"Fam_Size\"]"
   ]
  },
  {
   "cell_type": "code",
   "execution_count": 65,
   "id": "24d70111",
   "metadata": {
    "execution": {
     "iopub.execute_input": "2021-10-18T11:09:13.789301Z",
     "iopub.status.busy": "2021-10-18T11:09:13.787488Z",
     "iopub.status.idle": "2021-10-18T11:09:14.014069Z",
     "shell.execute_reply": "2021-10-18T11:09:14.013344Z",
     "shell.execute_reply.started": "2021-10-18T11:07:59.991416Z"
    },
    "papermill": {
     "duration": 0.352927,
     "end_time": "2021-10-18T11:09:14.014221",
     "exception": false,
     "start_time": "2021-10-18T11:09:13.661294",
     "status": "completed"
    },
    "tags": []
   },
   "outputs": [
    {
     "data": {
      "text/plain": [
       "Text(0, 0.5, 'Count')"
      ]
     },
     "execution_count": 65,
     "metadata": {},
     "output_type": "execute_result"
    },
    {
     "data": {
      "image/png": "[encoded data removed]",
      "text/plain": [
       "<Figure size 432x288 with 1 Axes>"
      ]
     },
     "metadata": {
      "needs_background": "light"
     },
     "output_type": "display_data"
    }
   ],
   "source": [
    "g = sns.countplot(x=\"position_x\", hue=\"Survived\", data=train)\n",
    "g.set_xticklabels([\"Unknown\", \"Left\",\"Right\"])\n",
    "g.set_xlabel(\"Position of cabina\")\n",
    "g.set_ylabel(\"Count\")"
   ]
  },
  {
   "cell_type": "code",
   "execution_count": 66,
   "id": "5a9c5487",
   "metadata": {
    "execution": {
     "iopub.execute_input": "2021-10-18T11:09:14.268410Z",
     "iopub.status.busy": "2021-10-18T11:09:14.265084Z",
     "iopub.status.idle": "2021-10-18T11:09:14.508210Z",
     "shell.execute_reply": "2021-10-18T11:09:14.507617Z",
     "shell.execute_reply.started": "2021-10-18T11:08:00.230134Z"
    },
    "papermill": {
     "duration": 0.372156,
     "end_time": "2021-10-18T11:09:14.508353",
     "exception": false,
     "start_time": "2021-10-18T11:09:14.136197",
     "status": "completed"
    },
    "tags": []
   },
   "outputs": [
    {
     "data": {
      "text/plain": [
       "Text(0, 0.5, 'Count')"
      ]
     },
     "execution_count": 66,
     "metadata": {},
     "output_type": "execute_result"
    },
    {
     "data": {
      "image/png": "[encoded data removed]",
      "text/plain": [
       "<Figure size 432x288 with 1 Axes>"
      ]
     },
     "metadata": {
      "needs_background": "light"
     },
     "output_type": "display_data"
    }
   ],
   "source": [
    "g = sns.countplot(x=\"position_y\", hue=\"Survived\", data=train)\n",
    "g.set_xticklabels([\"Unknown\", \"Back\",\"Middle\", \"Front\"])\n",
    "g.set_xlabel(\"Position of cabina\")\n",
    "g.set_ylabel(\"Count\")"
   ]
  },
  {
   "cell_type": "code",
   "execution_count": 67,
   "id": "a8149f5d",
   "metadata": {
    "execution": {
     "iopub.execute_input": "2021-10-18T11:09:14.755291Z",
     "iopub.status.busy": "2021-10-18T11:09:14.754550Z",
     "iopub.status.idle": "2021-10-18T11:09:14.758729Z",
     "shell.execute_reply": "2021-10-18T11:09:14.759447Z",
     "shell.execute_reply.started": "2021-10-18T11:08:00.469397Z"
    },
    "papermill": {
     "duration": 0.130121,
     "end_time": "2021-10-18T11:09:14.759628",
     "exception": false,
     "start_time": "2021-10-18T11:09:14.629507",
     "status": "completed"
    },
    "tags": []
   },
   "outputs": [],
   "source": [
    "train_x = train.drop([\"PassengerId\", \"Survived\"], axis=1)"
   ]
  },
  {
   "cell_type": "code",
   "execution_count": 68,
   "id": "653805b4",
   "metadata": {
    "execution": {
     "iopub.execute_input": "2021-10-18T11:09:15.006859Z",
     "iopub.status.busy": "2021-10-18T11:09:15.006157Z",
     "iopub.status.idle": "2021-10-18T11:09:15.292838Z",
     "shell.execute_reply": "2021-10-18T11:09:15.293411Z",
     "shell.execute_reply.started": "2021-10-18T11:08:00.475197Z"
    },
    "papermill": {
     "duration": 0.413007,
     "end_time": "2021-10-18T11:09:15.293582",
     "exception": false,
     "start_time": "2021-10-18T11:09:14.880575",
     "status": "completed"
    },
    "tags": []
   },
   "outputs": [
    {
     "data": {
      "text/plain": [
       "Text(0, 0.5, 'Count')"
      ]
     },
     "execution_count": 68,
     "metadata": {},
     "output_type": "execute_result"
    },
    {
     "data": {
      "image/png": "[encoded data removed]",
      "text/plain": [
       "<Figure size 432x288 with 1 Axes>"
      ]
     },
     "metadata": {
      "needs_background": "light"
     },
     "output_type": "display_data"
    }
   ],
   "source": [
    "g = sns.countplot(x=\"CabinClass\", hue=\"Survived\", data=train)\n",
    "g.set_xticklabels([\"Unknow\", \"A\",\"B\", \"C\", \"D\", \"E\", \"F\", \"G\"])\n",
    "g.set_xlabel(\"Position of cabina\")\n",
    "g.set_ylabel(\"Count\")"
   ]
  },
  {
   "cell_type": "markdown",
   "id": "e39c6be1",
   "metadata": {
    "execution": {
     "iopub.execute_input": "2021-10-05T18:51:37.237258Z",
     "iopub.status.busy": "2021-10-05T18:51:37.236646Z",
     "iopub.status.idle": "2021-10-05T18:51:37.245953Z",
     "shell.execute_reply": "2021-10-05T18:51:37.245265Z",
     "shell.execute_reply.started": "2021-10-05T18:51:37.237222Z"
    },
    "papermill": {
     "duration": 0.12186,
     "end_time": "2021-10-18T11:09:15.537565",
     "exception": false,
     "start_time": "2021-10-18T11:09:15.415705",
     "status": "completed"
    },
    "tags": []
   },
   "source": [
    "position_x  position_y  Survived\n",
    " Unknown     Unknown     1           206\n",
    "#Unknown     Unknown     0           481\n",
    "\n",
    " Left        Back        1            11\n",
    "#Left        Back        0             7\n",
    "\n",
    " Left        Middle      1            16\n",
    "#Left        Middle      0            13\n",
    "\n",
    " Left        Front       1            41\n",
    "#Left        Front       0            24 \n",
    "\n",
    " Right       Back        1            14\n",
    "#Right       Back        0             4\n",
    "\n",
    " Right       Middle      1            19\n",
    "#Right       Middle      0            12 \n",
    "\n",
    " Right       Front       1            35\n",
    "#Right       Front       0             8\n",
    "\n",
    "\n"
   ]
  },
  {
   "cell_type": "code",
   "execution_count": 69,
   "id": "9f7e023c",
   "metadata": {
    "execution": {
     "iopub.execute_input": "2021-10-18T11:09:15.785819Z",
     "iopub.status.busy": "2021-10-18T11:09:15.785134Z",
     "iopub.status.idle": "2021-10-18T11:09:15.791075Z",
     "shell.execute_reply": "2021-10-18T11:09:15.790437Z",
     "shell.execute_reply.started": "2021-10-18T11:08:00.766755Z"
    },
    "papermill": {
     "duration": 0.13104,
     "end_time": "2021-10-18T11:09:15.791230",
     "exception": false,
     "start_time": "2021-10-18T11:09:15.660190",
     "status": "completed"
    },
    "tags": []
   },
   "outputs": [
    {
     "data": {
      "text/plain": [
       "Index(['PassengerId', 'Pclass', 'Name', 'Sex', 'Age', 'SibSp', 'Parch',\n",
       "       'Ticket', 'Fare', 'Cabin', 'Embarked', 'Surname', 'Title', 'Child',\n",
       "       'Group', 'HaveGroup', 'CabinClass', 'CabinNum', 'HaveCabin',\n",
       "       'position_x', 'position_y', 'CatAge', 'CatFare', 'Fam_Size'],\n",
       "      dtype='object')"
      ]
     },
     "execution_count": 69,
     "metadata": {},
     "output_type": "execute_result"
    }
   ],
   "source": [
    "test.columns"
   ]
  },
  {
   "cell_type": "code",
   "execution_count": 70,
   "id": "d8d9c6e1",
   "metadata": {
    "execution": {
     "iopub.execute_input": "2021-10-18T11:09:16.044602Z",
     "iopub.status.busy": "2021-10-18T11:09:16.043920Z",
     "iopub.status.idle": "2021-10-18T11:09:16.046785Z",
     "shell.execute_reply": "2021-10-18T11:09:16.047489Z",
     "shell.execute_reply.started": "2021-10-18T11:08:00.773389Z"
    },
    "papermill": {
     "duration": 0.132679,
     "end_time": "2021-10-18T11:09:16.047674",
     "exception": false,
     "start_time": "2021-10-18T11:09:15.914995",
     "status": "completed"
    },
    "tags": []
   },
   "outputs": [],
   "source": [
    "X = train_x[featurs]\n",
    "y = train[\"Survived\"]\n",
    "X_test = test[featurs]"
   ]
  },
  {
   "cell_type": "markdown",
   "id": "72eb3cc2",
   "metadata": {
    "papermill": {
     "duration": 0.122678,
     "end_time": "2021-10-18T11:09:16.294666",
     "exception": false,
     "start_time": "2021-10-18T11:09:16.171988",
     "status": "completed"
    },
    "tags": []
   },
   "source": [
    "### Encoding Categorical Values "
   ]
  },
  {
   "cell_type": "code",
   "execution_count": 71,
   "id": "c0ce685d",
   "metadata": {
    "execution": {
     "iopub.execute_input": "2021-10-18T11:09:16.548024Z",
     "iopub.status.busy": "2021-10-18T11:09:16.547006Z",
     "iopub.status.idle": "2021-10-18T11:09:16.549273Z",
     "shell.execute_reply": "2021-10-18T11:09:16.549849Z",
     "shell.execute_reply.started": "2021-10-18T11:08:00.788852Z"
    },
    "papermill": {
     "duration": 0.130712,
     "end_time": "2021-10-18T11:09:16.550065",
     "exception": false,
     "start_time": "2021-10-18T11:09:16.419353",
     "status": "completed"
    },
    "tags": []
   },
   "outputs": [],
   "source": [
    "# Ordinal_Categorical_Feature\n",
    "#ord_feature = [\"Pclass\", \"Title\", \"position_x\", \"position_y\", \"CabinClass\", \"Child\"]\n",
    "\n",
    "# Nominal_Categorical_Feature\n",
    "#nom_feature= ['Sex', \"Group\", \"HaveGroup\", \"HaveCabin\"]\n",
    "\n",
    "# All Catefgoriacl Features\n",
    "#cat_feature = [\"Pclass\", \"Title\", \"position_x\", \"position_y\", \"\", \"Child\", 'Sex', 'Embarked', \"Group\", \"HaveGroup\", \"HaveCabin\"]"
   ]
  },
  {
   "cell_type": "code",
   "execution_count": 72,
   "id": "7e6bb5d4",
   "metadata": {
    "execution": {
     "iopub.execute_input": "2021-10-18T11:09:16.806189Z",
     "iopub.status.busy": "2021-10-18T11:09:16.805053Z",
     "iopub.status.idle": "2021-10-18T11:09:16.807083Z",
     "shell.execute_reply": "2021-10-18T11:09:16.807631Z",
     "shell.execute_reply.started": "2021-10-18T11:08:00.801733Z"
    },
    "papermill": {
     "duration": 0.133877,
     "end_time": "2021-10-18T11:09:16.807799",
     "exception": false,
     "start_time": "2021-10-18T11:09:16.673922",
     "status": "completed"
    },
    "tags": []
   },
   "outputs": [],
   "source": [
    "# labeled_Categories\n",
    "label_cat = [\"Title\", \"Sex\", \"Embarked\"]"
   ]
  },
  {
   "cell_type": "code",
   "execution_count": 73,
   "id": "8da279e7",
   "metadata": {
    "execution": {
     "iopub.execute_input": "2021-10-18T11:09:17.057291Z",
     "iopub.status.busy": "2021-10-18T11:09:17.056633Z",
     "iopub.status.idle": "2021-10-18T11:09:17.182226Z",
     "shell.execute_reply": "2021-10-18T11:09:17.182722Z",
     "shell.execute_reply.started": "2021-10-18T11:08:00.815037Z"
    },
    "papermill": {
     "duration": 0.25147,
     "end_time": "2021-10-18T11:09:17.182883",
     "exception": false,
     "start_time": "2021-10-18T11:09:16.931413",
     "status": "completed"
    },
    "tags": []
   },
   "outputs": [
    {
     "name": "stderr",
     "output_type": "stream",
     "text": [
      "/opt/conda/lib/python3.7/site-packages/ipykernel_launcher.py:5: SettingWithCopyWarning: \n",
      "A value is trying to be set on a copy of a slice from a DataFrame.\n",
      "Try using .loc[row_indexer,col_indexer] = value instead\n",
      "\n",
      "See the caveats in the documentation: https://pandas.pydata.org/pandas-docs/stable/user_guide/indexing.html#returning-a-view-versus-a-copy\n",
      "  \"\"\"\n",
      "/opt/conda/lib/python3.7/site-packages/ipykernel_launcher.py:6: SettingWithCopyWarning: \n",
      "A value is trying to be set on a copy of a slice from a DataFrame.\n",
      "Try using .loc[row_indexer,col_indexer] = value instead\n",
      "\n",
      "See the caveats in the documentation: https://pandas.pydata.org/pandas-docs/stable/user_guide/indexing.html#returning-a-view-versus-a-copy\n",
      "  \n"
     ]
    }
   ],
   "source": [
    "# labeled_Encoding \n",
    "from sklearn.preprocessing import LabelEncoder\n",
    "le = LabelEncoder()\n",
    "for f in label_cat:\n",
    "    X[f] = le.fit_transform(X[f])\n",
    "    X_test[f] = le.fit_transform(X_test[f]) "
   ]
  },
  {
   "cell_type": "code",
   "execution_count": 74,
   "id": "f0389a4f",
   "metadata": {
    "execution": {
     "iopub.execute_input": "2021-10-18T11:09:17.430405Z",
     "iopub.status.busy": "2021-10-18T11:09:17.429754Z",
     "iopub.status.idle": "2021-10-18T11:09:17.664329Z",
     "shell.execute_reply": "2021-10-18T11:09:17.664892Z",
     "shell.execute_reply.started": "2021-10-18T11:08:00.962522Z"
    },
    "papermill": {
     "duration": 0.360103,
     "end_time": "2021-10-18T11:09:17.665100",
     "exception": false,
     "start_time": "2021-10-18T11:09:17.304997",
     "status": "completed"
    },
    "tags": []
   },
   "outputs": [],
   "source": [
    "from sklearn.model_selection import KFold\n",
    "from sklearn.model_selection import cross_val_score\n",
    "\n",
    "from sklearn.linear_model import LogisticRegression\n",
    "from sklearn.naive_bayes import GaussianNB\n",
    "from sklearn.neighbors import KNeighborsClassifier\n",
    "from sklearn.tree import DecisionTreeClassifier\n",
    "from sklearn.svm import SVC\n",
    "from sklearn.ensemble import RandomForestClassifier\n",
    "models = []\n",
    "models.append((\"Logistic Regression:\",LogisticRegression(max_iter=1000)))\n",
    "\n",
    "models.append((\"Naive Bayes:\",GaussianNB()))\n",
    "\n",
    "models.append((\"K-Nearest Neighbour:\",KNeighborsClassifier(n_neighbors=3)))\n",
    "\n",
    "models.append((\"Support Vector Machine-linear:\",SVC(kernel=\"linear\", C=2)))\n",
    "models.append((\"Support Vector Machine-poly:\",SVC(kernel=\"poly\", degree=3, C=1.5)))\n",
    "models.append((\"Support Vector Machine-rbf:\",SVC(kernel=\"rbf\", C=2)))\n",
    "\n",
    "models.append((\"Decision Tree:\",DecisionTreeClassifier()))\n",
    "models.append((\"Random Forest:\",RandomForestClassifier(n_estimators=50)))"
   ]
  },
  {
   "cell_type": "code",
   "execution_count": 75,
   "id": "52165bc8",
   "metadata": {
    "execution": {
     "iopub.execute_input": "2021-10-18T11:09:17.920204Z",
     "iopub.status.busy": "2021-10-18T11:09:17.919522Z",
     "iopub.status.idle": "2021-10-18T11:09:20.810020Z",
     "shell.execute_reply": "2021-10-18T11:09:20.810575Z",
     "shell.execute_reply.started": "2021-10-18T11:08:01.232718Z"
    },
    "papermill": {
     "duration": 3.021908,
     "end_time": "2021-10-18T11:09:20.810746",
     "exception": false,
     "start_time": "2021-10-18T11:09:17.788838",
     "status": "completed"
    },
    "tags": []
   },
   "outputs": [
    {
     "name": "stdout",
     "output_type": "stream",
     "text": [
      "Logistic Regression: 78.561797752809\n",
      "Naive Bayes: 74.06991260923846\n",
      "K-Nearest Neighbour: 79.68789013732834\n",
      "Support Vector Machine-linear: 78.67290886392009\n",
      "Support Vector Machine-poly: 82.26591760299625\n",
      "Support Vector Machine-rbf: 82.26466916354556\n",
      "Decision Tree: 80.24843945068663\n",
      "Random Forest: 81.14481897627964\n"
     ]
    }
   ],
   "source": [
    "results = []\n",
    "names = []\n",
    "\n",
    "for name, model in models:\n",
    "    kfold = KFold(n_splits=10, random_state=42, shuffle=True)\n",
    "    result = cross_val_score(model, X, y, cv=kfold, scoring=\"accuracy\")\n",
    "    names.append(name)\n",
    "    results.append(result)\n",
    "    \n",
    "\n",
    "\"\"\"model.fit(X_train, y_train)\n",
    "coss_val(model,X_train, y_train, cv=5)\n",
    "estimate_model(model, X_train, y_train, X_val, y_val)\n",
    "feature_importance(model)\"\"\"\n",
    "  \n",
    "for i in range(len(names)):\n",
    "    print(names[i],results[i].mean()*100)"
   ]
  },
  {
   "cell_type": "markdown",
   "id": "78433163",
   "metadata": {
    "papermill": {
     "duration": 0.122875,
     "end_time": "2021-10-18T11:09:21.057657",
     "exception": false,
     "start_time": "2021-10-18T11:09:20.934782",
     "status": "completed"
    },
    "tags": []
   },
   "source": [
    "Will choose the model with the heighest accuracy --> Support Vector Machine-poly\n"
   ]
  },
  {
   "cell_type": "code",
   "execution_count": 76,
   "id": "b835da91",
   "metadata": {
    "execution": {
     "iopub.execute_input": "2021-10-18T11:09:21.307283Z",
     "iopub.status.busy": "2021-10-18T11:09:21.306616Z",
     "iopub.status.idle": "2021-10-18T11:09:21.353913Z",
     "shell.execute_reply": "2021-10-18T11:09:21.353272Z",
     "shell.execute_reply.started": "2021-10-18T11:08:04.147661Z"
    },
    "papermill": {
     "duration": 0.17257,
     "end_time": "2021-10-18T11:09:21.354073",
     "exception": false,
     "start_time": "2021-10-18T11:09:21.181503",
     "status": "completed"
    },
    "tags": []
   },
   "outputs": [],
   "source": [
    "test[\"Survived\"] = SVC(kernel=\"poly\", degree=3, C=1.5).fit(X, y).predict(X_test)\n",
    "submission = test[[\"PassengerId\", \"Survived\"]]\n",
    "submission.to_csv('/kaggle/working/submission.csv', index=False)"
   ]
  },
  {
   "cell_type": "code",
   "execution_count": 77,
   "id": "4b6da2a3",
   "metadata": {
    "execution": {
     "iopub.execute_input": "2021-10-18T11:09:21.604672Z",
     "iopub.status.busy": "2021-10-18T11:09:21.603904Z",
     "iopub.status.idle": "2021-10-18T11:09:21.617510Z",
     "shell.execute_reply": "2021-10-18T11:09:21.618088Z",
     "shell.execute_reply.started": "2021-10-18T11:08:04.201226Z"
    },
    "papermill": {
     "duration": 0.140516,
     "end_time": "2021-10-18T11:09:21.618258",
     "exception": false,
     "start_time": "2021-10-18T11:09:21.477742",
     "status": "completed"
    },
    "tags": []
   },
   "outputs": [
    {
     "name": "stdout",
     "output_type": "stream",
     "text": [
      "Thr f1 score of  0.9437512233313761\n"
     ]
    }
   ],
   "source": [
    "from sklearn.metrics import f1_score\n",
    "\n",
    "real_y = pd.read_csv('/kaggle/input/titanic/gender_submission.csv')\n",
    "score = f1_score(real_y.Survived, test[\"Survived\"], average='macro')\n",
    "print(\"Thr f1 score of \",score)"
   ]
  }
 ],
 "metadata": {
  "kernelspec": {
   "display_name": "Python 3",
   "language": "python",
   "name": "python3"
  },
  "language_info": {
   "codemirror_mode": {
    "name": "ipython",
    "version": 3
   },
   "file_extension": ".py",
   "mimetype": "text/x-python",
   "name": "python",
   "nbconvert_exporter": "python",
   "pygments_lexer": "ipython3",
   "version": "3.7.10"
  },
  "papermill": {
   "default_parameters": {},
   "duration": 44.701374,
   "end_time": "2021-10-18T11:09:22.454294",
   "environment_variables": {},
   "exception": null,
   "input_path": "__notebook__.ipynb",
   "output_path": "__notebook__.ipynb",
   "parameters": {},
   "start_time": "2021-10-18T11:08:37.752920",
   "version": "2.3.3"
  }
 },
 "nbformat": 4,
 "nbformat_minor": 5
}
